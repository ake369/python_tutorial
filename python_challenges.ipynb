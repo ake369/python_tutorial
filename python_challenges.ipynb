{
 "cells": [
  {
   "cell_type": "markdown",
   "metadata": {},
   "source": [
    "- **Python Medium level challenges**"
   ]
  },
  {
   "cell_type": "markdown",
   "metadata": {},
   "source": [
    "- **Problem - 1:**\n",
    "- *You are given two strings word1 and word2. Merge the strings by adding letters in alternating order, starting with word1. If a string is longer than the other, append the additional letters onto the end of the merged string.*\n",
    "- *Return the merged string.*"
   ]
  },
  {
   "cell_type": "code",
   "execution_count": 57,
   "metadata": {},
   "outputs": [],
   "source": [
    "#Two pointers approach\n",
    "def mergeAlternatively(word1,word2):\n",
    "    m = len(word1)\n",
    "    n = len(word2)\n",
    "    k = max(m,n)\n",
    "    result = []\n",
    "    for i in range(k+1):\n",
    "        if i < m:\n",
    "            result += word1[i]\n",
    "        if i < n:\n",
    "            result += word2[i]\n",
    "            i+=1\n",
    "    return \"\".join(result)"
   ]
  },
  {
   "cell_type": "code",
   "execution_count": 58,
   "metadata": {},
   "outputs": [
    {
     "data": {
      "text/plain": [
       "'msywleoevteheart'"
      ]
     },
     "execution_count": 58,
     "metadata": {},
     "output_type": "execute_result"
    }
   ],
   "source": [
    "mergeAlternatively(word1='mylove',word2='sweetheart')"
   ]
  },
  {
   "cell_type": "code",
   "execution_count": 5,
   "metadata": {},
   "outputs": [],
   "source": [
    "# Single pointer approach\n",
    "class Solution(object):\n",
    "    def mergeAlternately(self, word1, word2):\n",
    "        result = []\n",
    "        n = max(len(word1), len(word2))\n",
    "        for i in range(n):\n",
    "            if i < len(word1):\n",
    "                result += word1[i]\n",
    "            if i < len(word2):\n",
    "                result += word2[i]\n",
    "\n",
    "        return \"\".join(result)"
   ]
  },
  {
   "cell_type": "code",
   "execution_count": 6,
   "metadata": {},
   "outputs": [
    {
     "data": {
      "text/plain": [
       "'msywleoevteheart'"
      ]
     },
     "execution_count": 6,
     "metadata": {},
     "output_type": "execute_result"
    }
   ],
   "source": [
    "Solution().mergeAlternately(word1='mylove',word2='sweetheart')"
   ]
  },
  {
   "cell_type": "markdown",
   "metadata": {},
   "source": [
    "A fuction to reverse a string"
   ]
  },
  {
   "cell_type": "code",
   "execution_count": 17,
   "metadata": {},
   "outputs": [],
   "source": [
    "def reveseStr(word):\n",
    "    n = len(word)\n",
    "    result = []\n",
    "    for i in range(-1,-n-1,-1):\n",
    "        result  += word[i]\n",
    "        i -= 1\n",
    "    return \"\".join(result)"
   ]
  },
  {
   "cell_type": "code",
   "execution_count": 18,
   "metadata": {},
   "outputs": [
    {
     "data": {
      "text/plain": [
       "'evol'"
      ]
     },
     "execution_count": 18,
     "metadata": {},
     "output_type": "execute_result"
    }
   ],
   "source": [
    "reveseStr(word='love')"
   ]
  },
  {
   "cell_type": "code",
   "execution_count": 16,
   "metadata": {},
   "outputs": [
    {
     "data": {
      "text/plain": [
       "[-1, -2, -3, -4]"
      ]
     },
     "execution_count": 16,
     "metadata": {},
     "output_type": "execute_result"
    }
   ],
   "source": [
    "list(range(-1,-5,-1))"
   ]
  },
  {
   "cell_type": "markdown",
   "metadata": {},
   "source": [
    "**Challenge Number 2**\n",
    "- Given an input string s, reverse the order of the words.\n",
    "- A word is defined as a sequence of non-space characters. \n",
    "- The words in s will be separated by at least one space.\n",
    "\n",
    "- Return a string of the words in reverse order concatenated by a single space.\n",
    "- Note that s may contain leading or trailing spaces or multiple spaces between two words. \n",
    "- The returned string should only have a single space separating the words. \n",
    "- Do not include any extra spaces."
   ]
  },
  {
   "cell_type": "code",
   "execution_count": 23,
   "metadata": {},
   "outputs": [],
   "source": [
    "s = \"string of the words in reverse order\"\n",
    "r = s.split()"
   ]
  },
  {
   "cell_type": "code",
   "execution_count": 20,
   "metadata": {},
   "outputs": [
    {
     "data": {
      "text/plain": [
       "['string', 'of', 'the', 'words', 'in', 'reverse', 'order']"
      ]
     },
     "execution_count": 20,
     "metadata": {},
     "output_type": "execute_result"
    }
   ],
   "source": [
    "r"
   ]
  },
  {
   "cell_type": "code",
   "execution_count": 41,
   "metadata": {},
   "outputs": [],
   "source": [
    "class Solution(object):\n",
    "    def reverseWords(self, s):\n",
    "        \"\"\"\n",
    "        :type s: str\n",
    "        :rtype: str\n",
    "        \"\"\"\n",
    "        r = s.split()\n",
    "        n =len(r)\n",
    "        result = []\n",
    "        for i in range(-1,-n-1,-1):\n",
    "            result.append(r[i])\n",
    "        return \" \".join(result)"
   ]
  },
  {
   "cell_type": "code",
   "execution_count": 43,
   "metadata": {},
   "outputs": [
    {
     "data": {
      "text/plain": [
       "'world the in mother best the is mom my'"
      ]
     },
     "execution_count": 43,
     "metadata": {},
     "output_type": "execute_result"
    }
   ],
   "source": [
    "Solution().reverseWords(s='my mom is the best mother in the world')"
   ]
  },
  {
   "cell_type": "markdown",
   "metadata": {},
   "source": [
    "Merge strings alternatively"
   ]
  },
  {
   "cell_type": "code",
   "execution_count": 46,
   "metadata": {},
   "outputs": [],
   "source": [
    "class merge():\n",
    "    def mergAlt(self,word1,word2):\n",
    "        n = len(word1)\n",
    "        m = len(word2)\n",
    "        r = max(m,n)\n",
    "        merged = []\n",
    "        for i in range(r+1):\n",
    "            if i < n:\n",
    "                merged += word1[i]\n",
    "            if i < m:\n",
    "                merged += word2[i]\n",
    "                i += 1\n",
    "        return \"\".join(merged)\n"
   ]
  },
  {
   "cell_type": "code",
   "execution_count": 52,
   "metadata": {},
   "outputs": [
    {
     "data": {
      "text/plain": [
       "'esawteetheart'"
      ]
     },
     "execution_count": 52,
     "metadata": {},
     "output_type": "execute_result"
    }
   ],
   "source": [
    "merge().mergAlt(word1='eat',word2='sweetheart')"
   ]
  },
  {
   "cell_type": "markdown",
   "metadata": {},
   "source": [
    "- For two strings s and t, we say \"t divides s\" if and only if s = t + t + t + ... + t + t (i.e., t is concatenated with itself one or more times).\n",
    "- Given two strings str1 and str2, return the largest string x such that x divides both str1 and str2.\n",
    "- *Example 1:*\n",
    "- Input: str1 = \"ABCABC\", str2 = \"ABC\"\n",
    "- Output: \"ABC\""
   ]
  },
  {
   "cell_type": "code",
   "execution_count": 75,
   "metadata": {},
   "outputs": [],
   "source": [
    "class Solution(object):\n",
    "    def gcd(self,a,b):\n",
    "        while b:\n",
    "            a,b = b, a%b\n",
    "        return a\n",
    "    def gcdOfStrings(self, str1, str2):\n",
    "        \"\"\"\n",
    "        :type str1: str\n",
    "        :type str2: str\n",
    "        :rtype: str\n",
    "        \"\"\"\n",
    "        n = len(str1)\n",
    "        m = len(str2)\n",
    "        gcd_len = self.gcd(n,m)\n",
    "        gcd_str= str1[:gcd_len]\n",
    "        if str1 == gcd_str*(n//gcd_len) and str2 == gcd_str*(m//gcd_len):\n",
    "            return gcd_str\n",
    "        return \"\"\n",
    "\n",
    "        "
   ]
  },
  {
   "cell_type": "code",
   "execution_count": 81,
   "metadata": {},
   "outputs": [
    {
     "data": {
      "text/plain": [
       "'ABCde'"
      ]
     },
     "execution_count": 81,
     "metadata": {},
     "output_type": "execute_result"
    }
   ],
   "source": [
    "Solution().gcdOfStrings(str1 = 'ABCdeABCde', str2='ABCde')"
   ]
  },
  {
   "cell_type": "markdown",
   "metadata": {},
   "source": [
    "- **Find the Maximum Factor Score of Array (Medium level challenge)**\n",
    "- You are given an integer array nums.\n",
    "- The factor score of an array is defined as the product of the LCM and GCD of all elements of that array.\n",
    "- Return the maximum factor score of nums after removing at most one element from it.\n",
    "- Note that both the LCM and GCD of a single number are the number itself, and the factor score of an empty array is 0.\n",
    "- *Example 1:*\n",
    "- Input: nums = [2,4,8,16]\n",
    "- Output: 64\n",
    "\n",
    "- *Explanation:*\n",
    "*On removing 2, the GCD of the rest of the elements is 4 while the LCM is 16, which gives a maximum factor score of 4 * 16 = 64.*\n",
    "\n",
    "- *Example 2:*\n",
    "- Input: nums = [1,2,3,4,5]\n",
    "- Output: 60"
   ]
  },
  {
   "cell_type": "code",
   "execution_count": 116,
   "metadata": {},
   "outputs": [],
   "source": [
    "class MySolution():\n",
    "    def gcd(self, a,b):\n",
    "        while b:\n",
    "            a,b = b, a%b\n",
    "        return a\n",
    "    def lcm(self, a,b):\n",
    "        return (a*b)//(self.gcd(a,b))\n",
    "    def gcd_arr(self,nums):\n",
    "        if len(nums)==1:\n",
    "            res = nums[0]\n",
    "        elif len(nums)==2:\n",
    "            res = nums[1]\n",
    "        else:\n",
    "            arr = nums[1]\n",
    "            for i in nums[2:]:\n",
    "                res = self.gcd(arr,i)\n",
    "        return res\n",
    "    def lcm_arr(self, nums):\n",
    "        if len(nums)==1:\n",
    "            results = nums[0]\n",
    "        elif len(nums)==2:\n",
    "            results = nums[1]\n",
    "        else:\n",
    "            results = nums[1]\n",
    "            for i in nums[2:]:\n",
    "                results = self.lcm(results,i)\n",
    "        return results\n",
    "    def productOfLcmGCM(self, nums):\n",
    "        lcm_res = self.lcm_arr(nums)\n",
    "        gcm_res = self.gcd_arr(nums)\n",
    "        return lcm_res*gcm_res\n",
    "    \n",
    "        \n"
   ]
  },
  {
   "cell_type": "code",
   "execution_count": 117,
   "metadata": {},
   "outputs": [
    {
     "data": {
      "text/plain": [
       "60"
      ]
     },
     "execution_count": 117,
     "metadata": {},
     "output_type": "execute_result"
    }
   ],
   "source": [
    "#MySolution().productOfLcmGCM([2,4,8,16])\n",
    "MySolution().productOfLcmGCM([1,2,3,4,5])"
   ]
  },
  {
   "cell_type": "code",
   "execution_count": 118,
   "metadata": {},
   "outputs": [
    {
     "data": {
      "text/plain": [
       "9"
      ]
     },
     "execution_count": 118,
     "metadata": {},
     "output_type": "execute_result"
    }
   ],
   "source": [
    "MySolution().productOfLcmGCM([3])"
   ]
  },
  {
   "cell_type": "code",
   "execution_count": 93,
   "metadata": {},
   "outputs": [
    {
     "data": {
      "text/plain": [
       "60"
      ]
     },
     "execution_count": 93,
     "metadata": {},
     "output_type": "execute_result"
    }
   ],
   "source": [
    "MySolution().lcm_arr([1,2,3,4,5])"
   ]
  },
  {
   "cell_type": "code",
   "execution_count": null,
   "metadata": {},
   "outputs": [],
   "source": [
    "#MySolution().productOfLcmGCM([2,4,8,16])\n",
    "MySolution().productOfLcmGCM([3])"
   ]
  },
  {
   "cell_type": "markdown",
   "metadata": {},
   "source": [
    "- *You have a long flowerbed in which some of the plots are planted, and some are not. However, flowers cannot be planted in adjacent plots.*\n",
    "\n",
    "- Given an integer array flowerbed containing 0's and 1's, where 0 means empty and 1 means not empty, and an integer n, return true if n new flowers can be planted in the flowerbed without violating the no-adjacent-flowers rule and false otherwise.*\n",
    "\n",
    "* *Example 1:*\n",
    "```python\n",
    "Input: flowerbed = [1,0,0,0,1], n = 1\n",
    "Output: true\n",
    "```\n",
    "* *Example 2:*\n",
    "```python\n",
    "Input: flowerbed = [1,0,0,0,1], n = 2\n",
    "Output: false\n",
    "```"
   ]
  },
  {
   "cell_type": "code",
   "execution_count": null,
   "metadata": {},
   "outputs": [],
   "source": []
  }
 ],
 "metadata": {
  "kernelspec": {
   "display_name": ".venv",
   "language": "python",
   "name": "python3"
  },
  "language_info": {
   "codemirror_mode": {
    "name": "ipython",
    "version": 3
   },
   "file_extension": ".py",
   "mimetype": "text/x-python",
   "name": "python",
   "nbconvert_exporter": "python",
   "pygments_lexer": "ipython3",
   "version": "3.12.6"
  }
 },
 "nbformat": 4,
 "nbformat_minor": 2
}
