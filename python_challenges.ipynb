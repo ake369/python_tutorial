{
 "cells": [
  {
   "cell_type": "markdown",
   "metadata": {},
   "source": [
    "- **Python Medium level challenges**"
   ]
  },
  {
   "cell_type": "markdown",
   "metadata": {},
   "source": [
    "- **Problem - 1:**\n",
    "- *You are given two strings word1 and word2. Merge the strings by adding letters in alternating order, starting with word1. If a string is longer than the other, append the additional letters onto the end of the merged string.*\n",
    "- *Return the merged string.*"
   ]
  },
  {
   "cell_type": "code",
   "execution_count": 57,
   "metadata": {},
   "outputs": [],
   "source": [
    "#Two pointers approach\n",
    "def mergeAlternatively(word1,word2):\n",
    "    m = len(word1)\n",
    "    n = len(word2)\n",
    "    k = max(m,n)\n",
    "    result = []\n",
    "    for i in range(k+1):\n",
    "        if i < m:\n",
    "            result += word1[i]\n",
    "        if i < n:\n",
    "            result += word2[i]\n",
    "            i+=1\n",
    "    return \"\".join(result)"
   ]
  },
  {
   "cell_type": "code",
   "execution_count": 58,
   "metadata": {},
   "outputs": [
    {
     "data": {
      "text/plain": [
       "'msywleoevteheart'"
      ]
     },
     "execution_count": 58,
     "metadata": {},
     "output_type": "execute_result"
    }
   ],
   "source": [
    "mergeAlternatively(word1='mylove',word2='sweetheart')"
   ]
  },
  {
   "cell_type": "code",
   "execution_count": 5,
   "metadata": {},
   "outputs": [],
   "source": [
    "# Single pointer approach\n",
    "class Solution(object):\n",
    "    def mergeAlternately(self, word1, word2):\n",
    "        result = []\n",
    "        n = max(len(word1), len(word2))\n",
    "        for i in range(n):\n",
    "            if i < len(word1):\n",
    "                result += word1[i]\n",
    "            if i < len(word2):\n",
    "                result += word2[i]\n",
    "\n",
    "        return \"\".join(result)"
   ]
  },
  {
   "cell_type": "code",
   "execution_count": 6,
   "metadata": {},
   "outputs": [
    {
     "data": {
      "text/plain": [
       "'msywleoevteheart'"
      ]
     },
     "execution_count": 6,
     "metadata": {},
     "output_type": "execute_result"
    }
   ],
   "source": [
    "Solution().mergeAlternately(word1='mylove',word2='sweetheart')"
   ]
  },
  {
   "cell_type": "markdown",
   "metadata": {},
   "source": [
    "A fuction to reverse a string"
   ]
  },
  {
   "cell_type": "code",
   "execution_count": 17,
   "metadata": {},
   "outputs": [],
   "source": [
    "def reveseStr(word):\n",
    "    n = len(word)\n",
    "    result = []\n",
    "    for i in range(-1,-n-1,-1):\n",
    "        result  += word[i]\n",
    "        i -= 1\n",
    "    return \"\".join(result)"
   ]
  },
  {
   "cell_type": "code",
   "execution_count": 18,
   "metadata": {},
   "outputs": [
    {
     "data": {
      "text/plain": [
       "'evol'"
      ]
     },
     "execution_count": 18,
     "metadata": {},
     "output_type": "execute_result"
    }
   ],
   "source": [
    "reveseStr(word='love')"
   ]
  },
  {
   "cell_type": "code",
   "execution_count": 16,
   "metadata": {},
   "outputs": [
    {
     "data": {
      "text/plain": [
       "[-1, -2, -3, -4]"
      ]
     },
     "execution_count": 16,
     "metadata": {},
     "output_type": "execute_result"
    }
   ],
   "source": [
    "list(range(-1,-5,-1))"
   ]
  },
  {
   "cell_type": "markdown",
   "metadata": {},
   "source": [
    "**Challenge Number 2**\n",
    "- Given an input string s, reverse the order of the words.\n",
    "- A word is defined as a sequence of non-space characters. \n",
    "- The words in s will be separated by at least one space.\n",
    "\n",
    "- Return a string of the words in reverse order concatenated by a single space.\n",
    "- Note that s may contain leading or trailing spaces or multiple spaces between two words. \n",
    "- The returned string should only have a single space separating the words. \n",
    "- Do not include any extra spaces."
   ]
  },
  {
   "cell_type": "code",
   "execution_count": 23,
   "metadata": {},
   "outputs": [],
   "source": [
    "s = \"string of the words in reverse order\"\n",
    "r = s.split()"
   ]
  },
  {
   "cell_type": "code",
   "execution_count": 20,
   "metadata": {},
   "outputs": [
    {
     "data": {
      "text/plain": [
       "['string', 'of', 'the', 'words', 'in', 'reverse', 'order']"
      ]
     },
     "execution_count": 20,
     "metadata": {},
     "output_type": "execute_result"
    }
   ],
   "source": [
    "r"
   ]
  },
  {
   "cell_type": "code",
   "execution_count": 41,
   "metadata": {},
   "outputs": [],
   "source": [
    "class Solution(object):\n",
    "    def reverseWords(self, s):\n",
    "        \"\"\"\n",
    "        :type s: str\n",
    "        :rtype: str\n",
    "        \"\"\"\n",
    "        r = s.split()\n",
    "        n =len(r)\n",
    "        result = []\n",
    "        for i in range(-1,-n-1,-1):\n",
    "            result.append(r[i])\n",
    "        return \" \".join(result)"
   ]
  },
  {
   "cell_type": "code",
   "execution_count": 43,
   "metadata": {},
   "outputs": [
    {
     "data": {
      "text/plain": [
       "'world the in mother best the is mom my'"
      ]
     },
     "execution_count": 43,
     "metadata": {},
     "output_type": "execute_result"
    }
   ],
   "source": [
    "Solution().reverseWords(s='my mom is the best mother in the world')"
   ]
  },
  {
   "cell_type": "markdown",
   "metadata": {},
   "source": [
    "Merge strings alternatively"
   ]
  },
  {
   "cell_type": "code",
   "execution_count": 46,
   "metadata": {},
   "outputs": [],
   "source": [
    "class merge():\n",
    "    def mergAlt(self,word1,word2):\n",
    "        n = len(word1)\n",
    "        m = len(word2)\n",
    "        r = max(m,n)\n",
    "        merged = []\n",
    "        for i in range(r+1):\n",
    "            if i < n:\n",
    "                merged += word1[i]\n",
    "            if i < m:\n",
    "                merged += word2[i]\n",
    "                i += 1\n",
    "        return \"\".join(merged)\n"
   ]
  },
  {
   "cell_type": "code",
   "execution_count": 52,
   "metadata": {},
   "outputs": [
    {
     "data": {
      "text/plain": [
       "'esawteetheart'"
      ]
     },
     "execution_count": 52,
     "metadata": {},
     "output_type": "execute_result"
    }
   ],
   "source": [
    "merge().mergAlt(word1='eat',word2='sweetheart')"
   ]
  },
  {
   "cell_type": "markdown",
   "metadata": {},
   "source": [
    "- For two strings s and t, we say \"t divides s\" if and only if s = t + t + t + ... + t + t (i.e., t is concatenated with itself one or more times).\n",
    "- Given two strings str1 and str2, return the largest string x such that x divides both str1 and str2.\n",
    "- *Example 1:*\n",
    "- Input: str1 = \"ABCABC\", str2 = \"ABC\"\n",
    "- Output: \"ABC\""
   ]
  },
  {
   "cell_type": "code",
   "execution_count": 75,
   "metadata": {},
   "outputs": [],
   "source": [
    "class Solution(object):\n",
    "    def gcd(self,a,b):\n",
    "        while b:\n",
    "            a,b = b, a%b\n",
    "        return a\n",
    "    def gcdOfStrings(self, str1, str2):\n",
    "        \"\"\"\n",
    "        :type str1: str\n",
    "        :type str2: str\n",
    "        :rtype: str\n",
    "        \"\"\"\n",
    "        n = len(str1)\n",
    "        m = len(str2)\n",
    "        gcd_len = self.gcd(n,m)\n",
    "        gcd_str= str1[:gcd_len]\n",
    "        if str1 == gcd_str*(n//gcd_len) and str2 == gcd_str*(m//gcd_len):\n",
    "            return gcd_str\n",
    "        return \"\"\n",
    "\n",
    "        "
   ]
  },
  {
   "cell_type": "code",
   "execution_count": 81,
   "metadata": {},
   "outputs": [
    {
     "data": {
      "text/plain": [
       "'ABCde'"
      ]
     },
     "execution_count": 81,
     "metadata": {},
     "output_type": "execute_result"
    }
   ],
   "source": [
    "Solution().gcdOfStrings(str1 = 'ABCdeABCde', str2='ABCde')"
   ]
  },
  {
   "cell_type": "markdown",
   "metadata": {},
   "source": [
    "- **Find the Maximum Factor Score of Array (Medium level challenge)**\n",
    "- You are given an integer array nums.\n",
    "- The factor score of an array is defined as the product of the LCM and GCD of all elements of that array.\n",
    "- Return the maximum factor score of nums after removing at most one element from it.\n",
    "- Note that both the LCM and GCD of a single number are the number itself, and the factor score of an empty array is 0.\n",
    "- *Example 1:*\n",
    "- Input: nums = [2,4,8,16]\n",
    "- Output: 64\n",
    "\n",
    "- *Explanation:*\n",
    "*On removing 2, the GCD of the rest of the elements is 4 while the LCM is 16, which gives a maximum factor score of 4 * 16 = 64.*\n",
    "\n",
    "- *Example 2:*\n",
    "- Input: nums = [1,2,3,4,5]\n",
    "- Output: 60"
   ]
  },
  {
   "cell_type": "code",
   "execution_count": null,
   "metadata": {},
   "outputs": [],
   "source": [
    "class MySolution():\n",
    "    def gcd(self, a,b):\n",
    "        while b:\n",
    "            a,b = b, a%b\n",
    "        return a\n",
    "    def lcm(self, a,b):\n",
    "        return (a*b)//(self.gcd(a,b))\n",
    "    def checknum(self, nums):\n",
    "        if len(nums)==1:\n",
    "            gcd_res = nums[0]\n",
    "            lcm_res = nums[0]\n",
    "            return gcd_res*lcm_res\n",
    "        elif len(self,nums) == 2:\n",
    "            gcd_res = nums[1]\n",
    "            lcm_res = nums[2]\n",
    "            return gcd_res*lcm_res\n",
    "        else:\n",
    "            def gcd_arr(self,nums):\n",
    "                arr = nums[1]\n",
    "                for i in nums[2:]:\n",
    "                    res = self.gcd(arr,i)\n",
    "                return res\n",
    "            def lcm_arr(self, nums):\n",
    "                results = nums[1]\n",
    "                for i in nums[2:]:\n",
    "                    results = self.lcm(results,i)\n",
    "                return results\n",
    "            def productOfLcmGCM(self, nums):\n",
    "                lcm_res = self.lcm_arr(nums)\n",
    "                gcm_res = self.gcd_arr(nums)\n",
    "                return lcm_res*gcm_res\n",
    "    \n",
    "        \n"
   ]
  },
  {
   "cell_type": "code",
   "execution_count": 92,
   "metadata": {},
   "outputs": [
    {
     "data": {
      "text/plain": [
       "60"
      ]
     },
     "execution_count": 92,
     "metadata": {},
     "output_type": "execute_result"
    }
   ],
   "source": [
    "#MySolution().productOfLcmGCM([2,4,8,16])\n",
    "MySolution().productOfLcmGCM([1,2,3,4,5])"
   ]
  },
  {
   "cell_type": "code",
   "execution_count": 95,
   "metadata": {},
   "outputs": [
    {
     "ename": "IndexError",
     "evalue": "list index out of range",
     "output_type": "error",
     "traceback": [
      "\u001b[1;31m---------------------------------------------------------------------------\u001b[0m",
      "\u001b[1;31mIndexError\u001b[0m                                Traceback (most recent call last)",
      "Cell \u001b[1;32mIn[95], line 2\u001b[0m\n\u001b[0;32m      1\u001b[0m \u001b[38;5;66;03m#MySolution().productOfLcmGCM([2,4,8,16])\u001b[39;00m\n\u001b[1;32m----> 2\u001b[0m \u001b[43mMySolution\u001b[49m\u001b[43m(\u001b[49m\u001b[43m)\u001b[49m\u001b[38;5;241;43m.\u001b[39;49m\u001b[43mproductOfLcmGCM\u001b[49m\u001b[43m(\u001b[49m\u001b[43m[\u001b[49m\u001b[38;5;241;43m3\u001b[39;49m\u001b[43m]\u001b[49m\u001b[43m)\u001b[49m\n",
      "Cell \u001b[1;32mIn[91], line 19\u001b[0m, in \u001b[0;36mMySolution.productOfLcmGCM\u001b[1;34m(self, nums)\u001b[0m\n\u001b[0;32m     18\u001b[0m \u001b[38;5;28;01mdef\u001b[39;00m\u001b[38;5;250m \u001b[39m\u001b[38;5;21mproductOfLcmGCM\u001b[39m(\u001b[38;5;28mself\u001b[39m, nums):\n\u001b[1;32m---> 19\u001b[0m     lcm_res \u001b[38;5;241m=\u001b[39m \u001b[38;5;28;43mself\u001b[39;49m\u001b[38;5;241;43m.\u001b[39;49m\u001b[43mlcm_arr\u001b[49m\u001b[43m(\u001b[49m\u001b[43mnums\u001b[49m\u001b[43m)\u001b[49m\n\u001b[0;32m     20\u001b[0m     gcm_res \u001b[38;5;241m=\u001b[39m \u001b[38;5;28mself\u001b[39m\u001b[38;5;241m.\u001b[39mgcd_arr(nums)\n\u001b[0;32m     21\u001b[0m     \u001b[38;5;28;01mreturn\u001b[39;00m lcm_res\u001b[38;5;241m*\u001b[39mgcm_res\n",
      "Cell \u001b[1;32mIn[91], line 14\u001b[0m, in \u001b[0;36mMySolution.lcm_arr\u001b[1;34m(self, nums)\u001b[0m\n\u001b[0;32m     13\u001b[0m \u001b[38;5;28;01mdef\u001b[39;00m\u001b[38;5;250m \u001b[39m\u001b[38;5;21mlcm_arr\u001b[39m(\u001b[38;5;28mself\u001b[39m, nums):\n\u001b[1;32m---> 14\u001b[0m     results \u001b[38;5;241m=\u001b[39m \u001b[43mnums\u001b[49m\u001b[43m[\u001b[49m\u001b[38;5;241;43m1\u001b[39;49m\u001b[43m]\u001b[49m\n\u001b[0;32m     15\u001b[0m     \u001b[38;5;28;01mfor\u001b[39;00m i \u001b[38;5;129;01min\u001b[39;00m nums[\u001b[38;5;241m2\u001b[39m:]:\n\u001b[0;32m     16\u001b[0m         results \u001b[38;5;241m=\u001b[39m \u001b[38;5;28mself\u001b[39m\u001b[38;5;241m.\u001b[39mlcm(results,i)\n",
      "\u001b[1;31mIndexError\u001b[0m: list index out of range"
     ]
    }
   ],
   "source": [
    "#MySolution().productOfLcmGCM([2,4,8,16])\n",
    "MySolution().productOfLcmGCM([3])"
   ]
  },
  {
   "cell_type": "code",
   "execution_count": 93,
   "metadata": {},
   "outputs": [
    {
     "data": {
      "text/plain": [
       "60"
      ]
     },
     "execution_count": 93,
     "metadata": {},
     "output_type": "execute_result"
    }
   ],
   "source": [
    "MySolution().lcm_arr([1,2,3,4,5])"
   ]
  },
  {
   "cell_type": "code",
   "execution_count": null,
   "metadata": {},
   "outputs": [],
   "source": []
  }
 ],
 "metadata": {
  "kernelspec": {
   "display_name": ".venv",
   "language": "python",
   "name": "python3"
  },
  "language_info": {
   "codemirror_mode": {
    "name": "ipython",
    "version": 3
   },
   "file_extension": ".py",
   "mimetype": "text/x-python",
   "name": "python",
   "nbconvert_exporter": "python",
   "pygments_lexer": "ipython3",
   "version": "3.12.6"
  }
 },
 "nbformat": 4,
 "nbformat_minor": 2
}
