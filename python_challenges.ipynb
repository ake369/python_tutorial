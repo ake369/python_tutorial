{
 "cells": [
  {
   "cell_type": "markdown",
   "metadata": {},
   "source": [
    "- **Python Medium level challenges**"
   ]
  },
  {
   "cell_type": "markdown",
   "metadata": {},
   "source": [
    "- **Problem - 1:**\n",
    "- *You are given two strings word1 and word2. Merge the strings by adding letters in alternating order, starting with word1. If a string is longer than the other, append the additional letters onto the end of the merged string.*\n",
    "- *Return the merged string.*"
   ]
  },
  {
   "cell_type": "code",
   "execution_count": 3,
   "metadata": {},
   "outputs": [],
   "source": [
    "#Two pointers approach\n",
    "def mergeAlternatively(word1,word2):\n",
    "    m = len(word1)\n",
    "    n = len(word2)\n",
    "    i = 0\n",
    "    j = 0\n",
    "    result = []\n",
    "    while i < m or j < m:\n",
    "        if i < m:\n",
    "            result += word1[i]\n",
    "            i+=1\n",
    "        if j < n:\n",
    "            result += word2[j]\n",
    "            j+=1\n",
    "    return \"\".join(result)\n",
    "\n"
   ]
  },
  {
   "cell_type": "code",
   "execution_count": 4,
   "metadata": {},
   "outputs": [
    {
     "data": {
      "text/plain": [
       "'msywleoevteh'"
      ]
     },
     "execution_count": 4,
     "metadata": {},
     "output_type": "execute_result"
    }
   ],
   "source": [
    "mergeAlternatively(word1='mylove',word2='sweetheart')"
   ]
  },
  {
   "cell_type": "code",
   "execution_count": 5,
   "metadata": {},
   "outputs": [],
   "source": [
    "# Single pointer approach\n",
    "class Solution(object):\n",
    "    def mergeAlternately(self, word1, word2):\n",
    "        result = []\n",
    "        n = max(len(word1), len(word2))\n",
    "        for i in range(n):\n",
    "            if i < len(word1):\n",
    "                result += word1[i]\n",
    "            if i < len(word2):\n",
    "                result += word2[i]\n",
    "\n",
    "        return \"\".join(result)"
   ]
  },
  {
   "cell_type": "code",
   "execution_count": 6,
   "metadata": {},
   "outputs": [
    {
     "data": {
      "text/plain": [
       "'msywleoevteheart'"
      ]
     },
     "execution_count": 6,
     "metadata": {},
     "output_type": "execute_result"
    }
   ],
   "source": [
    "Solution().mergeAlternately(word1='mylove',word2='sweetheart')"
   ]
  },
  {
   "cell_type": "code",
   "execution_count": 2,
   "metadata": {},
   "outputs": [
    {
     "data": {
      "text/html": [
       "<pre style=\"white-space:pre;overflow-x:auto;line-height:normal;font-family:Menlo,'DejaVu Sans Mono',consolas,'Courier New',monospace\">╭──────────────────────────────────────────────── skimpy summary ─────────────────────────────────────────────────╮\n",
       "│ <span style=\"font-style: italic\">         Data Summary         </span> <span style=\"font-style: italic\">      Data Types       </span> <span style=\"font-style: italic\">       Categories        </span>                                │\n",
       "│ ┏━━━━━━━━━━━━━━━━━━━┳━━━━━━━━┓ ┏━━━━━━━━━━━━━┳━━━━━━━┓ ┏━━━━━━━━━━━━━━━━━━━━━━━┓                                │\n",
       "│ ┃<span style=\"color: #008080; text-decoration-color: #008080; font-weight: bold\"> Dataframe         </span>┃<span style=\"color: #008080; text-decoration-color: #008080; font-weight: bold\"> Values </span>┃ ┃<span style=\"color: #008080; text-decoration-color: #008080; font-weight: bold\"> Column Type </span>┃<span style=\"color: #008080; text-decoration-color: #008080; font-weight: bold\"> Count </span>┃ ┃<span style=\"color: #008080; text-decoration-color: #008080; font-weight: bold\"> Categorical Variables </span>┃                                │\n",
       "│ ┡━━━━━━━━━━━━━━━━━━━╇━━━━━━━━┩ ┡━━━━━━━━━━━━━╇━━━━━━━┩ ┡━━━━━━━━━━━━━━━━━━━━━━━┩                                │\n",
       "│ │ Number of rows    │ 1000   │ │ float64     │ 3     │ │ class                 │                                │\n",
       "│ │ Number of columns │ 13     │ │ category    │ 2     │ │ location              │                                │\n",
       "│ └───────────────────┴────────┘ │ object      │ 2     │ └───────────────────────┘                                │\n",
       "│                                │ datetime64  │ 2     │                                                          │\n",
       "│                                │ bool        │ 1     │                                                          │\n",
       "│                                │ int64       │ 1     │                                                          │\n",
       "│                                │ string      │ 1     │                                                          │\n",
       "│                                │ timedelta64 │ 1     │                                                          │\n",
       "│                                └─────────────┴───────┘                                                          │\n",
       "│ <span style=\"font-style: italic\">                                                    number                                                    </span>  │\n",
       "│ ┏━━━━━━━━━┳━━━━━━┳━━━━━━━┳━━━━━━━━━━━┳━━━━━━━━━┳━━━━━━━━━━━━┳━━━━━━━━━┳━━━━━━━━━━━━┳━━━━━━━━┳━━━━━━━┳━━━━━━━━┓  │\n",
       "│ ┃<span style=\"font-weight: bold\"> column  </span>┃<span style=\"font-weight: bold\"> NA   </span>┃<span style=\"font-weight: bold\"> NA %  </span>┃<span style=\"font-weight: bold\"> mean      </span>┃<span style=\"font-weight: bold\"> sd      </span>┃<span style=\"font-weight: bold\"> p0         </span>┃<span style=\"font-weight: bold\"> p25     </span>┃<span style=\"font-weight: bold\"> p50        </span>┃<span style=\"font-weight: bold\"> p75    </span>┃<span style=\"font-weight: bold\"> p100  </span>┃<span style=\"font-weight: bold\"> hist   </span>┃  │\n",
       "│ ┡━━━━━━━━━╇━━━━━━╇━━━━━━━╇━━━━━━━━━━━╇━━━━━━━━━╇━━━━━━━━━━━━╇━━━━━━━━━╇━━━━━━━━━━━━╇━━━━━━━━╇━━━━━━━╇━━━━━━━━┩  │\n",
       "│ │ <span style=\"color: #af87ff; text-decoration-color: #af87ff\">length </span> │ <span style=\"color: #008080; text-decoration-color: #008080\">   0</span> │ <span style=\"color: #008080; text-decoration-color: #008080\">    0</span> │ <span style=\"color: #008080; text-decoration-color: #008080\">   0.5016</span> │ <span style=\"color: #008080; text-decoration-color: #008080\"> 0.3597</span> │ <span style=\"color: #008080; text-decoration-color: #008080\"> 1.573e-06</span> │ <span style=\"color: #008080; text-decoration-color: #008080\">  0.134</span> │ <span style=\"color: #008080; text-decoration-color: #008080\">    0.4976</span> │ <span style=\"color: #008080; text-decoration-color: #008080\">0.8602</span> │ <span style=\"color: #008080; text-decoration-color: #008080\">    1</span> │ <span style=\"color: #008000; text-decoration-color: #008000\">▇▃▃▃▅▇</span> │  │\n",
       "│ │ <span style=\"color: #af87ff; text-decoration-color: #af87ff\">width  </span> │ <span style=\"color: #008080; text-decoration-color: #008080\">   0</span> │ <span style=\"color: #008080; text-decoration-color: #008080\">    0</span> │ <span style=\"color: #008080; text-decoration-color: #008080\">    2.037</span> │ <span style=\"color: #008080; text-decoration-color: #008080\">  1.929</span> │ <span style=\"color: #008080; text-decoration-color: #008080\">  0.002057</span> │ <span style=\"color: #008080; text-decoration-color: #008080\">  0.603</span> │ <span style=\"color: #008080; text-decoration-color: #008080\">     1.468</span> │ <span style=\"color: #008080; text-decoration-color: #008080\"> 2.953</span> │ <span style=\"color: #008080; text-decoration-color: #008080\">13.91</span> │ <span style=\"color: #008000; text-decoration-color: #008000\"> ▇▃▁  </span> │  │\n",
       "│ │ <span style=\"color: #af87ff; text-decoration-color: #af87ff\">depth  </span> │ <span style=\"color: #008080; text-decoration-color: #008080\">   0</span> │ <span style=\"color: #008080; text-decoration-color: #008080\">    0</span> │ <span style=\"color: #008080; text-decoration-color: #008080\">    10.02</span> │ <span style=\"color: #008080; text-decoration-color: #008080\">  3.208</span> │ <span style=\"color: #008080; text-decoration-color: #008080\">         2</span> │ <span style=\"color: #008080; text-decoration-color: #008080\">      8</span> │ <span style=\"color: #008080; text-decoration-color: #008080\">        10</span> │ <span style=\"color: #008080; text-decoration-color: #008080\">    12</span> │ <span style=\"color: #008080; text-decoration-color: #008080\">   20</span> │ <span style=\"color: #008000; text-decoration-color: #008000\">▁▃▇▆▃▁</span> │  │\n",
       "│ │ <span style=\"color: #af87ff; text-decoration-color: #af87ff\">rnd    </span> │ <span style=\"color: #008080; text-decoration-color: #008080\"> 118</span> │ <span style=\"color: #008080; text-decoration-color: #008080\"> 11.8</span> │ <span style=\"color: #008080; text-decoration-color: #008080\"> -0.01977</span> │ <span style=\"color: #008080; text-decoration-color: #008080\">  1.002</span> │ <span style=\"color: #008080; text-decoration-color: #008080\">    -2.809</span> │ <span style=\"color: #008080; text-decoration-color: #008080\">-0.7355</span> │ <span style=\"color: #008080; text-decoration-color: #008080\">-0.0007736</span> │ <span style=\"color: #008080; text-decoration-color: #008080\">0.6639</span> │ <span style=\"color: #008080; text-decoration-color: #008080\">3.717</span> │ <span style=\"color: #008000; text-decoration-color: #008000\">▁▅▇▅▁ </span> │  │\n",
       "│ └─────────┴──────┴───────┴───────────┴─────────┴────────────┴─────────┴────────────┴────────┴───────┴────────┘  │\n",
       "│ <span style=\"font-style: italic\">                                                   category                                                   </span>  │\n",
       "│ ┏━━━━━━━━━━━━━━━━━━━━━━━━━━━━━┳━━━━━━━━━━━━┳━━━━━━━━━━━━━━━━━┳━━━━━━━━━━━━━━━━━━━━━━━━━┳━━━━━━━━━━━━━━━━━━━━━┓  │\n",
       "│ ┃<span style=\"font-weight: bold\"> column                      </span>┃<span style=\"font-weight: bold\"> NA         </span>┃<span style=\"font-weight: bold\"> NA %            </span>┃<span style=\"font-weight: bold\"> ordered                 </span>┃<span style=\"font-weight: bold\"> unique              </span>┃  │\n",
       "│ ┡━━━━━━━━━━━━━━━━━━━━━━━━━━━━━╇━━━━━━━━━━━━╇━━━━━━━━━━━━━━━━━╇━━━━━━━━━━━━━━━━━━━━━━━━━╇━━━━━━━━━━━━━━━━━━━━━┩  │\n",
       "│ │ <span style=\"color: #af87ff; text-decoration-color: #af87ff\">class                      </span> │ <span style=\"color: #008080; text-decoration-color: #008080\">         0</span> │ <span style=\"color: #008080; text-decoration-color: #008080\">              0</span> │ <span style=\"color: #00d7ff; text-decoration-color: #00d7ff\">False                  </span> │ <span style=\"color: #008080; text-decoration-color: #008080\">                  2</span> │  │\n",
       "│ │ <span style=\"color: #af87ff; text-decoration-color: #af87ff\">location                   </span> │ <span style=\"color: #008080; text-decoration-color: #008080\">         1</span> │ <span style=\"color: #008080; text-decoration-color: #008080\">            0.1</span> │ <span style=\"color: #00d7ff; text-decoration-color: #00d7ff\">False                  </span> │ <span style=\"color: #008080; text-decoration-color: #008080\">                  5</span> │  │\n",
       "│ └─────────────────────────────┴────────────┴─────────────────┴─────────────────────────┴─────────────────────┘  │\n",
       "│ <span style=\"font-style: italic\">                                                     bool                                                     </span>  │\n",
       "│ ┏━━━━━━━━━━━━━━━━━━━━━━━━━━━━━━━━━┳━━━━━━━━━━━━━━━━━━┳━━━━━━━━━━━━━━━━━━━━━━━━━━━━━━━━┳━━━━━━━━━━━━━━━━━━━━━━┓  │\n",
       "│ ┃<span style=\"font-weight: bold\"> column                          </span>┃<span style=\"font-weight: bold\"> true             </span>┃<span style=\"font-weight: bold\"> true rate                      </span>┃<span style=\"font-weight: bold\"> hist                 </span>┃  │\n",
       "│ ┡━━━━━━━━━━━━━━━━━━━━━━━━━━━━━━━━━╇━━━━━━━━━━━━━━━━━━╇━━━━━━━━━━━━━━━━━━━━━━━━━━━━━━━━╇━━━━━━━━━━━━━━━━━━━━━━┩  │\n",
       "│ │ <span style=\"color: #af87ff; text-decoration-color: #af87ff\">booly_col                      </span> │ <span style=\"color: #008080; text-decoration-color: #008080\">             516</span> │ <span style=\"color: #008080; text-decoration-color: #008080\">                          0.52</span> │ <span style=\"color: #008000; text-decoration-color: #008000\">       ▇    ▇       </span> │  │\n",
       "│ └─────────────────────────────────┴──────────────────┴────────────────────────────────┴──────────────────────┘  │\n",
       "│ <span style=\"font-style: italic\">                                                   datetime                                                   </span>  │\n",
       "│ ┏━━━━━━━━━━━━━━━━━━━━━━━━━━━━━━┳━━━━━━━┳━━━━━━━━━━┳━━━━━━━━━━━━━━━━━━━━┳━━━━━━━━━━━━━━━━━━━┳━━━━━━━━━━━━━━━━━┓  │\n",
       "│ ┃<span style=\"font-weight: bold\"> column                       </span>┃<span style=\"font-weight: bold\"> NA    </span>┃<span style=\"font-weight: bold\"> NA %     </span>┃<span style=\"font-weight: bold\"> first              </span>┃<span style=\"font-weight: bold\"> last              </span>┃<span style=\"font-weight: bold\"> frequency       </span>┃  │\n",
       "│ ┡━━━━━━━━━━━━━━━━━━━━━━━━━━━━━━╇━━━━━━━╇━━━━━━━━━━╇━━━━━━━━━━━━━━━━━━━━╇━━━━━━━━━━━━━━━━━━━╇━━━━━━━━━━━━━━━━━┩  │\n",
       "│ │ <span style=\"color: #af87ff; text-decoration-color: #af87ff\">datetime                    </span> │ <span style=\"color: #008080; text-decoration-color: #008080\">    0</span> │ <span style=\"color: #008080; text-decoration-color: #008080\">       0</span> │ <span style=\"color: #800000; text-decoration-color: #800000\">    2018-01-31    </span> │ <span style=\"color: #800000; text-decoration-color: #800000\">   2101-04-30    </span> │ <span style=\"color: #af87ff; text-decoration-color: #af87ff\">ME             </span> │  │\n",
       "│ │ <span style=\"color: #af87ff; text-decoration-color: #af87ff\">datetime_no_freq            </span> │ <span style=\"color: #008080; text-decoration-color: #008080\">    3</span> │ <span style=\"color: #008080; text-decoration-color: #008080\">     0.3</span> │ <span style=\"color: #800000; text-decoration-color: #800000\">    1992-01-05    </span> │ <span style=\"color: #800000; text-decoration-color: #800000\">   2023-03-04    </span> │ <span style=\"color: #af87ff; text-decoration-color: #af87ff\">None           </span> │  │\n",
       "│ └──────────────────────────────┴───────┴──────────┴────────────────────┴───────────────────┴─────────────────┘  │\n",
       "│ <span style=\"font-style: italic\">                                           &lt;class 'datetime.date'&gt;                                            </span>  │\n",
       "│ ┏━━━━━━━━━━━━━━━━━━━━━━━━━━━━━━━━━━┳━━━━━━━┳━━━━━━━━━━┳━━━━━━━━━━━━━━━━━━┳━━━━━━━━━━━━━━━━━━┳━━━━━━━━━━━━━━━━┓  │\n",
       "│ ┃<span style=\"font-weight: bold\"> column                           </span>┃<span style=\"font-weight: bold\"> NA    </span>┃<span style=\"font-weight: bold\"> NA %     </span>┃<span style=\"font-weight: bold\"> first            </span>┃<span style=\"font-weight: bold\"> last             </span>┃<span style=\"font-weight: bold\"> frequency      </span>┃  │\n",
       "│ ┡━━━━━━━━━━━━━━━━━━━━━━━━━━━━━━━━━━╇━━━━━━━╇━━━━━━━━━━╇━━━━━━━━━━━━━━━━━━╇━━━━━━━━━━━━━━━━━━╇━━━━━━━━━━━━━━━━┩  │\n",
       "│ │ <span style=\"color: #af87ff; text-decoration-color: #af87ff\">datetime.date                   </span> │ <span style=\"color: #008080; text-decoration-color: #008080\">    0</span> │ <span style=\"color: #008080; text-decoration-color: #008080\">       0</span> │ <span style=\"color: #af87ff; text-decoration-color: #af87ff\">2018-01-31      </span> │ <span style=\"color: #af87ff; text-decoration-color: #af87ff\">2101-04-30      </span> │ <span style=\"color: #af87ff; text-decoration-color: #af87ff\">ME            </span> │  │\n",
       "│ │ <span style=\"color: #af87ff; text-decoration-color: #af87ff\">datetime.date_no_freq           </span> │ <span style=\"color: #008080; text-decoration-color: #008080\">    0</span> │ <span style=\"color: #008080; text-decoration-color: #008080\">       0</span> │ <span style=\"color: #af87ff; text-decoration-color: #af87ff\">1992-01-05      </span> │ <span style=\"color: #af87ff; text-decoration-color: #af87ff\">2023-03-04      </span> │ <span style=\"color: #af87ff; text-decoration-color: #af87ff\">None          </span> │  │\n",
       "│ └──────────────────────────────────┴───────┴──────────┴──────────────────┴──────────────────┴────────────────┘  │\n",
       "│ <span style=\"font-style: italic\">                                                 timedelta64                                                  </span>  │\n",
       "│ ┏━━━━━━━━━━━━━━━━┳━━━━━━┳━━━━━━━━━┳━━━━━━━━━━━━━━━━━━━━━━━━┳━━━━━━━━━━━━━━━━━━━━━━━━┳━━━━━━━━━━━━━━━━━━━━━━━━┓  │\n",
       "│ ┃<span style=\"font-weight: bold\"> column         </span>┃<span style=\"font-weight: bold\"> NA   </span>┃<span style=\"font-weight: bold\"> NA %    </span>┃<span style=\"font-weight: bold\"> mean                   </span>┃<span style=\"font-weight: bold\"> median                 </span>┃<span style=\"font-weight: bold\"> max                    </span>┃  │\n",
       "│ ┡━━━━━━━━━━━━━━━━╇━━━━━━╇━━━━━━━━━╇━━━━━━━━━━━━━━━━━━━━━━━━╇━━━━━━━━━━━━━━━━━━━━━━━━╇━━━━━━━━━━━━━━━━━━━━━━━━┩  │\n",
       "│ │ <span style=\"color: #af87ff; text-decoration-color: #af87ff\">time diff     </span> │ <span style=\"color: #008080; text-decoration-color: #008080\">   5</span> │ <span style=\"color: #008080; text-decoration-color: #008080\">    0.5</span> │ <span style=\"color: #008080; text-decoration-color: #008080\">       8 days 00:05:47</span> │ <span style=\"color: #008080; text-decoration-color: #008080\">       0 days 00:00:00</span> │ <span style=\"color: #008080; text-decoration-color: #008080\">      26 days 00:00:00</span> │  │\n",
       "│ └────────────────┴──────┴─────────┴────────────────────────┴────────────────────────┴────────────────────────┘  │\n",
       "│ <span style=\"font-style: italic\">                                                    string                                                    </span>  │\n",
       "│ ┏━━━━━━━━┳━━━━┳━━━━━━┳━━━━━━━━━━━━┳━━━━━━━━━━━┳━━━━━━━━━━━━┳━━━━━━━━━━━┳━━━━━━━━━━━━┳━━━━━━━━━━━┳━━━━━━━━━━━━┓  │\n",
       "│ ┃<span style=\"font-weight: bold\">        </span>┃<span style=\"font-weight: bold\">    </span>┃<span style=\"font-weight: bold\">      </span>┃<span style=\"font-weight: bold\">            </span>┃<span style=\"font-weight: bold\">           </span>┃<span style=\"font-weight: bold\">            </span>┃<span style=\"font-weight: bold\">           </span>┃<span style=\"font-weight: bold\"> chars per  </span>┃<span style=\"font-weight: bold\"> words per </span>┃<span style=\"font-weight: bold\"> total      </span>┃  │\n",
       "│ ┃<span style=\"font-weight: bold\"> column </span>┃<span style=\"font-weight: bold\"> NA </span>┃<span style=\"font-weight: bold\"> NA % </span>┃<span style=\"font-weight: bold\"> shortest   </span>┃<span style=\"font-weight: bold\"> longest   </span>┃<span style=\"font-weight: bold\"> min        </span>┃<span style=\"font-weight: bold\"> max       </span>┃<span style=\"font-weight: bold\"> row        </span>┃<span style=\"font-weight: bold\"> row       </span>┃<span style=\"font-weight: bold\"> words      </span>┃  │\n",
       "│ ┡━━━━━━━━╇━━━━╇━━━━━━╇━━━━━━━━━━━━╇━━━━━━━━━━━╇━━━━━━━━━━━━╇━━━━━━━━━━━╇━━━━━━━━━━━━╇━━━━━━━━━━━╇━━━━━━━━━━━━┩  │\n",
       "│ │ <span style=\"color: #af87ff; text-decoration-color: #af87ff\">text  </span> │ <span style=\"color: #008080; text-decoration-color: #008080\"> 6</span> │ <span style=\"color: #008080; text-decoration-color: #008080\"> 0.6</span> │ <span style=\"color: #af87ff; text-decoration-color: #af87ff\">How are   </span> │ <span style=\"color: #af87ff; text-decoration-color: #af87ff\">Indeed,  </span> │ <span style=\"color: #af87ff; text-decoration-color: #af87ff\">How are   </span> │ <span style=\"color: #af87ff; text-decoration-color: #af87ff\">What     </span> │ <span style=\"color: #008080; text-decoration-color: #008080\">      31.1</span> │ <span style=\"color: #008080; text-decoration-color: #008080\">      5.8</span> │ <span style=\"color: #008080; text-decoration-color: #008080\">      5761</span> │  │\n",
       "│ │        │    │      │ <span style=\"color: #af87ff; text-decoration-color: #af87ff\">you?      </span> │ <span style=\"color: #af87ff; text-decoration-color: #af87ff\">it was   </span> │ <span style=\"color: #af87ff; text-decoration-color: #af87ff\">you?      </span> │ <span style=\"color: #af87ff; text-decoration-color: #af87ff\">weather! </span> │            │           │            │  │\n",
       "│ │        │    │      │            │ <span style=\"color: #af87ff; text-decoration-color: #af87ff\">the most </span> │            │           │            │           │            │  │\n",
       "│ │        │    │      │            │ <span style=\"color: #af87ff; text-decoration-color: #af87ff\">outrageou</span> │            │           │            │           │            │  │\n",
       "│ │        │    │      │            │ <span style=\"color: #af87ff; text-decoration-color: #af87ff\">sly      </span> │            │           │            │           │            │  │\n",
       "│ │        │    │      │            │ <span style=\"color: #af87ff; text-decoration-color: #af87ff\">pompous  </span> │            │           │            │           │            │  │\n",
       "│ │        │    │      │            │ <span style=\"color: #af87ff; text-decoration-color: #af87ff\">cat I    </span> │            │           │            │           │            │  │\n",
       "│ │        │    │      │            │ <span style=\"color: #af87ff; text-decoration-color: #af87ff\">have ever</span> │            │           │            │           │            │  │\n",
       "│ │        │    │      │            │ <span style=\"color: #af87ff; text-decoration-color: #af87ff\">seen.    </span> │            │           │            │           │            │  │\n",
       "│ └────────┴────┴──────┴────────────┴───────────┴────────────┴───────────┴────────────┴───────────┴────────────┘  │\n",
       "│ <span style=\"font-style: italic\">                                                    object                                                    </span>  │\n",
       "│ ┏━━━━━━━━━━━━━━━━━━━━━━━━━━━━━━━━━━━━━━━━━━━━━━━━━━━━━━━━━━━━━━━━━━━━━━━━━┳━━━━━━━━━━━━━━┳━━━━━━━━━━━━━━━━━━━┓  │\n",
       "│ ┃<span style=\"font-weight: bold\"> column                                                                  </span>┃<span style=\"font-weight: bold\"> NA           </span>┃<span style=\"font-weight: bold\"> NA %              </span>┃  │\n",
       "│ ┡━━━━━━━━━━━━━━━━━━━━━━━━━━━━━━━━━━━━━━━━━━━━━━━━━━━━━━━━━━━━━━━━━━━━━━━━━╇━━━━━━━━━━━━━━╇━━━━━━━━━━━━━━━━━━━┩  │\n",
       "│ │ <span style=\"color: #af87ff; text-decoration-color: #af87ff\">datetime.date                                                          </span> │ <span style=\"color: #008080; text-decoration-color: #008080\">           0</span> │ <span style=\"color: #008080; text-decoration-color: #008080\">                0</span> │  │\n",
       "│ │ <span style=\"color: #af87ff; text-decoration-color: #af87ff\">datetime.date_no_freq                                                  </span> │ <span style=\"color: #008080; text-decoration-color: #008080\">           0</span> │ <span style=\"color: #008080; text-decoration-color: #008080\">                0</span> │  │\n",
       "│ └─────────────────────────────────────────────────────────────────────────┴──────────────┴───────────────────┘  │\n",
       "╰────────────────────────────────────────────────────── End ──────────────────────────────────────────────────────╯\n",
       "</pre>\n"
      ],
      "text/plain": [
       "╭──────────────────────────────────────────────── skimpy summary ─────────────────────────────────────────────────╮\n",
       "│ \u001b[3m         Data Summary         \u001b[0m \u001b[3m      Data Types       \u001b[0m \u001b[3m       Categories        \u001b[0m                                │\n",
       "│ ┏━━━━━━━━━━━━━━━━━━━┳━━━━━━━━┓ ┏━━━━━━━━━━━━━┳━━━━━━━┓ ┏━━━━━━━━━━━━━━━━━━━━━━━┓                                │\n",
       "│ ┃\u001b[1;36m \u001b[0m\u001b[1;36mDataframe        \u001b[0m\u001b[1;36m \u001b[0m┃\u001b[1;36m \u001b[0m\u001b[1;36mValues\u001b[0m\u001b[1;36m \u001b[0m┃ ┃\u001b[1;36m \u001b[0m\u001b[1;36mColumn Type\u001b[0m\u001b[1;36m \u001b[0m┃\u001b[1;36m \u001b[0m\u001b[1;36mCount\u001b[0m\u001b[1;36m \u001b[0m┃ ┃\u001b[1;36m \u001b[0m\u001b[1;36mCategorical Variables\u001b[0m\u001b[1;36m \u001b[0m┃                                │\n",
       "│ ┡━━━━━━━━━━━━━━━━━━━╇━━━━━━━━┩ ┡━━━━━━━━━━━━━╇━━━━━━━┩ ┡━━━━━━━━━━━━━━━━━━━━━━━┩                                │\n",
       "│ │ Number of rows    │ 1000   │ │ float64     │ 3     │ │ class                 │                                │\n",
       "│ │ Number of columns │ 13     │ │ category    │ 2     │ │ location              │                                │\n",
       "│ └───────────────────┴────────┘ │ object      │ 2     │ └───────────────────────┘                                │\n",
       "│                                │ datetime64  │ 2     │                                                          │\n",
       "│                                │ bool        │ 1     │                                                          │\n",
       "│                                │ int64       │ 1     │                                                          │\n",
       "│                                │ string      │ 1     │                                                          │\n",
       "│                                │ timedelta64 │ 1     │                                                          │\n",
       "│                                └─────────────┴───────┘                                                          │\n",
       "│ \u001b[3m                                                    number                                                    \u001b[0m  │\n",
       "│ ┏━━━━━━━━━┳━━━━━━┳━━━━━━━┳━━━━━━━━━━━┳━━━━━━━━━┳━━━━━━━━━━━━┳━━━━━━━━━┳━━━━━━━━━━━━┳━━━━━━━━┳━━━━━━━┳━━━━━━━━┓  │\n",
       "│ ┃\u001b[1m \u001b[0m\u001b[1mcolumn \u001b[0m\u001b[1m \u001b[0m┃\u001b[1m \u001b[0m\u001b[1mNA  \u001b[0m\u001b[1m \u001b[0m┃\u001b[1m \u001b[0m\u001b[1mNA % \u001b[0m\u001b[1m \u001b[0m┃\u001b[1m \u001b[0m\u001b[1mmean     \u001b[0m\u001b[1m \u001b[0m┃\u001b[1m \u001b[0m\u001b[1msd     \u001b[0m\u001b[1m \u001b[0m┃\u001b[1m \u001b[0m\u001b[1mp0        \u001b[0m\u001b[1m \u001b[0m┃\u001b[1m \u001b[0m\u001b[1mp25    \u001b[0m\u001b[1m \u001b[0m┃\u001b[1m \u001b[0m\u001b[1mp50       \u001b[0m\u001b[1m \u001b[0m┃\u001b[1m \u001b[0m\u001b[1mp75   \u001b[0m\u001b[1m \u001b[0m┃\u001b[1m \u001b[0m\u001b[1mp100 \u001b[0m\u001b[1m \u001b[0m┃\u001b[1m \u001b[0m\u001b[1mhist  \u001b[0m\u001b[1m \u001b[0m┃  │\n",
       "│ ┡━━━━━━━━━╇━━━━━━╇━━━━━━━╇━━━━━━━━━━━╇━━━━━━━━━╇━━━━━━━━━━━━╇━━━━━━━━━╇━━━━━━━━━━━━╇━━━━━━━━╇━━━━━━━╇━━━━━━━━┩  │\n",
       "│ │ \u001b[38;5;141mlength \u001b[0m │ \u001b[36m   0\u001b[0m │ \u001b[36m    0\u001b[0m │ \u001b[36m   0.5016\u001b[0m │ \u001b[36m 0.3597\u001b[0m │ \u001b[36m 1.573e-06\u001b[0m │ \u001b[36m  0.134\u001b[0m │ \u001b[36m    0.4976\u001b[0m │ \u001b[36m0.8602\u001b[0m │ \u001b[36m    1\u001b[0m │ \u001b[32m▇▃▃▃▅▇\u001b[0m │  │\n",
       "│ │ \u001b[38;5;141mwidth  \u001b[0m │ \u001b[36m   0\u001b[0m │ \u001b[36m    0\u001b[0m │ \u001b[36m    2.037\u001b[0m │ \u001b[36m  1.929\u001b[0m │ \u001b[36m  0.002057\u001b[0m │ \u001b[36m  0.603\u001b[0m │ \u001b[36m     1.468\u001b[0m │ \u001b[36m 2.953\u001b[0m │ \u001b[36m13.91\u001b[0m │ \u001b[32m ▇▃▁  \u001b[0m │  │\n",
       "│ │ \u001b[38;5;141mdepth  \u001b[0m │ \u001b[36m   0\u001b[0m │ \u001b[36m    0\u001b[0m │ \u001b[36m    10.02\u001b[0m │ \u001b[36m  3.208\u001b[0m │ \u001b[36m         2\u001b[0m │ \u001b[36m      8\u001b[0m │ \u001b[36m        10\u001b[0m │ \u001b[36m    12\u001b[0m │ \u001b[36m   20\u001b[0m │ \u001b[32m▁▃▇▆▃▁\u001b[0m │  │\n",
       "│ │ \u001b[38;5;141mrnd    \u001b[0m │ \u001b[36m 118\u001b[0m │ \u001b[36m 11.8\u001b[0m │ \u001b[36m -0.01977\u001b[0m │ \u001b[36m  1.002\u001b[0m │ \u001b[36m    -2.809\u001b[0m │ \u001b[36m-0.7355\u001b[0m │ \u001b[36m-0.0007736\u001b[0m │ \u001b[36m0.6639\u001b[0m │ \u001b[36m3.717\u001b[0m │ \u001b[32m▁▅▇▅▁ \u001b[0m │  │\n",
       "│ └─────────┴──────┴───────┴───────────┴─────────┴────────────┴─────────┴────────────┴────────┴───────┴────────┘  │\n",
       "│ \u001b[3m                                                   category                                                   \u001b[0m  │\n",
       "│ ┏━━━━━━━━━━━━━━━━━━━━━━━━━━━━━┳━━━━━━━━━━━━┳━━━━━━━━━━━━━━━━━┳━━━━━━━━━━━━━━━━━━━━━━━━━┳━━━━━━━━━━━━━━━━━━━━━┓  │\n",
       "│ ┃\u001b[1m \u001b[0m\u001b[1mcolumn                     \u001b[0m\u001b[1m \u001b[0m┃\u001b[1m \u001b[0m\u001b[1mNA        \u001b[0m\u001b[1m \u001b[0m┃\u001b[1m \u001b[0m\u001b[1mNA %           \u001b[0m\u001b[1m \u001b[0m┃\u001b[1m \u001b[0m\u001b[1mordered                \u001b[0m\u001b[1m \u001b[0m┃\u001b[1m \u001b[0m\u001b[1munique             \u001b[0m\u001b[1m \u001b[0m┃  │\n",
       "│ ┡━━━━━━━━━━━━━━━━━━━━━━━━━━━━━╇━━━━━━━━━━━━╇━━━━━━━━━━━━━━━━━╇━━━━━━━━━━━━━━━━━━━━━━━━━╇━━━━━━━━━━━━━━━━━━━━━┩  │\n",
       "│ │ \u001b[38;5;141mclass                      \u001b[0m │ \u001b[36m         0\u001b[0m │ \u001b[36m              0\u001b[0m │ \u001b[38;5;45mFalse                  \u001b[0m │ \u001b[36m                  2\u001b[0m │  │\n",
       "│ │ \u001b[38;5;141mlocation                   \u001b[0m │ \u001b[36m         1\u001b[0m │ \u001b[36m            0.1\u001b[0m │ \u001b[38;5;45mFalse                  \u001b[0m │ \u001b[36m                  5\u001b[0m │  │\n",
       "│ └─────────────────────────────┴────────────┴─────────────────┴─────────────────────────┴─────────────────────┘  │\n",
       "│ \u001b[3m                                                     bool                                                     \u001b[0m  │\n",
       "│ ┏━━━━━━━━━━━━━━━━━━━━━━━━━━━━━━━━━┳━━━━━━━━━━━━━━━━━━┳━━━━━━━━━━━━━━━━━━━━━━━━━━━━━━━━┳━━━━━━━━━━━━━━━━━━━━━━┓  │\n",
       "│ ┃\u001b[1m \u001b[0m\u001b[1mcolumn                         \u001b[0m\u001b[1m \u001b[0m┃\u001b[1m \u001b[0m\u001b[1mtrue            \u001b[0m\u001b[1m \u001b[0m┃\u001b[1m \u001b[0m\u001b[1mtrue rate                     \u001b[0m\u001b[1m \u001b[0m┃\u001b[1m \u001b[0m\u001b[1mhist                \u001b[0m\u001b[1m \u001b[0m┃  │\n",
       "│ ┡━━━━━━━━━━━━━━━━━━━━━━━━━━━━━━━━━╇━━━━━━━━━━━━━━━━━━╇━━━━━━━━━━━━━━━━━━━━━━━━━━━━━━━━╇━━━━━━━━━━━━━━━━━━━━━━┩  │\n",
       "│ │ \u001b[38;5;141mbooly_col                      \u001b[0m │ \u001b[36m             516\u001b[0m │ \u001b[36m                          0.52\u001b[0m │ \u001b[32m       ▇    ▇       \u001b[0m │  │\n",
       "│ └─────────────────────────────────┴──────────────────┴────────────────────────────────┴──────────────────────┘  │\n",
       "│ \u001b[3m                                                   datetime                                                   \u001b[0m  │\n",
       "│ ┏━━━━━━━━━━━━━━━━━━━━━━━━━━━━━━┳━━━━━━━┳━━━━━━━━━━┳━━━━━━━━━━━━━━━━━━━━┳━━━━━━━━━━━━━━━━━━━┳━━━━━━━━━━━━━━━━━┓  │\n",
       "│ ┃\u001b[1m \u001b[0m\u001b[1mcolumn                      \u001b[0m\u001b[1m \u001b[0m┃\u001b[1m \u001b[0m\u001b[1mNA   \u001b[0m\u001b[1m \u001b[0m┃\u001b[1m \u001b[0m\u001b[1mNA %    \u001b[0m\u001b[1m \u001b[0m┃\u001b[1m \u001b[0m\u001b[1mfirst             \u001b[0m\u001b[1m \u001b[0m┃\u001b[1m \u001b[0m\u001b[1mlast             \u001b[0m\u001b[1m \u001b[0m┃\u001b[1m \u001b[0m\u001b[1mfrequency      \u001b[0m\u001b[1m \u001b[0m┃  │\n",
       "│ ┡━━━━━━━━━━━━━━━━━━━━━━━━━━━━━━╇━━━━━━━╇━━━━━━━━━━╇━━━━━━━━━━━━━━━━━━━━╇━━━━━━━━━━━━━━━━━━━╇━━━━━━━━━━━━━━━━━┩  │\n",
       "│ │ \u001b[38;5;141mdatetime                    \u001b[0m │ \u001b[36m    0\u001b[0m │ \u001b[36m       0\u001b[0m │ \u001b[31m    2018-01-31    \u001b[0m │ \u001b[31m   2101-04-30    \u001b[0m │ \u001b[38;5;141mME             \u001b[0m │  │\n",
       "│ │ \u001b[38;5;141mdatetime_no_freq            \u001b[0m │ \u001b[36m    3\u001b[0m │ \u001b[36m     0.3\u001b[0m │ \u001b[31m    1992-01-05    \u001b[0m │ \u001b[31m   2023-03-04    \u001b[0m │ \u001b[38;5;141mNone           \u001b[0m │  │\n",
       "│ └──────────────────────────────┴───────┴──────────┴────────────────────┴───────────────────┴─────────────────┘  │\n",
       "│ \u001b[3m                                           <class 'datetime.date'>                                            \u001b[0m  │\n",
       "│ ┏━━━━━━━━━━━━━━━━━━━━━━━━━━━━━━━━━━┳━━━━━━━┳━━━━━━━━━━┳━━━━━━━━━━━━━━━━━━┳━━━━━━━━━━━━━━━━━━┳━━━━━━━━━━━━━━━━┓  │\n",
       "│ ┃\u001b[1m \u001b[0m\u001b[1mcolumn                          \u001b[0m\u001b[1m \u001b[0m┃\u001b[1m \u001b[0m\u001b[1mNA   \u001b[0m\u001b[1m \u001b[0m┃\u001b[1m \u001b[0m\u001b[1mNA %    \u001b[0m\u001b[1m \u001b[0m┃\u001b[1m \u001b[0m\u001b[1mfirst           \u001b[0m\u001b[1m \u001b[0m┃\u001b[1m \u001b[0m\u001b[1mlast            \u001b[0m\u001b[1m \u001b[0m┃\u001b[1m \u001b[0m\u001b[1mfrequency     \u001b[0m\u001b[1m \u001b[0m┃  │\n",
       "│ ┡━━━━━━━━━━━━━━━━━━━━━━━━━━━━━━━━━━╇━━━━━━━╇━━━━━━━━━━╇━━━━━━━━━━━━━━━━━━╇━━━━━━━━━━━━━━━━━━╇━━━━━━━━━━━━━━━━┩  │\n",
       "│ │ \u001b[38;5;141mdatetime.date                   \u001b[0m │ \u001b[36m    0\u001b[0m │ \u001b[36m       0\u001b[0m │ \u001b[38;5;141m2018-01-31      \u001b[0m │ \u001b[38;5;141m2101-04-30      \u001b[0m │ \u001b[38;5;141mME            \u001b[0m │  │\n",
       "│ │ \u001b[38;5;141mdatetime.date_no_freq           \u001b[0m │ \u001b[36m    0\u001b[0m │ \u001b[36m       0\u001b[0m │ \u001b[38;5;141m1992-01-05      \u001b[0m │ \u001b[38;5;141m2023-03-04      \u001b[0m │ \u001b[38;5;141mNone          \u001b[0m │  │\n",
       "│ └──────────────────────────────────┴───────┴──────────┴──────────────────┴──────────────────┴────────────────┘  │\n",
       "│ \u001b[3m                                                 timedelta64\u001b[0m\u001b[3m                                                  \u001b[0m  │\n",
       "│ ┏━━━━━━━━━━━━━━━━┳━━━━━━┳━━━━━━━━━┳━━━━━━━━━━━━━━━━━━━━━━━━┳━━━━━━━━━━━━━━━━━━━━━━━━┳━━━━━━━━━━━━━━━━━━━━━━━━┓  │\n",
       "│ ┃\u001b[1m \u001b[0m\u001b[1mcolumn        \u001b[0m\u001b[1m \u001b[0m┃\u001b[1m \u001b[0m\u001b[1mNA  \u001b[0m\u001b[1m \u001b[0m┃\u001b[1m \u001b[0m\u001b[1mNA %   \u001b[0m\u001b[1m \u001b[0m┃\u001b[1m \u001b[0m\u001b[1mmean                  \u001b[0m\u001b[1m \u001b[0m┃\u001b[1m \u001b[0m\u001b[1mmedian                \u001b[0m\u001b[1m \u001b[0m┃\u001b[1m \u001b[0m\u001b[1mmax                   \u001b[0m\u001b[1m \u001b[0m┃  │\n",
       "│ ┡━━━━━━━━━━━━━━━━╇━━━━━━╇━━━━━━━━━╇━━━━━━━━━━━━━━━━━━━━━━━━╇━━━━━━━━━━━━━━━━━━━━━━━━╇━━━━━━━━━━━━━━━━━━━━━━━━┩  │\n",
       "│ │ \u001b[38;5;141mtime diff     \u001b[0m │ \u001b[36m   5\u001b[0m │ \u001b[36m    0.5\u001b[0m │ \u001b[36m       8 days 00:05:47\u001b[0m │ \u001b[36m       0 days 00:00:00\u001b[0m │ \u001b[36m      26 days 00:00:00\u001b[0m │  │\n",
       "│ └────────────────┴──────┴─────────┴────────────────────────┴────────────────────────┴────────────────────────┘  │\n",
       "│ \u001b[3m                                                    string                                                    \u001b[0m  │\n",
       "│ ┏━━━━━━━━┳━━━━┳━━━━━━┳━━━━━━━━━━━━┳━━━━━━━━━━━┳━━━━━━━━━━━━┳━━━━━━━━━━━┳━━━━━━━━━━━━┳━━━━━━━━━━━┳━━━━━━━━━━━━┓  │\n",
       "│ ┃\u001b[1m        \u001b[0m┃\u001b[1m    \u001b[0m┃\u001b[1m      \u001b[0m┃\u001b[1m            \u001b[0m┃\u001b[1m           \u001b[0m┃\u001b[1m            \u001b[0m┃\u001b[1m           \u001b[0m┃\u001b[1m \u001b[0m\u001b[1mchars per \u001b[0m\u001b[1m \u001b[0m┃\u001b[1m \u001b[0m\u001b[1mwords per\u001b[0m\u001b[1m \u001b[0m┃\u001b[1m \u001b[0m\u001b[1mtotal     \u001b[0m\u001b[1m \u001b[0m┃  │\n",
       "│ ┃\u001b[1m \u001b[0m\u001b[1mcolumn\u001b[0m\u001b[1m \u001b[0m┃\u001b[1m \u001b[0m\u001b[1mNA\u001b[0m\u001b[1m \u001b[0m┃\u001b[1m \u001b[0m\u001b[1mNA %\u001b[0m\u001b[1m \u001b[0m┃\u001b[1m \u001b[0m\u001b[1mshortest  \u001b[0m\u001b[1m \u001b[0m┃\u001b[1m \u001b[0m\u001b[1mlongest  \u001b[0m\u001b[1m \u001b[0m┃\u001b[1m \u001b[0m\u001b[1mmin       \u001b[0m\u001b[1m \u001b[0m┃\u001b[1m \u001b[0m\u001b[1mmax      \u001b[0m\u001b[1m \u001b[0m┃\u001b[1m \u001b[0m\u001b[1mrow       \u001b[0m\u001b[1m \u001b[0m┃\u001b[1m \u001b[0m\u001b[1mrow      \u001b[0m\u001b[1m \u001b[0m┃\u001b[1m \u001b[0m\u001b[1mwords     \u001b[0m\u001b[1m \u001b[0m┃  │\n",
       "│ ┡━━━━━━━━╇━━━━╇━━━━━━╇━━━━━━━━━━━━╇━━━━━━━━━━━╇━━━━━━━━━━━━╇━━━━━━━━━━━╇━━━━━━━━━━━━╇━━━━━━━━━━━╇━━━━━━━━━━━━┩  │\n",
       "│ │ \u001b[38;5;141mtext  \u001b[0m │ \u001b[36m 6\u001b[0m │ \u001b[36m 0.6\u001b[0m │ \u001b[38;5;141mHow are   \u001b[0m │ \u001b[38;5;141mIndeed,  \u001b[0m │ \u001b[38;5;141mHow are   \u001b[0m │ \u001b[38;5;141mWhat     \u001b[0m │ \u001b[36m      31.1\u001b[0m │ \u001b[36m      5.8\u001b[0m │ \u001b[36m      5761\u001b[0m │  │\n",
       "│ │        │    │      │ \u001b[38;5;141myou?      \u001b[0m │ \u001b[38;5;141mit was   \u001b[0m │ \u001b[38;5;141myou?      \u001b[0m │ \u001b[38;5;141mweather! \u001b[0m │            │           │            │  │\n",
       "│ │        │    │      │            │ \u001b[38;5;141mthe most \u001b[0m │            │           │            │           │            │  │\n",
       "│ │        │    │      │            │ \u001b[38;5;141moutrageou\u001b[0m │            │           │            │           │            │  │\n",
       "│ │        │    │      │            │ \u001b[38;5;141msly      \u001b[0m │            │           │            │           │            │  │\n",
       "│ │        │    │      │            │ \u001b[38;5;141mpompous  \u001b[0m │            │           │            │           │            │  │\n",
       "│ │        │    │      │            │ \u001b[38;5;141mcat I    \u001b[0m │            │           │            │           │            │  │\n",
       "│ │        │    │      │            │ \u001b[38;5;141mhave ever\u001b[0m │            │           │            │           │            │  │\n",
       "│ │        │    │      │            │ \u001b[38;5;141mseen.    \u001b[0m │            │           │            │           │            │  │\n",
       "│ └────────┴────┴──────┴────────────┴───────────┴────────────┴───────────┴────────────┴───────────┴────────────┘  │\n",
       "│ \u001b[3m                                                    object                                                    \u001b[0m  │\n",
       "│ ┏━━━━━━━━━━━━━━━━━━━━━━━━━━━━━━━━━━━━━━━━━━━━━━━━━━━━━━━━━━━━━━━━━━━━━━━━━┳━━━━━━━━━━━━━━┳━━━━━━━━━━━━━━━━━━━┓  │\n",
       "│ ┃\u001b[1m \u001b[0m\u001b[1mcolumn                                                                 \u001b[0m\u001b[1m \u001b[0m┃\u001b[1m \u001b[0m\u001b[1mNA          \u001b[0m\u001b[1m \u001b[0m┃\u001b[1m \u001b[0m\u001b[1mNA %             \u001b[0m\u001b[1m \u001b[0m┃  │\n",
       "│ ┡━━━━━━━━━━━━━━━━━━━━━━━━━━━━━━━━━━━━━━━━━━━━━━━━━━━━━━━━━━━━━━━━━━━━━━━━━╇━━━━━━━━━━━━━━╇━━━━━━━━━━━━━━━━━━━┩  │\n",
       "│ │ \u001b[38;5;141mdatetime.date                                                          \u001b[0m │ \u001b[36m           0\u001b[0m │ \u001b[36m                0\u001b[0m │  │\n",
       "│ │ \u001b[38;5;141mdatetime.date_no_freq                                                  \u001b[0m │ \u001b[36m           0\u001b[0m │ \u001b[36m                0\u001b[0m │  │\n",
       "│ └─────────────────────────────────────────────────────────────────────────┴──────────────┴───────────────────┘  │\n",
       "╰────────────────────────────────────────────────────── End ──────────────────────────────────────────────────────╯\n"
      ]
     },
     "metadata": {},
     "output_type": "display_data"
    }
   ],
   "source": [
    "from skimpy import skim, generate_test_data\n",
    "# Generate test data\n",
    "df = generate_test_data()\n",
    "# Display summary statistics\n",
    "skim(df)"
   ]
  },
  {
   "cell_type": "code",
   "execution_count": null,
   "metadata": {},
   "outputs": [],
   "source": []
  }
 ],
 "metadata": {
  "kernelspec": {
   "display_name": ".venv",
   "language": "python",
   "name": "python3"
  },
  "language_info": {
   "codemirror_mode": {
    "name": "ipython",
    "version": 3
   },
   "file_extension": ".py",
   "mimetype": "text/x-python",
   "name": "python",
   "nbconvert_exporter": "python",
   "pygments_lexer": "ipython3",
   "version": "3.12.6"
  }
 },
 "nbformat": 4,
 "nbformat_minor": 2
}
