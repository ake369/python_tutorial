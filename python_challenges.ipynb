{
 "cells": [
  {
   "cell_type": "markdown",
   "metadata": {},
   "source": [
    "- **Python Medium level challenges**"
   ]
  },
  {
   "cell_type": "markdown",
   "metadata": {},
   "source": [
    "- **Problem - 1:**\n",
    "- *You are given two strings word1 and word2. Merge the strings by adding letters in alternating order, starting with word1. If a string is longer than the other, append the additional letters onto the end of the merged string.*\n",
    "- *Return the merged string.*"
   ]
  },
  {
   "cell_type": "code",
   "execution_count": 3,
   "metadata": {},
   "outputs": [],
   "source": [
    "#Two pointers approach\n",
    "def mergeAlternatively(word1,word2):\n",
    "    m = len(word1)\n",
    "    n = len(word2)\n",
    "    i = 0\n",
    "    j = 0\n",
    "    result = []\n",
    "    while i < m or j < m:\n",
    "        if i < m:\n",
    "            result += word1[i]\n",
    "            i+=1\n",
    "        if j < n:\n",
    "            result += word2[j]\n",
    "            j+=1\n",
    "    return \"\".join(result)\n",
    "\n"
   ]
  },
  {
   "cell_type": "code",
   "execution_count": 4,
   "metadata": {},
   "outputs": [
    {
     "data": {
      "text/plain": [
       "'msywleoevteh'"
      ]
     },
     "execution_count": 4,
     "metadata": {},
     "output_type": "execute_result"
    }
   ],
   "source": [
    "mergeAlternatively(word1='mylove',word2='sweetheart')"
   ]
  },
  {
   "cell_type": "code",
   "execution_count": 5,
   "metadata": {},
   "outputs": [],
   "source": [
    "# Single pointer approach\n",
    "class Solution(object):\n",
    "    def mergeAlternately(self, word1, word2):\n",
    "        result = []\n",
    "        n = max(len(word1), len(word2))\n",
    "        for i in range(n):\n",
    "            if i < len(word1):\n",
    "                result += word1[i]\n",
    "            if i < len(word2):\n",
    "                result += word2[i]\n",
    "\n",
    "        return \"\".join(result)"
   ]
  },
  {
   "cell_type": "code",
   "execution_count": 6,
   "metadata": {},
   "outputs": [
    {
     "data": {
      "text/plain": [
       "'msywleoevteheart'"
      ]
     },
     "execution_count": 6,
     "metadata": {},
     "output_type": "execute_result"
    }
   ],
   "source": [
    "Solution().mergeAlternately(word1='mylove',word2='sweetheart')"
   ]
  },
  {
   "cell_type": "code",
   "execution_count": null,
   "metadata": {},
   "outputs": [],
   "source": []
  }
 ],
 "metadata": {
  "kernelspec": {
   "display_name": ".venv",
   "language": "python",
   "name": "python3"
  },
  "language_info": {
   "codemirror_mode": {
    "name": "ipython",
    "version": 3
   },
   "file_extension": ".py",
   "mimetype": "text/x-python",
   "name": "python",
   "nbconvert_exporter": "python",
   "pygments_lexer": "ipython3",
   "version": "3.12.6"
  }
 },
 "nbformat": 4,
 "nbformat_minor": 2
}
