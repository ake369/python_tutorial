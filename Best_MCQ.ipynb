{
 "cells": [
  {
   "cell_type": "markdown",
   "metadata": {},
   "source": [
    "**You are developing a Developer class that meets the following requirements:**\n",
    "\n",
    "   - *Has a field to store the level for a Developer instance.*\n",
    "\n",
    "   - *Allows external code to assign a value to the level field.*\n",
    "\n",
    "   - *Limits the range of values that can be assigned to the level member.*\n",
    "\n",
    "* How would you implement the level member?\n",
    "\n",
    "   * a. Class attribute (static variable)\n",
    "   * b. Public instance variable\n",
    "   * c. Protected instance variable\n",
    "   * d. Property with getter and setter\n",
    "- **Correct Answer:**\n",
    "* *d. Property with getter and setter*"
   ]
  },
  {
   "cell_type": "code",
   "execution_count": null,
   "metadata": {},
   "outputs": [],
   "source": [
    "class Developer:\n",
    "    def __init__(self, level):\n",
    "        self._level = None\n",
    "        self.level = level  # Uses setter for validation\n",
    "\n",
    "    @property\n",
    "    def level(self):\n",
    "        return self._level\n",
    "\n",
    "    @level.setter\n",
    "    def level(self, value):\n",
    "        if 1 <= value <= 10:  # Restricting range\n",
    "            self._level = value\n",
    "        else:\n",
    "            raise ValueError(\"Level must be between 1 and 10\")\n",
    "\n",
    "dev = Developer(5)\n",
    "print(dev.level)  # Output: 5\n",
    "\n",
    "dev.level = 8  # Valid\n",
    "# dev.level = 20  # Raises ValueError"
   ]
  },
  {
   "cell_type": "markdown",
   "metadata": {},
   "source": [
    "- *The above question is about how to implement a class member (level) in Python, with the following goals:*\n",
    "\n",
    "- *```Storing a value```: The class needs to have a field that can store a value (in this case, the level of a developer).*\n",
    "\n",
    "- *```External Assignment```: External code should be able to assign a value to the field.*\n",
    "\n",
    "- *```Range Limitation:``` The value assigned to this field should be restricted to a specific range (e.g., between 1 and 10).*\n",
    "\n",
    "*The focus is on how to enforce these requirements in Python, especially how to control access to the level field while allowing its value to be set externally. The correct way to do this is by using a property with a getter and setter, which allows for validation and controlled assignment of the level attribute.*"
   ]
  },
  {
   "cell_type": "markdown",
   "metadata": {},
   "source": [
    "2. **You are developing a Python application at Turing. It receives JSON data in the following format:**\n",
    "```python\n",
    "{\n",
    "  \"First_name\": \"Jon\",\n",
    "  \"Last_name\": \"Doe\",\n",
    "  \"Grades\": [7,8,9]\n",
    "}\n",
    "```\n",
    "* *The class Student includes the following code:*\n",
    "```python\n",
    "import json\n",
    "from dataclasses import dataclass\n",
    "from typing import List\n",
    "\n",
    "@dataclass\n",
    "class Student:\n",
    "    First_name: str\n",
    "    Last_name: str\n",
    "    Grades: List[int]\n",
    "\n",
    "def convert_to_student(stu: str) -> Student:\n",
    "    **** Add code here ****\n",
    "```\n",
    "* **Select the best answer to replace ```**** Add code here ****:```**\n",
    "\n",
    "- A. return Student(**json.loads(stu))\n",
    "- B. return json.load(stu, Student)\n",
    "- C. return Student(json.dumps(stu))\n",
    "- D. return json.deserialize(stu)\n",
    "\n",
    "- **Correct Answer:**\n",
    "- *✅ A. return Student(**json.loads(stu))*"
   ]
  },
  {
   "cell_type": "markdown",
   "metadata": {},
   "source": [
    "**Explanation:**\n",
    "- ```json.loads(stu)``` converts the JSON string into a Python dictionary.\n",
    "\n",
    "- ```Student(**json.loads(stu))``` uses unpacking (**) to map dictionary keys to Student attributes.\n",
    "* **Code implementation**"
   ]
  },
  {
   "cell_type": "code",
   "execution_count": 1,
   "metadata": {},
   "outputs": [
    {
     "name": "stdout",
     "output_type": "stream",
     "text": [
      "Student(First_name='Jon', Last_name='Doe', Grades=[7, 8, 9])\n"
     ]
    }
   ],
   "source": [
    "import json\n",
    "from dataclasses import dataclass\n",
    "from typing import List\n",
    "\n",
    "@dataclass\n",
    "class Student:\n",
    "    First_name: str\n",
    "    Last_name: str\n",
    "    Grades: List[int]\n",
    "\n",
    "def convert_to_student(stu: str) -> Student:\n",
    "    return Student(**json.loads(stu))\n",
    "\n",
    "# Example Usage\n",
    "json_data = '{\"First_name\": \"Jon\", \"Last_name\": \"Doe\", \"Grades\": [7,8,9]}'\n",
    "student = convert_to_student(json_data)\n",
    "print(student)  # Output: Student(First_name='Jon', Last_name='Doe', Grades=[7, 8, 9])\n"
   ]
  },
  {
   "cell_type": "markdown",
   "metadata": {},
   "source": [
    "* **You have a long-running process in your Python application. The process has an object. Select the right method to ensure that Python’s garbage collector does not release the object's resources until the process completes.**\n",
    "\n",
    "- A. ```gc.collect()```\n",
    "- B. ```gc.wait_for_full_gc()```\n",
    "- C. ```gc.suppress_finalize()```\n",
    "- D. ```gc.disable()```\n",
    "\n",
    "- Correct Answer:\n",
    "- ✅ D. ```gc.disable()```\n",
    "\n",
    "- *Explanation:*\n",
    "- *Python has automatic garbage collection that may free objects unexpectedly.*\n",
    "- *```gc.disable()``` turns off automatic garbage collection, ensuring that objects stay in memory until manually cleaned up.*\n",
    "- After the process is complete, you can call gc.enable() to re-enable garbage collection.\n",
    "- **Example Implementation:**"
   ]
  },
  {
   "cell_type": "code",
   "execution_count": 2,
   "metadata": {},
   "outputs": [
    {
     "name": "stdout",
     "output_type": "stream",
     "text": [
      "Running process: Data Processing\n"
     ]
    }
   ],
   "source": [
    "import gc\n",
    "\n",
    "# Disable automatic garbage collection\n",
    "gc.disable()\n",
    "\n",
    "# Long-running process\n",
    "class LongProcess:\n",
    "    def __init__(self, name):\n",
    "        self.name = name\n",
    "    \n",
    "    def run(self):\n",
    "        print(f\"Running process: {self.name}\")\n",
    "\n",
    "obj = LongProcess(\"Data Processing\")\n",
    "obj.run()\n",
    "\n",
    "# Re-enable garbage collection after process completes\n",
    "gc.enable()\n"
   ]
  },
  {
   "cell_type": "code",
   "execution_count": 12,
   "metadata": {},
   "outputs": [
    {
     "ename": "TypeError",
     "evalue": "Base must define 'save' method",
     "output_type": "error",
     "traceback": [
      "\u001b[1;31m---------------------------------------------------------------------------\u001b[0m",
      "\u001b[1;31mTypeError\u001b[0m                                 Traceback (most recent call last)",
      "Cell \u001b[1;32mIn[12], line 7\u001b[0m\n\u001b[0;32m      4\u001b[0m             \u001b[38;5;28;01mraise\u001b[39;00m \u001b[38;5;167;01mTypeError\u001b[39;00m(\u001b[38;5;124mf\u001b[39m\u001b[38;5;124m\"\u001b[39m\u001b[38;5;132;01m{\u001b[39;00mname\u001b[38;5;132;01m}\u001b[39;00m\u001b[38;5;124m must define \u001b[39m\u001b[38;5;124m'\u001b[39m\u001b[38;5;124msave\u001b[39m\u001b[38;5;124m'\u001b[39m\u001b[38;5;124m method\u001b[39m\u001b[38;5;124m\"\u001b[39m)\n\u001b[0;32m      5\u001b[0m         \u001b[38;5;28;01mreturn\u001b[39;00m \u001b[38;5;28msuper\u001b[39m()\u001b[38;5;241m.\u001b[39m\u001b[38;5;21m__new__\u001b[39m(\u001b[38;5;28mcls\u001b[39m, name, bases, dct)\n\u001b[1;32m----> 7\u001b[0m \u001b[38;5;28;43;01mclass\u001b[39;49;00m\u001b[38;5;250;43m \u001b[39;49m\u001b[38;5;21;43;01mBase\u001b[39;49;00m\u001b[43m(\u001b[49m\u001b[43mmetaclass\u001b[49m\u001b[38;5;241;43m=\u001b[39;49m\u001b[43mMeta\u001b[49m\u001b[43m)\u001b[49m\u001b[43m:\u001b[49m\n\u001b[0;32m      8\u001b[0m \u001b[43m    \u001b[49m\u001b[38;5;28;43;01mpass\u001b[39;49;00m\n\u001b[0;32m     10\u001b[0m \u001b[38;5;28;01mclass\u001b[39;00m\u001b[38;5;250m \u001b[39m\u001b[38;5;21;01mOrder\u001b[39;00m(Base):\n",
      "Cell \u001b[1;32mIn[12], line 4\u001b[0m, in \u001b[0;36mMeta.__new__\u001b[1;34m(cls, name, bases, dct)\u001b[0m\n\u001b[0;32m      2\u001b[0m \u001b[38;5;28;01mdef\u001b[39;00m\u001b[38;5;250m \u001b[39m\u001b[38;5;21m__new__\u001b[39m(\u001b[38;5;28mcls\u001b[39m, name, bases, dct):\n\u001b[0;32m      3\u001b[0m     \u001b[38;5;28;01mif\u001b[39;00m \u001b[38;5;124m\"\u001b[39m\u001b[38;5;124msave\u001b[39m\u001b[38;5;124m\"\u001b[39m \u001b[38;5;129;01mnot\u001b[39;00m \u001b[38;5;129;01min\u001b[39;00m dct:\n\u001b[1;32m----> 4\u001b[0m         \u001b[38;5;28;01mraise\u001b[39;00m \u001b[38;5;167;01mTypeError\u001b[39;00m(\u001b[38;5;124mf\u001b[39m\u001b[38;5;124m\"\u001b[39m\u001b[38;5;132;01m{\u001b[39;00mname\u001b[38;5;132;01m}\u001b[39;00m\u001b[38;5;124m must define \u001b[39m\u001b[38;5;124m'\u001b[39m\u001b[38;5;124msave\u001b[39m\u001b[38;5;124m'\u001b[39m\u001b[38;5;124m method\u001b[39m\u001b[38;5;124m\"\u001b[39m)\n\u001b[0;32m      5\u001b[0m     \u001b[38;5;28;01mreturn\u001b[39;00m \u001b[38;5;28msuper\u001b[39m()\u001b[38;5;241m.\u001b[39m\u001b[38;5;21m__new__\u001b[39m(\u001b[38;5;28mcls\u001b[39m, name, bases, dct)\n",
      "\u001b[1;31mTypeError\u001b[0m: Base must define 'save' method"
     ]
    }
   ],
   "source": [
    "class Meta(type):\n",
    "    def __new__(cls, name, bases, dct):\n",
    "        if \"save\" not in dct:\n",
    "            raise TypeError(f\"{name} must define 'save' method\")\n",
    "        return super().__new__(cls, name, bases, dct)\n",
    "\n",
    "class Base(metaclass=Meta):\n",
    "    pass\n",
    "\n",
    "class Order(Base):\n",
    "    def save(self):\n",
    "        print(\"Saving Order\")\n",
    "\n",
    "# class Product(Base):\n",
    "#     pass  # No save() method\n",
    "\n",
    "Order().save()\n",
    "# Product()\n"
   ]
  },
  {
   "cell_type": "code",
   "execution_count": 9,
   "metadata": {},
   "outputs": [],
   "source": [
    "class myclass(type):\n",
    "    def __new__(cls,name,bases,dct):\n",
    "        dct['myMethd'] = lambda self: 'keep going'\n",
    "        return super().__new__(cls,name,bases,dct)\n",
    "    \n",
    "class donotStop(metaclass = myclass):\n",
    "    pass\n"
   ]
  },
  {
   "cell_type": "code",
   "execution_count": 10,
   "metadata": {},
   "outputs": [
    {
     "data": {
      "text/plain": [
       "'keep going'"
      ]
     },
     "execution_count": 10,
     "metadata": {},
     "output_type": "execute_result"
    }
   ],
   "source": [
    "donotStop().myMethd()"
   ]
  },
  {
   "cell_type": "markdown",
   "metadata": {},
   "source": [
    "**YOU SHOULD READ MORE ABOUT STACK DS** *(Turing code challenge!)*\n",
    "* *Given a string s containing just the characters '(',')','{','}','[' and ']', determine if the input string is valid.*\n",
    "* An input string is valid if:\n",
    "    1. Open brackects must be closed by the same type of bracket\n",
    "    2. open brackets must be closed in the correct order.\n",
    "\n",
    "- *constraints:*\n",
    "    1. <= s.length <= 10^4\n",
    "    2. consists of parenthesis only listed above.\n",
    "\n",
    "- Examples for valid ```s```\n",
    "    1. s = \"{}\"\n",
    "    2. s = \"{}[]()\"\n",
    "- Invalid examples:\n",
    "    1. s = \"{[}]\"\n",
    "    2. s = \"[}\"\n"
   ]
  },
  {
   "cell_type": "code",
   "execution_count": 13,
   "metadata": {},
   "outputs": [],
   "source": [
    "def isValid(s: str) -> bool:\n",
    "    stack = []\n",
    "    mapping = {')': '(', '}': '{', ']': '['}\n",
    "    \n",
    "    for char in s:\n",
    "        if char in mapping:\n",
    "            # If it's a closing bracket\n",
    "            top_element = stack.pop() if stack else '#'\n",
    "            if mapping[char] != top_element:\n",
    "                return False\n",
    "        else:\n",
    "            # If it's an opening bracket\n",
    "            stack.append(char)\n",
    "    \n",
    "    return not stack"
   ]
  },
  {
   "cell_type": "code",
   "execution_count": 15,
   "metadata": {},
   "outputs": [
    {
     "data": {
      "text/plain": [
       "False"
      ]
     },
     "execution_count": 15,
     "metadata": {},
     "output_type": "execute_result"
    }
   ],
   "source": [
    "isValid(s=\"[({})]]\")"
   ]
  },
  {
   "cell_type": "code",
   "execution_count": null,
   "metadata": {},
   "outputs": [],
   "source": []
  }
 ],
 "metadata": {
  "kernelspec": {
   "display_name": ".venv",
   "language": "python",
   "name": "python3"
  },
  "language_info": {
   "codemirror_mode": {
    "name": "ipython",
    "version": 3
   },
   "file_extension": ".py",
   "mimetype": "text/x-python",
   "name": "python",
   "nbconvert_exporter": "python",
   "pygments_lexer": "ipython3",
   "version": "3.12.6"
  }
 },
 "nbformat": 4,
 "nbformat_minor": 2
}
