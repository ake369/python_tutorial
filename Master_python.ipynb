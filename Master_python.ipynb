{
 "cells": [
  {
   "cell_type": "markdown",
   "metadata": {},
   "source": [
    "**Master Data Science Interviews.**\n",
    "*𝗣𝘆𝘁𝗵𝗼𝗻*\n",
    "- 👉 Master the fundamentals: syntax, loops, functions, and key data structures like lists, dictionaries, sets, and tuples\n",
    "- 👉 Dive into Pandas and NumPy for powerful data manipulation\n",
    "- 👉 Use Matplotlib and Seaborn for stunning data visualizations\n",
    "\n",
    "*𝗦𝘁𝗮𝘁𝗶𝘀𝘁𝗶𝗰𝘀 & 𝗣𝗿𝗼𝗯𝗮𝗯𝗶𝗹𝗶𝘁𝘆*\n",
    "- 👉 Grasp the essentials of descriptive statistics: mean, median, mode, and standard deviation\n",
    "- 👉 Understand probability theory: distributions, Bayes' theorem, and conditional probability\n",
    "- 👉 Master hypothesis testing and A/B testing for real-world applications\n",
    "\n",
    "*𝗠𝗮𝗰𝗵𝗶𝗻𝗲 𝗟𝗲𝗮𝗿𝗻𝗶𝗻𝗴*\n",
    "- 👉 Differentiate between supervised and unsupervised learning\n",
    "- 👉 Key algorithms to know: Linear & Logistic Regression, Decision Trees, Random Forest, KNN, and SVM\n",
    "- 👉 Learn model evaluation metrics: accuracy, precision, recall, F1 score, and ROC-AUC\n",
    "- 👉 Explore cross-validation and hyperparameter tuning to optimize models\n",
    "\n",
    "*𝗗𝗲𝗲𝗽 𝗟𝗲𝗮𝗿𝗻𝗶𝗻𝗴*\n",
    "- 👉 Understand neural networks and their architectures\n",
    "- 👉 Get hands-on with Keras and TensorFlow/PyTorch\n",
    "- 👉 Learn CNNs for image data and RNNs for sequence data\n",
    "\n",
    "*𝗗𝗮𝘁𝗮 𝗖𝗹𝗲𝗮𝗻𝗶𝗻𝗴 & 𝗙𝗲𝗮𝘁𝘂𝗿𝗲 𝗘𝗻𝗴𝗶𝗻𝗲𝗲𝗿𝗶𝗻𝗴*\n",
    "- 👉 Handle missing data, outliers, and data scaling effectively\n",
    "- 👉 Apply feature selection techniques (e.g., correlation, mutual information) to enhance model performance\n",
    "\n",
    "*𝗡𝗮𝘁𝘂𝗿𝗮𝗹 𝗟𝗮𝗻𝗴𝘂𝗮𝗴𝗲 𝗣𝗿𝗼𝗰𝗲𝘀𝘀𝗶𝗻𝗴 (𝗡𝗟𝗣)*\n",
    "- 👉 Get familiar with tokenization, stemming, and lemmatization\n",
    "- 👉 Understand Bag-of-Words and TF-IDF for text processing\n",
    "- 👉 Dive into sentiment analysis and topic modeling\n",
    "\n",
    "*𝗖𝗹𝗼𝘂𝗱 𝗮𝗻𝗱 𝗕𝗶𝗴 𝗗𝗮𝘁𝗮*\n",
    "- 👉 Explore cloud services (AWS, GCP, Azure) for data storage and computing\n",
    "- 👉 Work with distributed data using Spark\n",
    "- 👉 Master SQL for querying large datasets\n",
    "\n",
    "*The key is not to get overwhelmed. Start small, master one topic, and gradually move to the next. 📈*\n"
   ]
  },
  {
   "cell_type": "code",
   "execution_count": 1,
   "metadata": {},
   "outputs": [],
   "source": [
    "def min_k_to_zero_array(nums, queries):\n",
    "    n = len(nums)\n",
    "    decrements = [0] * n  # Track total decrements for each index\n",
    "\n",
    "    for k, (l, r, val) in enumerate(queries, start=1):\n",
    "        # Apply the query to the decrements list\n",
    "        for i in range(l, r + 1):\n",
    "            decrements[i] += val\n",
    "\n",
    "        # Check if nums can be turned into a Zero Array\n",
    "        is_zero_array = True\n",
    "        for i in range(n):\n",
    "            if nums[i] - decrements[i] < 0:\n",
    "                is_zero_array = False\n",
    "                break\n",
    "            if nums[i] - decrements[i] != 0:\n",
    "                is_zero_array = False\n",
    "                break\n",
    "\n",
    "        if is_zero_array:\n",
    "            return k\n",
    "\n",
    "    # If no k found, return -1\n",
    "    return -1"
   ]
  },
  {
   "cell_type": "code",
   "execution_count": 8,
   "metadata": {},
   "outputs": [
    {
     "data": {
      "text/plain": [
       "2"
      ]
     },
     "execution_count": 8,
     "metadata": {},
     "output_type": "execute_result"
    }
   ],
   "source": [
    "nums = [2,0,2] \n",
    "queries = [[0,2,1],[0,2,1],[1,1,3]]\n",
    "Solution().minZeroArray(nums=nums,queries=queries)\n"
   ]
  },
  {
   "cell_type": "code",
   "execution_count": 7,
   "metadata": {},
   "outputs": [],
   "source": [
    "class Solution(object):\n",
    "    def minZeroArray(self, nums, queries):\n",
    "        \"\"\"\n",
    "        :type nums: List[int]\n",
    "        :type queries: List[List[int]]\n",
    "        :rtype: int\n",
    "        \"\"\"\n",
    "        # If nums is already a zero array, return 0 immediately\n",
    "        if all(x == 0 for x in nums):\n",
    "            return 0\n",
    "        \n",
    "        def is_possible(nums, queries, k):\n",
    "            n = len(nums)\n",
    "            arr = nums[:]\n",
    "            diff = [0] * (n + 1)  # Difference array\n",
    "            \n",
    "            for i in range(k):\n",
    "                l, r, val = queries[i]\n",
    "                diff[l] -= val\n",
    "                diff[r + 1] += val\n",
    "            \n",
    "            curr_decrement = 0\n",
    "            for i in range(n):\n",
    "                curr_decrement += diff[i]\n",
    "                arr[i] += curr_decrement  # Apply decrement\n",
    "                if arr[i] > 0:\n",
    "                    return False  # If any element remains positive, k is not enough\n",
    "            \n",
    "            return True  # Successfully turned nums into a zero array\n",
    "        \n",
    "        left, right = 1, len(queries)\n",
    "        result = -1\n",
    "        \n",
    "        while left <= right:\n",
    "            mid = (left + right) // 2\n",
    "            if is_possible(nums, queries, mid):\n",
    "                result = mid\n",
    "                right = mid - 1  # Try for a smaller k\n",
    "            else:\n",
    "                left = mid + 1  # Increase k\n",
    "        \n",
    "        return result\n"
   ]
  },
  {
   "cell_type": "code",
   "execution_count": 15,
   "metadata": {},
   "outputs": [
    {
     "name": "stdout",
     "output_type": "stream",
     "text": [
      "data.txt\n",
      "file.txt\n"
     ]
    }
   ],
   "source": [
    "ls = ['df.csv','data.txt','data.csv','file.csv','file.txt']\n",
    "for i in ls:\n",
    "    if '.txt' in i:\n",
    "        print(i)"
   ]
  },
  {
   "cell_type": "markdown",
   "metadata": {},
   "source": []
  },
  {
   "cell_type": "code",
   "execution_count": 19,
   "metadata": {},
   "outputs": [
    {
     "name": "stdout",
     "output_type": "stream",
     "text": [
      "The number 2 is an even number\n",
      "The number 4 is an even number\n",
      "The number 6 is an even number\n",
      "The number 8 is an even number\n",
      "The number 10 is an even number\n",
      "The number 12 is an even number\n",
      "The number 14 is an even number\n",
      "The number 16 is an even number\n",
      "The number 18 is an even number\n"
     ]
    }
   ],
   "source": [
    "l = list(range(1,20))\n",
    "for i in l:\n",
    "    if i%2==0:\n",
    "        print(f\"The number {i} is an even number\")"
   ]
  },
  {
   "cell_type": "code",
   "execution_count": 23,
   "metadata": {},
   "outputs": [
    {
     "name": "stdout",
     "output_type": "stream",
     "text": [
      "0 is less than 5\n",
      "1 is less than 5\n",
      "2 is less than 5\n",
      "3 is less than 5\n",
      "4 is less than 5\n"
     ]
    }
   ],
   "source": [
    "begin = 0\n",
    "while begin<5:\n",
    "    print(f\"{begin} is less than 5\")\n",
    "    begin+=1"
   ]
  },
  {
   "cell_type": "code",
   "execution_count": 26,
   "metadata": {},
   "outputs": [
    {
     "name": "stdout",
     "output_type": "stream",
     "text": [
      "Wrong password! Please try again!\n",
      "Wrong password! Please try again!\n",
      "Wrong password! Please try again!\n",
      "You successfuly logged in!\n"
     ]
    }
   ],
   "source": [
    "passwrd = input(\"Enter your password:\")\n",
    "while passwrd != 'book':\n",
    "    print('Wrong password! Please try again!')\n",
    "    passwrd = input(\"Enter your password:\")    \n",
    "print(\"You successfuly logged in!\")\n"
   ]
  },
  {
   "cell_type": "code",
   "execution_count": 32,
   "metadata": {},
   "outputs": [
    {
     "name": "stdout",
     "output_type": "stream",
     "text": [
      "[10, 20, 30]\n"
     ]
    }
   ],
   "source": [
    "ls = ['10','20','30']\n",
    "ps = []\n",
    "for i in ls:\n",
    "    ps.append(int(i))\n",
    "print(ps)"
   ]
  },
  {
   "cell_type": "code",
   "execution_count": 33,
   "metadata": {},
   "outputs": [
    {
     "name": "stdout",
     "output_type": "stream",
     "text": [
      "[10, 20, 30]\n"
     ]
    }
   ],
   "source": [
    "print(ps)"
   ]
  },
  {
   "cell_type": "markdown",
   "metadata": {},
   "source": [
    "**Sum of N Natural Numbers**\n",
    "- *Write a program that takes an integer n as input and prints the sum of the first n natural numbers using a loop.*"
   ]
  },
  {
   "cell_type": "code",
   "execution_count": 41,
   "metadata": {},
   "outputs": [],
   "source": [
    "class solu():\n",
    "    def sumOfFirst(self,n):\n",
    "        num = list(i for i in range(1,n+1))\n",
    "        sumOf = sum(num)\n",
    "        return sumOf"
   ]
  },
  {
   "cell_type": "code",
   "execution_count": 42,
   "metadata": {},
   "outputs": [
    {
     "data": {
      "text/plain": [
       "21"
      ]
     },
     "execution_count": 42,
     "metadata": {},
     "output_type": "execute_result"
    }
   ],
   "source": [
    "solu().sumOfFirst(n=6)"
   ]
  },
  {
   "cell_type": "markdown",
   "metadata": {},
   "source": [
    "**Reverse a String**\n",
    "- *Given a string, write a program to reverse it using a loop (without using slicing or built-in functions like reversed()).*"
   ]
  },
  {
   "cell_type": "code",
   "execution_count": 1,
   "metadata": {},
   "outputs": [
    {
     "name": "stdout",
     "output_type": "stream",
     "text": [
      "rethguad ym\n"
     ]
    }
   ],
   "source": [
    "f = 'my daughter'\n",
    "n = len(f)\n",
    "g = [''] * n \n",
    "\n",
    "for i in range(n):\n",
    "    g[i] = f[(n-1)-i] \n",
    "\n",
    "g = ''.join(g)\n",
    "print(g)\n"
   ]
  },
  {
   "cell_type": "code",
   "execution_count": 55,
   "metadata": {},
   "outputs": [
    {
     "data": {
      "text/plain": [
       "5"
      ]
     },
     "execution_count": 55,
     "metadata": {},
     "output_type": "execute_result"
    }
   ],
   "source": [
    "list(range(0,5))\n",
    "len(range(0,5))"
   ]
  },
  {
   "cell_type": "code",
   "execution_count": 58,
   "metadata": {},
   "outputs": [
    {
     "name": "stdout",
     "output_type": "stream",
     "text": [
      "?gniog uoy era erehw\n"
     ]
    }
   ],
   "source": [
    "g = \"where are you going?\"\n",
    "n = len(g)\n",
    "f = ['']*n\n",
    "for i in range(n):\n",
    "    f[i] = g[(n-1)-i]\n",
    "f = ''.join(f)\n",
    "print(f)"
   ]
  },
  {
   "cell_type": "code",
   "execution_count": 61,
   "metadata": {},
   "outputs": [],
   "source": [
    "def sumFistN(n):\n",
    "    sum = 0\n",
    "    for i in range(1,n+1):\n",
    "        sum+=i\n",
    "    print(f\"The sum of the first {n} natural numbers is: {sum}\")"
   ]
  },
  {
   "cell_type": "code",
   "execution_count": 62,
   "metadata": {},
   "outputs": [
    {
     "name": "stdout",
     "output_type": "stream",
     "text": [
      "The sum of the first 6 natural numbers is: 21\n"
     ]
    }
   ],
   "source": [
    "sumFistN(6)"
   ]
  },
  {
   "cell_type": "markdown",
   "metadata": {},
   "source": [
    "* Lists: Mutable sequence of items, append, remove, replace, index, slicing, splitting, \n",
    "* Strings: immutable sequence of characters. Access items using indexing and splitting, formatting\n",
    "* tuples: immutable sequence of items within () containing any data type items\n",
    "* sets: unordered collection of unique items, remove, add, but no duplicates\n",
    "* Dictionaries: A collection of key-value pairs. Access using key rather than indexing\n",
    "* int: Integers type datatype\n",
    "* floating: Decimal type data\n"
   ]
  },
  {
   "cell_type": "markdown",
   "metadata": {},
   "source": [
    "**Print numbers from 1 to 100, but:**\n",
    "- *For multiples of 3, print \"Fizz\" instead of the number.*\n",
    "- *For multiples of 5, print \"Buzz\".*\n",
    "- *For numbers that are multiples of both 3 and 5, print \"FizzBuzz\".*"
   ]
  },
  {
   "cell_type": "code",
   "execution_count": 70,
   "metadata": {},
   "outputs": [
    {
     "name": "stdout",
     "output_type": "stream",
     "text": [
      "The number 1 is not divisible by 3 or 5\n",
      "The number 2 is not divisible by 3 or 5\n",
      "Fizz\n",
      "The number 4 is not divisible by 3 or 5\n",
      "Buzz\n",
      "Fizz\n",
      "The number 7 is not divisible by 3 or 5\n",
      "The number 8 is not divisible by 3 or 5\n",
      "Fizz\n",
      "Buzz\n",
      "The number 11 is not divisible by 3 or 5\n",
      "Fizz\n",
      "The number 13 is not divisible by 3 or 5\n",
      "The number 14 is not divisible by 3 or 5\n",
      "FizzBuzz\n",
      "Fizz\n",
      "The number 16 is not divisible by 3 or 5\n",
      "The number 17 is not divisible by 3 or 5\n",
      "Fizz\n",
      "The number 19 is not divisible by 3 or 5\n",
      "Buzz\n",
      "Fizz\n",
      "The number 22 is not divisible by 3 or 5\n",
      "The number 23 is not divisible by 3 or 5\n",
      "Fizz\n",
      "Buzz\n",
      "The number 26 is not divisible by 3 or 5\n",
      "Fizz\n",
      "The number 28 is not divisible by 3 or 5\n",
      "The number 29 is not divisible by 3 or 5\n",
      "FizzBuzz\n",
      "Fizz\n",
      "The number 31 is not divisible by 3 or 5\n",
      "The number 32 is not divisible by 3 or 5\n",
      "Fizz\n",
      "The number 34 is not divisible by 3 or 5\n",
      "Buzz\n",
      "Fizz\n",
      "The number 37 is not divisible by 3 or 5\n",
      "The number 38 is not divisible by 3 or 5\n",
      "Fizz\n",
      "Buzz\n",
      "The number 41 is not divisible by 3 or 5\n",
      "Fizz\n",
      "The number 43 is not divisible by 3 or 5\n",
      "The number 44 is not divisible by 3 or 5\n",
      "FizzBuzz\n",
      "Fizz\n",
      "The number 46 is not divisible by 3 or 5\n",
      "The number 47 is not divisible by 3 or 5\n",
      "Fizz\n",
      "The number 49 is not divisible by 3 or 5\n",
      "Buzz\n",
      "Fizz\n",
      "The number 52 is not divisible by 3 or 5\n",
      "The number 53 is not divisible by 3 or 5\n",
      "Fizz\n",
      "Buzz\n",
      "The number 56 is not divisible by 3 or 5\n",
      "Fizz\n",
      "The number 58 is not divisible by 3 or 5\n",
      "The number 59 is not divisible by 3 or 5\n",
      "FizzBuzz\n",
      "Fizz\n",
      "The number 61 is not divisible by 3 or 5\n",
      "The number 62 is not divisible by 3 or 5\n",
      "Fizz\n",
      "The number 64 is not divisible by 3 or 5\n",
      "Buzz\n",
      "Fizz\n",
      "The number 67 is not divisible by 3 or 5\n",
      "The number 68 is not divisible by 3 or 5\n",
      "Fizz\n",
      "Buzz\n",
      "The number 71 is not divisible by 3 or 5\n",
      "Fizz\n",
      "The number 73 is not divisible by 3 or 5\n",
      "The number 74 is not divisible by 3 or 5\n",
      "FizzBuzz\n",
      "Fizz\n",
      "The number 76 is not divisible by 3 or 5\n",
      "The number 77 is not divisible by 3 or 5\n",
      "Fizz\n",
      "The number 79 is not divisible by 3 or 5\n",
      "Buzz\n",
      "Fizz\n",
      "The number 82 is not divisible by 3 or 5\n",
      "The number 83 is not divisible by 3 or 5\n",
      "Fizz\n",
      "Buzz\n",
      "The number 86 is not divisible by 3 or 5\n",
      "Fizz\n",
      "The number 88 is not divisible by 3 or 5\n",
      "The number 89 is not divisible by 3 or 5\n",
      "FizzBuzz\n",
      "Fizz\n",
      "The number 91 is not divisible by 3 or 5\n",
      "The number 92 is not divisible by 3 or 5\n",
      "Fizz\n",
      "The number 94 is not divisible by 3 or 5\n",
      "Buzz\n",
      "Fizz\n",
      "The number 97 is not divisible by 3 or 5\n",
      "The number 98 is not divisible by 3 or 5\n",
      "Fizz\n",
      "Buzz\n"
     ]
    }
   ],
   "source": [
    "for i in range(1,101):\n",
    "    if (i%3==0) and (i%5==0):\n",
    "        print('FizzBuzz')\n",
    "    if (i%3==0):\n",
    "        print('Fizz')\n",
    "    elif (i%5==0):\n",
    "        print('Buzz')\n",
    "    else:\n",
    "        print(f\"The number {i} is not divisible by 3 or 5\")"
   ]
  },
  {
   "cell_type": "markdown",
   "metadata": {},
   "source": [
    "**Prime Number Checker**\n",
    "- *Write a program that takes an integer n as input and checks if it is a prime number using a loop.*"
   ]
  },
  {
   "cell_type": "code",
   "execution_count": 73,
   "metadata": {},
   "outputs": [],
   "source": [
    "def isPrime(n):\n",
    "    if n%2==0:\n",
    "        print(f\"Yes! {n} is a prime number\")\n",
    "    else:\n",
    "        print(f\"The number {n} is not prime number\")"
   ]
  },
  {
   "cell_type": "code",
   "execution_count": 74,
   "metadata": {},
   "outputs": [
    {
     "name": "stdout",
     "output_type": "stream",
     "text": [
      "The number 5 is not prime number\n"
     ]
    }
   ],
   "source": [
    "isPrime(5)"
   ]
  },
  {
   "cell_type": "markdown",
   "metadata": {},
   "source": [
    "**Pattern Printing**\n",
    "- Write a program to print the following pattern for n rows:\n",
    "- ``` * ```\n",
    "- ``` ** ```\n",
    "- ``` *** ```\n",
    "- ``` **** ```\n",
    "- ``` ***** ```\n"
   ]
  },
  {
   "cell_type": "code",
   "execution_count": 77,
   "metadata": {},
   "outputs": [],
   "source": [
    "def pattern(n):\n",
    "    for i in range(n+1):\n",
    "        print('*'*i)"
   ]
  },
  {
   "cell_type": "code",
   "execution_count": 78,
   "metadata": {},
   "outputs": [
    {
     "name": "stdout",
     "output_type": "stream",
     "text": [
      "\n",
      "*\n",
      "**\n",
      "***\n",
      "****\n",
      "*****\n"
     ]
    }
   ],
   "source": [
    "pattern(5)"
   ]
  },
  {
   "cell_type": "code",
   "execution_count": 83,
   "metadata": {},
   "outputs": [],
   "source": [
    "grade = 3.5\n",
    "makeit = 'Yes' if grade > 3.0 else 'No' # inline if syntax: 'do this' if 'this is true' else 'do this'"
   ]
  },
  {
   "cell_type": "code",
   "execution_count": 84,
   "metadata": {},
   "outputs": [
    {
     "name": "stdout",
     "output_type": "stream",
     "text": [
      "Yes\n"
     ]
    }
   ],
   "source": [
    "print(makeit)"
   ]
  },
  {
   "cell_type": "markdown",
   "metadata": {},
   "source": [
    "- *Write a program that checks whether the variable is an integer datatype, and convert it to an integer if it is not. Then print out the value of the variable.*"
   ]
  },
  {
   "cell_type": "code",
   "execution_count": 86,
   "metadata": {},
   "outputs": [],
   "source": [
    "def isInt(b):\n",
    "    if type(b)==int:\n",
    "        return True\n",
    "    else:\n",
    "        int(b)\n",
    "        print(b)"
   ]
  },
  {
   "cell_type": "code",
   "execution_count": 88,
   "metadata": {},
   "outputs": [
    {
     "data": {
      "text/plain": [
       "True"
      ]
     },
     "execution_count": 88,
     "metadata": {},
     "output_type": "execute_result"
    }
   ],
   "source": [
    "isInt(6)"
   ]
  },
  {
   "cell_type": "markdown",
   "metadata": {},
   "source": [
    "- *Write a program that prompts the user to enter their email address. Then check whether this is a gmail, hotmail, yahoo, or other user.*\n",
    "\n",
    "- *If the user is a gmail user, print out the message This is a gmail user. Follow the same concept for the other email types of email accounts. If the user is neither gmail, hotmail, nor yahoo, print out This is another user.*"
   ]
  },
  {
   "cell_type": "code",
   "execution_count": 93,
   "metadata": {},
   "outputs": [
    {
     "name": "stdout",
     "output_type": "stream",
     "text": [
      "The user is Gmail user\n"
     ]
    }
   ],
   "source": [
    "user = input(\"Enter your email id:\")\n",
    "if 'gmail' in user:\n",
    "    print('The user is Gmail user')\n",
    "elif 'hotmail' in user:\n",
    "    print('The user is Hotmail')\n",
    "elif 'yahoo' in user:\n",
    "    print('The user is Yahoo user')\n",
    "else:\n",
    "    print('Other user')"
   ]
  },
  {
   "cell_type": "markdown",
   "metadata": {},
   "source": [
    "- *Print a even number between 1 and 20*"
   ]
  },
  {
   "cell_type": "code",
   "execution_count": 94,
   "metadata": {},
   "outputs": [
    {
     "data": {
      "text/plain": [
       "[2, 4, 6, 8, 10, 12, 14, 16, 18, 20]"
      ]
     },
     "execution_count": 94,
     "metadata": {},
     "output_type": "execute_result"
    }
   ],
   "source": [
    "[x for x in range(1,21) if x%2==0]"
   ]
  },
  {
   "cell_type": "code",
   "execution_count": 96,
   "metadata": {},
   "outputs": [
    {
     "name": "stdout",
     "output_type": "stream",
     "text": [
      "The number 0 is even\n",
      "The number 2 is even\n",
      "The number 4 is even\n",
      "The number 6 is even\n",
      "The number 8 is even\n",
      "The number 10 is even\n",
      "The number 12 is even\n",
      "The number 14 is even\n",
      "The number 16 is even\n",
      "The number 18 is even\n"
     ]
    }
   ],
   "source": [
    "i = 0\n",
    "while i < 20:\n",
    "    if i%2==0:\n",
    "        print(f\"The number {i} is even\")\n",
    "    i+=1\n"
   ]
  },
  {
   "cell_type": "markdown",
   "metadata": {},
   "source": [
    "- *Print a PRIME numbers between 1 and 20*"
   ]
  },
  {
   "cell_type": "code",
   "execution_count": 97,
   "metadata": {},
   "outputs": [],
   "source": [
    "import math as m\n",
    "def isPrime(n):\n",
    "    n = int(input(\"Enter an integer:\"))\n",
    "    for i in range(2, m.sqrt(n)+1 ):\n",
    "        if n%i==0:\n",
    "            print(f\"{n} is not prime\")\n",
    "        else:\n",
    "            print(f\"{n} is a prime number\")\n",
    "\n",
    "    return n"
   ]
  },
  {
   "cell_type": "code",
   "execution_count": 104,
   "metadata": {},
   "outputs": [
    {
     "name": "stdout",
     "output_type": "stream",
     "text": [
      "7 is prime\n"
     ]
    }
   ],
   "source": [
    "import math as m\n",
    "\n",
    "n = int(input(\"Enter an integer:\"))\n",
    "is_prime = True\n",
    "\n",
    "for i in range(2,int( m.sqrt(n)+1 )):\n",
    "    if n%i==0:\n",
    "        print(f\"{n} is not prime\")\n",
    "        is_prime = False\n",
    "        break\n",
    "if is_prime:\n",
    "    print(f\"{n} is prime\")"
   ]
  },
  {
   "cell_type": "markdown",
   "metadata": {},
   "source": [
    "*Write a while loop to check password of a user*"
   ]
  },
  {
   "cell_type": "code",
   "execution_count": 2,
   "metadata": {},
   "outputs": [
    {
     "name": "stdout",
     "output_type": "stream",
     "text": [
      "You successfully logged in:jesuslovesu\n"
     ]
    }
   ],
   "source": [
    "passwrd = input(\"Enter your password:\")\n",
    "while passwrd != 'jesuslovesu':\n",
    "    print(f\"Wrong password!{passwrd} Please try again!\")\n",
    "    passwrd = input(\"Enter your password:\")\n",
    "print(f\"You successfully logged in:{passwrd}\")"
   ]
  },
  {
   "cell_type": "markdown",
   "metadata": {},
   "source": [
    "- *Print full days name from monday to friday using the following list*"
   ]
  },
  {
   "cell_type": "code",
   "execution_count": 6,
   "metadata": {},
   "outputs": [
    {
     "name": "stdout",
     "output_type": "stream",
     "text": [
      "Monday\n",
      "Tuesday\n",
      "Wednesday\n",
      "Thursday\n",
      "Friday\n"
     ]
    }
   ],
   "source": [
    "ls = [\"Mon\",\"Tues\",\"Wednes\",\"Thurs\",\"Fri\",\"Satur\",\"Sun\"]\n",
    "weekday = ls[:5]\n",
    "for i in weekday:\n",
    "    print(i+'day')"
   ]
  },
  {
   "cell_type": "markdown",
   "metadata": {},
   "source": [
    "- *Let’s suppose the 1st of January for year x is Monday. Count how many Mondays are there in a year, given that year x has 365 days.*\n",
    "- *Hint: Consider using a range and a len function.*"
   ]
  },
  {
   "cell_type": "code",
   "execution_count": 28,
   "metadata": {},
   "outputs": [
    {
     "name": "stdout",
     "output_type": "stream",
     "text": [
      "53\n"
     ]
    }
   ],
   "source": [
    "year = list(range(0,365))\n",
    "for i in year:\n",
    "    if i % 7 == 0:\n",
    "        year[i] = 'Monday'\n",
    "        i+=7\n",
    "\n",
    "print(year.count('Monday'))"
   ]
  },
  {
   "cell_type": "code",
   "execution_count": 34,
   "metadata": {},
   "outputs": [
    {
     "name": "stdout",
     "output_type": "stream",
     "text": [
      "53\n"
     ]
    }
   ],
   "source": [
    "# Or\n",
    "x = range(0,365+1,7)\n",
    "x = list(x)\n",
    "print(len(x))"
   ]
  },
  {
   "cell_type": "markdown",
   "metadata": {},
   "source": [
    "- *Consider this list of names:*\n",
    "```python\n",
    "names = [\"johnsmith\",\"jacksmith\",\"georgesmith\"]\n",
    "```\n",
    "- *Write a program that generates this list: ```['johnsmith@gmail.com', 'jacksmith@gmail.com', 'georgesmith@gmail.com']```*"
   ]
  },
  {
   "cell_type": "code",
   "execution_count": 31,
   "metadata": {},
   "outputs": [
    {
     "name": "stdout",
     "output_type": "stream",
     "text": [
      "johnsmith@gmail.com\n",
      "jacksmith@gmail.com\n",
      "georgesmith@gmail.com\n"
     ]
    }
   ],
   "source": [
    "names =[\"johnsmith\",\"jacksmith\",\"georgesmith\"]\n",
    "for i in names:\n",
    "    print(\"{0}@gmail.com\".format(i))"
   ]
  },
  {
   "cell_type": "code",
   "execution_count": 32,
   "metadata": {},
   "outputs": [],
   "source": [
    "# OR\n",
    "emails = [name+'@gmail.com' for name in names]"
   ]
  },
  {
   "cell_type": "code",
   "execution_count": 33,
   "metadata": {},
   "outputs": [
    {
     "data": {
      "text/plain": [
       "['johnsmith@gmail.com', 'jacksmith@gmail.com', 'georgesmith@gmail.com']"
      ]
     },
     "execution_count": 33,
     "metadata": {},
     "output_type": "execute_result"
    }
   ],
   "source": [
    "emails"
   ]
  },
  {
   "cell_type": "markdown",
   "metadata": {},
   "source": [
    "- *Create a script that accepts a string entered from the user, and passes the string to a function. The function itself checks the number of characters that the string has and returns the number back to the user.*"
   ]
  },
  {
   "cell_type": "code",
   "execution_count": 39,
   "metadata": {},
   "outputs": [],
   "source": [
    "user_string = input('Enter your string:')\n",
    "\n"
   ]
  },
  {
   "cell_type": "code",
   "execution_count": 42,
   "metadata": {},
   "outputs": [],
   "source": [
    "def numChar(user_string):\n",
    "    user_string = input('Enter your string:')\n",
    "    d = len(user_string)\n",
    "    return d"
   ]
  },
  {
   "cell_type": "code",
   "execution_count": 43,
   "metadata": {},
   "outputs": [
    {
     "data": {
      "text/plain": [
       "4"
      ]
     },
     "execution_count": 43,
     "metadata": {},
     "output_type": "execute_result"
    }
   ],
   "source": [
    "numChar(user_string=user_string)"
   ]
  },
  {
   "cell_type": "code",
   "execution_count": 44,
   "metadata": {},
   "outputs": [
    {
     "data": {
      "text/plain": [
       "[101, 1002]"
      ]
     },
     "execution_count": 44,
     "metadata": {},
     "output_type": "execute_result"
    }
   ],
   "source": [
    "[i+j for i,j in zip ([1,2],[100,1000])]"
   ]
  },
  {
   "cell_type": "code",
   "execution_count": 46,
   "metadata": {},
   "outputs": [],
   "source": [
    "def email_generator (name, surname, email=\"gmail\", extension=\".com\"): \n",
    "    address = \"{0}{1}@{2}{3}\".format(name,surname,email,extension) \n",
    "    return address"
   ]
  },
  {
   "cell_type": "code",
   "execution_count": 47,
   "metadata": {},
   "outputs": [
    {
     "data": {
      "text/plain": [
       "['JohnSmith@gmail.com', 'MarkPond@gmail.com', 'GeorgeLondon@gmail.com']"
      ]
     },
     "execution_count": 47,
     "metadata": {},
     "output_type": "execute_result"
    }
   ],
   "source": [
    "[email_generator(nm,sr) for nm,sr in zip([\"John\",\"Mark\",\"George\"],[\"Smith\",\"Pond\",\"London\"])]"
   ]
  },
  {
   "cell_type": "code",
   "execution_count": 48,
   "metadata": {},
   "outputs": [],
   "source": [
    "class Property:\n",
    "   def __init__(self, address, prop_type):\n",
    "     self.address = address \n",
    "     self.prop_type = prop_type\n",
    "     print(\"Generates information about properties\") \n",
    "   def getaddress(self):\n",
    "     print(\"Address: %s\" % self.address) \n",
    "   def gettype(self):\n",
    "     print(\"Property type: %s\" % self.prop_type)"
   ]
  },
  {
   "cell_type": "code",
   "execution_count": 49,
   "metadata": {},
   "outputs": [
    {
     "name": "stdout",
     "output_type": "stream",
     "text": [
      "Generates information about properties\n"
     ]
    },
    {
     "data": {
      "text/plain": [
       "<__main__.Property at 0x29c52a0bb30>"
      ]
     },
     "execution_count": 49,
     "metadata": {},
     "output_type": "execute_result"
    }
   ],
   "source": [
    "Property(\"Lighted Street\", \"Hotel\")"
   ]
  },
  {
   "cell_type": "code",
   "execution_count": 50,
   "metadata": {},
   "outputs": [
    {
     "name": "stdout",
     "output_type": "stream",
     "text": [
      "Generates information about properties\n",
      "Address: Lighted Street\n"
     ]
    }
   ],
   "source": [
    "Property(\"Lighted Street\", \"Hostel\").getaddress()"
   ]
  },
  {
   "cell_type": "code",
   "execution_count": null,
   "metadata": {},
   "outputs": [
    {
     "data": {
      "text/plain": [
       "['ls = [7, 31, 365]\\n',\n",
       " 'print(\"A week has {0} days, the longest month has {1}, while the longest Julian year has {2}\".format(ls[0],ls[1],ls[2]))']"
      ]
     },
     "execution_count": 2,
     "metadata": {},
     "output_type": "execute_result"
    }
   ],
   "source": [
    "file = open('hello.py','r')\n",
    "file.read()"
   ]
  },
  {
   "cell_type": "code",
   "execution_count": 4,
   "metadata": {},
   "outputs": [],
   "source": [
    "for line in file:\n",
    "    print(line)"
   ]
  },
  {
   "cell_type": "code",
   "execution_count": null,
   "metadata": {},
   "outputs": [],
   "source": []
  }
 ],
 "metadata": {
  "kernelspec": {
   "display_name": ".venv",
   "language": "python",
   "name": "python3"
  },
  "language_info": {
   "codemirror_mode": {
    "name": "ipython",
    "version": 3
   },
   "file_extension": ".py",
   "mimetype": "text/x-python",
   "name": "python",
   "nbconvert_exporter": "python",
   "pygments_lexer": "ipython3",
   "version": "3.12.6"
  }
 },
 "nbformat": 4,
 "nbformat_minor": 2
}
