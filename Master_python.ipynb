{
 "cells": [
  {
   "cell_type": "markdown",
   "metadata": {},
   "source": [
    "**Master Data Science Interviews.**\n",
    "*𝗣𝘆𝘁𝗵𝗼𝗻*\n",
    "- 👉 Master the fundamentals: syntax, loops, functions, and key data structures like lists, dictionaries, sets, and tuples\n",
    "- 👉 Dive into Pandas and NumPy for powerful data manipulation\n",
    "- 👉 Use Matplotlib and Seaborn for stunning data visualizations\n",
    "\n",
    "*𝗦𝘁𝗮𝘁𝗶𝘀𝘁𝗶𝗰𝘀 & 𝗣𝗿𝗼𝗯𝗮𝗯𝗶𝗹𝗶𝘁𝘆*\n",
    "- 👉 Grasp the essentials of descriptive statistics: mean, median, mode, and standard deviation\n",
    "- 👉 Understand probability theory: distributions, Bayes' theorem, and conditional probability\n",
    "- 👉 Master hypothesis testing and A/B testing for real-world applications\n",
    "\n",
    "*𝗠𝗮𝗰𝗵𝗶𝗻𝗲 𝗟𝗲𝗮𝗿𝗻𝗶𝗻𝗴*\n",
    "- 👉 Differentiate between supervised and unsupervised learning\n",
    "- 👉 Key algorithms to know: Linear & Logistic Regression, Decision Trees, Random Forest, KNN, and SVM\n",
    "- 👉 Learn model evaluation metrics: accuracy, precision, recall, F1 score, and ROC-AUC\n",
    "- 👉 Explore cross-validation and hyperparameter tuning to optimize models\n",
    "\n",
    "*𝗗𝗲𝗲𝗽 𝗟𝗲𝗮𝗿𝗻𝗶𝗻𝗴*\n",
    "- 👉 Understand neural networks and their architectures\n",
    "- 👉 Get hands-on with Keras and TensorFlow/PyTorch\n",
    "- 👉 Learn CNNs for image data and RNNs for sequence data\n",
    "\n",
    "*𝗗𝗮𝘁𝗮 𝗖𝗹𝗲𝗮𝗻𝗶𝗻𝗴 & 𝗙𝗲𝗮𝘁𝘂𝗿𝗲 𝗘𝗻𝗴𝗶𝗻𝗲𝗲𝗿𝗶𝗻𝗴*\n",
    "- 👉 Handle missing data, outliers, and data scaling effectively\n",
    "- 👉 Apply feature selection techniques (e.g., correlation, mutual information) to enhance model performance\n",
    "\n",
    "*𝗡𝗮𝘁𝘂𝗿𝗮𝗹 𝗟𝗮𝗻𝗴𝘂𝗮𝗴𝗲 𝗣𝗿𝗼𝗰𝗲𝘀𝘀𝗶𝗻𝗴 (𝗡𝗟𝗣)*\n",
    "- 👉 Get familiar with tokenization, stemming, and lemmatization\n",
    "- 👉 Understand Bag-of-Words and TF-IDF for text processing\n",
    "- 👉 Dive into sentiment analysis and topic modeling\n",
    "\n",
    "*𝗖𝗹𝗼𝘂𝗱 𝗮𝗻𝗱 𝗕𝗶𝗴 𝗗𝗮𝘁𝗮*\n",
    "- 👉 Explore cloud services (AWS, GCP, Azure) for data storage and computing\n",
    "- 👉 Work with distributed data using Spark\n",
    "- 👉 Master SQL for querying large datasets\n",
    "\n",
    "*The key is not to get overwhelmed. Start small, master one topic, and gradually move to the next. 📈*\n"
   ]
  },
  {
   "cell_type": "code",
   "execution_count": 1,
   "metadata": {},
   "outputs": [],
   "source": [
    "def min_k_to_zero_array(nums, queries):\n",
    "    n = len(nums)\n",
    "    decrements = [0] * n  # Track total decrements for each index\n",
    "\n",
    "    for k, (l, r, val) in enumerate(queries, start=1):\n",
    "        # Apply the query to the decrements list\n",
    "        for i in range(l, r + 1):\n",
    "            decrements[i] += val\n",
    "\n",
    "        # Check if nums can be turned into a Zero Array\n",
    "        is_zero_array = True\n",
    "        for i in range(n):\n",
    "            if nums[i] - decrements[i] < 0:\n",
    "                is_zero_array = False\n",
    "                break\n",
    "            if nums[i] - decrements[i] != 0:\n",
    "                is_zero_array = False\n",
    "                break\n",
    "\n",
    "        if is_zero_array:\n",
    "            return k\n",
    "\n",
    "    # If no k found, return -1\n",
    "    return -1"
   ]
  },
  {
   "cell_type": "code",
   "execution_count": 8,
   "metadata": {},
   "outputs": [
    {
     "data": {
      "text/plain": [
       "2"
      ]
     },
     "execution_count": 8,
     "metadata": {},
     "output_type": "execute_result"
    }
   ],
   "source": [
    "nums = [2,0,2] \n",
    "queries = [[0,2,1],[0,2,1],[1,1,3]]\n",
    "Solution().minZeroArray(nums=nums,queries=queries)\n"
   ]
  },
  {
   "cell_type": "code",
   "execution_count": 7,
   "metadata": {},
   "outputs": [],
   "source": [
    "class Solution(object):\n",
    "    def minZeroArray(self, nums, queries):\n",
    "        \"\"\"\n",
    "        :type nums: List[int]\n",
    "        :type queries: List[List[int]]\n",
    "        :rtype: int\n",
    "        \"\"\"\n",
    "        # If nums is already a zero array, return 0 immediately\n",
    "        if all(x == 0 for x in nums):\n",
    "            return 0\n",
    "        \n",
    "        def is_possible(nums, queries, k):\n",
    "            n = len(nums)\n",
    "            arr = nums[:]\n",
    "            diff = [0] * (n + 1)  # Difference array\n",
    "            \n",
    "            for i in range(k):\n",
    "                l, r, val = queries[i]\n",
    "                diff[l] -= val\n",
    "                diff[r + 1] += val\n",
    "            \n",
    "            curr_decrement = 0\n",
    "            for i in range(n):\n",
    "                curr_decrement += diff[i]\n",
    "                arr[i] += curr_decrement  # Apply decrement\n",
    "                if arr[i] > 0:\n",
    "                    return False  # If any element remains positive, k is not enough\n",
    "            \n",
    "            return True  # Successfully turned nums into a zero array\n",
    "        \n",
    "        left, right = 1, len(queries)\n",
    "        result = -1\n",
    "        \n",
    "        while left <= right:\n",
    "            mid = (left + right) // 2\n",
    "            if is_possible(nums, queries, mid):\n",
    "                result = mid\n",
    "                right = mid - 1  # Try for a smaller k\n",
    "            else:\n",
    "                left = mid + 1  # Increase k\n",
    "        \n",
    "        return result\n"
   ]
  },
  {
   "cell_type": "code",
   "execution_count": 15,
   "metadata": {},
   "outputs": [
    {
     "name": "stdout",
     "output_type": "stream",
     "text": [
      "data.txt\n",
      "file.txt\n"
     ]
    }
   ],
   "source": [
    "ls = ['df.csv','data.txt','data.csv','file.csv','file.txt']\n",
    "for i in ls:\n",
    "    if '.txt' in i:\n",
    "        print(i)"
   ]
  },
  {
   "cell_type": "markdown",
   "metadata": {},
   "source": []
  },
  {
   "cell_type": "code",
   "execution_count": 19,
   "metadata": {},
   "outputs": [
    {
     "name": "stdout",
     "output_type": "stream",
     "text": [
      "The number 2 is an even number\n",
      "The number 4 is an even number\n",
      "The number 6 is an even number\n",
      "The number 8 is an even number\n",
      "The number 10 is an even number\n",
      "The number 12 is an even number\n",
      "The number 14 is an even number\n",
      "The number 16 is an even number\n",
      "The number 18 is an even number\n"
     ]
    }
   ],
   "source": [
    "l = list(range(1,20))\n",
    "for i in l:\n",
    "    if i%2==0:\n",
    "        print(f\"The number {i} is an even number\")"
   ]
  },
  {
   "cell_type": "code",
   "execution_count": 23,
   "metadata": {},
   "outputs": [
    {
     "name": "stdout",
     "output_type": "stream",
     "text": [
      "0 is less than 5\n",
      "1 is less than 5\n",
      "2 is less than 5\n",
      "3 is less than 5\n",
      "4 is less than 5\n"
     ]
    }
   ],
   "source": [
    "begin = 0\n",
    "while begin<5:\n",
    "    print(f\"{begin} is less than 5\")\n",
    "    begin+=1"
   ]
  },
  {
   "cell_type": "code",
   "execution_count": 26,
   "metadata": {},
   "outputs": [
    {
     "name": "stdout",
     "output_type": "stream",
     "text": [
      "Wrong password! Please try again!\n",
      "Wrong password! Please try again!\n",
      "Wrong password! Please try again!\n",
      "You successfuly logged in!\n"
     ]
    }
   ],
   "source": [
    "passwrd = input(\"Enter your password:\")\n",
    "while passwrd != 'book':\n",
    "    print('Wrong password! Please try again!')\n",
    "    passwrd = input(\"Enter your password:\")    \n",
    "print(\"You successfuly logged in!\")\n"
   ]
  },
  {
   "cell_type": "code",
   "execution_count": 32,
   "metadata": {},
   "outputs": [
    {
     "name": "stdout",
     "output_type": "stream",
     "text": [
      "[10, 20, 30]\n"
     ]
    }
   ],
   "source": [
    "ls = ['10','20','30']\n",
    "ps = []\n",
    "for i in ls:\n",
    "    ps.append(int(i))\n",
    "print(ps)"
   ]
  },
  {
   "cell_type": "code",
   "execution_count": 33,
   "metadata": {},
   "outputs": [
    {
     "name": "stdout",
     "output_type": "stream",
     "text": [
      "[10, 20, 30]\n"
     ]
    }
   ],
   "source": [
    "print(ps)"
   ]
  },
  {
   "cell_type": "markdown",
   "metadata": {},
   "source": [
    "**Sum of N Natural Numbers**\n",
    "- *Write a program that takes an integer n as input and prints the sum of the first n natural numbers using a loop.*"
   ]
  },
  {
   "cell_type": "code",
   "execution_count": 41,
   "metadata": {},
   "outputs": [],
   "source": [
    "class solu():\n",
    "    def sumOfFirst(self,n):\n",
    "        num = list(i for i in range(1,n+1))\n",
    "        sumOf = sum(num)\n",
    "        return sumOf"
   ]
  },
  {
   "cell_type": "code",
   "execution_count": 42,
   "metadata": {},
   "outputs": [
    {
     "data": {
      "text/plain": [
       "21"
      ]
     },
     "execution_count": 42,
     "metadata": {},
     "output_type": "execute_result"
    }
   ],
   "source": [
    "solu().sumOfFirst(n=6)"
   ]
  },
  {
   "cell_type": "markdown",
   "metadata": {},
   "source": [
    "**Reverse a String**\n",
    "- *Given a string, write a program to reverse it using a loop (without using slicing or built-in functions like reversed()).*"
   ]
  },
  {
   "cell_type": "code",
   "execution_count": null,
   "metadata": {},
   "outputs": [],
   "source": [
    "def reverseString(s):\n",
    "    n = len(s)\n",
    "    reve = ''\n",
    "    for i in range(0,n+1):\n",
    "        reve[0]= (n+1)\n",
    "        i-=1\n",
    "    return reve\n",
    "\n",
    "        "
   ]
  },
  {
   "cell_type": "code",
   "execution_count": null,
   "metadata": {},
   "outputs": [],
   "source": []
  },
  {
   "cell_type": "code",
   "execution_count": 36,
   "metadata": {},
   "outputs": [
    {
     "data": {
      "text/plain": [
       "15"
      ]
     },
     "execution_count": 36,
     "metadata": {},
     "output_type": "execute_result"
    }
   ],
   "source": [
    "sum(num)"
   ]
  },
  {
   "cell_type": "code",
   "execution_count": 46,
   "metadata": {},
   "outputs": [
    {
     "data": {
      "text/plain": [
       "'r'"
      ]
     },
     "execution_count": 46,
     "metadata": {},
     "output_type": "execute_result"
    }
   ],
   "source": [
    "f ='my daughter'\n",
    "f[-1]"
   ]
  },
  {
   "cell_type": "code",
   "execution_count": 47,
   "metadata": {},
   "outputs": [],
   "source": [
    "g=''"
   ]
  },
  {
   "cell_type": "code",
   "execution_count": null,
   "metadata": {},
   "outputs": [
    {
     "ename": "TypeError",
     "evalue": "'str' object does not support item assignment",
     "output_type": "error",
     "traceback": [
      "\u001b[1;31m---------------------------------------------------------------------------\u001b[0m",
      "\u001b[1;31mTypeError\u001b[0m                                 Traceback (most recent call last)",
      "Cell \u001b[1;32mIn[56], line 3\u001b[0m\n\u001b[0;32m      1\u001b[0m n \u001b[38;5;241m=\u001b[39m \u001b[38;5;28mlen\u001b[39m(f)\n\u001b[0;32m      2\u001b[0m \u001b[38;5;28;01mfor\u001b[39;00m i \u001b[38;5;129;01min\u001b[39;00m \u001b[38;5;28mrange\u001b[39m(\u001b[38;5;241m0\u001b[39m,n):\n\u001b[1;32m----> 3\u001b[0m     \u001b[43mg\u001b[49m\u001b[43m[\u001b[49m\u001b[43mi\u001b[49m\u001b[43m]\u001b[49m \u001b[38;5;241m=\u001b[39m f[(n\u001b[38;5;241m-\u001b[39m\u001b[38;5;241m1\u001b[39m)\u001b[38;5;241m-\u001b[39mi]\n\u001b[0;32m      4\u001b[0m \u001b[38;5;28mprint\u001b[39m(g)\n",
      "\u001b[1;31mTypeError\u001b[0m: 'str' object does not support item assignment"
     ]
    }
   ],
   "source": [
    "f ='my daughter'\n",
    "n = len(f)\n",
    "for i in range(0,n):\n",
    "    g[i] = f[(n-1)-i]\n",
    "print(g)"
   ]
  },
  {
   "cell_type": "code",
   "execution_count": 57,
   "metadata": {},
   "outputs": [
    {
     "name": "stdout",
     "output_type": "stream",
     "text": [
      "rethguad ym\n"
     ]
    }
   ],
   "source": [
    "f = 'my daughter'\n",
    "n = len(f)\n",
    "g = [''] * n \n",
    "\n",
    "for i in range(n):\n",
    "    g[i] = f[(n-1)-i] \n",
    "\n",
    "g = ''.join(g)\n",
    "print(g)\n"
   ]
  },
  {
   "cell_type": "code",
   "execution_count": 55,
   "metadata": {},
   "outputs": [
    {
     "data": {
      "text/plain": [
       "5"
      ]
     },
     "execution_count": 55,
     "metadata": {},
     "output_type": "execute_result"
    }
   ],
   "source": [
    "list(range(0,5))\n",
    "len(range(0,5))"
   ]
  },
  {
   "cell_type": "code",
   "execution_count": 58,
   "metadata": {},
   "outputs": [
    {
     "name": "stdout",
     "output_type": "stream",
     "text": [
      "?gniog uoy era erehw\n"
     ]
    }
   ],
   "source": [
    "g = \"where are you going?\"\n",
    "n = len(g)\n",
    "f = ['']*n\n",
    "for i in range(n):\n",
    "    f[i] = g[(n-1)-i]\n",
    "f = ''.join(f)\n",
    "print(f)"
   ]
  },
  {
   "cell_type": "code",
   "execution_count": 61,
   "metadata": {},
   "outputs": [],
   "source": [
    "def sumFistN(n):\n",
    "    sum = 0\n",
    "    for i in range(1,n+1):\n",
    "        sum+=i\n",
    "    print(f\"The sum of the first {n} natural numbers is: {sum}\")"
   ]
  },
  {
   "cell_type": "code",
   "execution_count": 62,
   "metadata": {},
   "outputs": [
    {
     "name": "stdout",
     "output_type": "stream",
     "text": [
      "The sum of the first 6 natural numbers is: 21\n"
     ]
    }
   ],
   "source": [
    "sumFistN(6)"
   ]
  },
  {
   "cell_type": "markdown",
   "metadata": {},
   "source": [
    "* Lists: Mutable sequence of items, append, remove, replace, index, slicing, splitting, \n",
    "* Strings: immutable sequence of characters. Access items using indexing and splitting, formatting\n",
    "* tuples: immutable sequence of items within () containing any data type items\n",
    "* sets: unordered collection of unique items, remove, add, but no duplicates\n",
    "* Dictionaries: A collection of key-value pairs. Access using key rather than indexing\n",
    "* int: Integers type datatype\n",
    "* floating: Decimal type data\n"
   ]
  },
  {
   "cell_type": "markdown",
   "metadata": {},
   "source": [
    "**Print numbers from 1 to 100, but:**\n",
    "- *For multiples of 3, print \"Fizz\" instead of the number.*\n",
    "- *For multiples of 5, print \"Buzz\".*\n",
    "- *For numbers that are multiples of both 3 and 5, print \"FizzBuzz\".*"
   ]
  },
  {
   "cell_type": "code",
   "execution_count": 70,
   "metadata": {},
   "outputs": [
    {
     "name": "stdout",
     "output_type": "stream",
     "text": [
      "The number 1 is not divisible by 3 or 5\n",
      "The number 2 is not divisible by 3 or 5\n",
      "Fizz\n",
      "The number 4 is not divisible by 3 or 5\n",
      "Buzz\n",
      "Fizz\n",
      "The number 7 is not divisible by 3 or 5\n",
      "The number 8 is not divisible by 3 or 5\n",
      "Fizz\n",
      "Buzz\n",
      "The number 11 is not divisible by 3 or 5\n",
      "Fizz\n",
      "The number 13 is not divisible by 3 or 5\n",
      "The number 14 is not divisible by 3 or 5\n",
      "FizzBuzz\n",
      "Fizz\n",
      "The number 16 is not divisible by 3 or 5\n",
      "The number 17 is not divisible by 3 or 5\n",
      "Fizz\n",
      "The number 19 is not divisible by 3 or 5\n",
      "Buzz\n",
      "Fizz\n",
      "The number 22 is not divisible by 3 or 5\n",
      "The number 23 is not divisible by 3 or 5\n",
      "Fizz\n",
      "Buzz\n",
      "The number 26 is not divisible by 3 or 5\n",
      "Fizz\n",
      "The number 28 is not divisible by 3 or 5\n",
      "The number 29 is not divisible by 3 or 5\n",
      "FizzBuzz\n",
      "Fizz\n",
      "The number 31 is not divisible by 3 or 5\n",
      "The number 32 is not divisible by 3 or 5\n",
      "Fizz\n",
      "The number 34 is not divisible by 3 or 5\n",
      "Buzz\n",
      "Fizz\n",
      "The number 37 is not divisible by 3 or 5\n",
      "The number 38 is not divisible by 3 or 5\n",
      "Fizz\n",
      "Buzz\n",
      "The number 41 is not divisible by 3 or 5\n",
      "Fizz\n",
      "The number 43 is not divisible by 3 or 5\n",
      "The number 44 is not divisible by 3 or 5\n",
      "FizzBuzz\n",
      "Fizz\n",
      "The number 46 is not divisible by 3 or 5\n",
      "The number 47 is not divisible by 3 or 5\n",
      "Fizz\n",
      "The number 49 is not divisible by 3 or 5\n",
      "Buzz\n",
      "Fizz\n",
      "The number 52 is not divisible by 3 or 5\n",
      "The number 53 is not divisible by 3 or 5\n",
      "Fizz\n",
      "Buzz\n",
      "The number 56 is not divisible by 3 or 5\n",
      "Fizz\n",
      "The number 58 is not divisible by 3 or 5\n",
      "The number 59 is not divisible by 3 or 5\n",
      "FizzBuzz\n",
      "Fizz\n",
      "The number 61 is not divisible by 3 or 5\n",
      "The number 62 is not divisible by 3 or 5\n",
      "Fizz\n",
      "The number 64 is not divisible by 3 or 5\n",
      "Buzz\n",
      "Fizz\n",
      "The number 67 is not divisible by 3 or 5\n",
      "The number 68 is not divisible by 3 or 5\n",
      "Fizz\n",
      "Buzz\n",
      "The number 71 is not divisible by 3 or 5\n",
      "Fizz\n",
      "The number 73 is not divisible by 3 or 5\n",
      "The number 74 is not divisible by 3 or 5\n",
      "FizzBuzz\n",
      "Fizz\n",
      "The number 76 is not divisible by 3 or 5\n",
      "The number 77 is not divisible by 3 or 5\n",
      "Fizz\n",
      "The number 79 is not divisible by 3 or 5\n",
      "Buzz\n",
      "Fizz\n",
      "The number 82 is not divisible by 3 or 5\n",
      "The number 83 is not divisible by 3 or 5\n",
      "Fizz\n",
      "Buzz\n",
      "The number 86 is not divisible by 3 or 5\n",
      "Fizz\n",
      "The number 88 is not divisible by 3 or 5\n",
      "The number 89 is not divisible by 3 or 5\n",
      "FizzBuzz\n",
      "Fizz\n",
      "The number 91 is not divisible by 3 or 5\n",
      "The number 92 is not divisible by 3 or 5\n",
      "Fizz\n",
      "The number 94 is not divisible by 3 or 5\n",
      "Buzz\n",
      "Fizz\n",
      "The number 97 is not divisible by 3 or 5\n",
      "The number 98 is not divisible by 3 or 5\n",
      "Fizz\n",
      "Buzz\n"
     ]
    }
   ],
   "source": [
    "for i in range(1,101):\n",
    "    if (i%3==0) and (i%5==0):\n",
    "        print('FizzBuzz')\n",
    "    if (i%3==0):\n",
    "        print('Fizz')\n",
    "    elif (i%5==0):\n",
    "        print('Buzz')\n",
    "    else:\n",
    "        print(f\"The number {i} is not divisible by 3 or 5\")"
   ]
  },
  {
   "cell_type": "code",
   "execution_count": null,
   "metadata": {},
   "outputs": [],
   "source": []
  }
 ],
 "metadata": {
  "kernelspec": {
   "display_name": ".venv",
   "language": "python",
   "name": "python3"
  },
  "language_info": {
   "codemirror_mode": {
    "name": "ipython",
    "version": 3
   },
   "file_extension": ".py",
   "mimetype": "text/x-python",
   "name": "python",
   "nbconvert_exporter": "python",
   "pygments_lexer": "ipython3",
   "version": "3.12.6"
  }
 },
 "nbformat": 4,
 "nbformat_minor": 2
}
