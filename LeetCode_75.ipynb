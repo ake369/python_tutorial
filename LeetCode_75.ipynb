{
 "cells": [
  {
   "cell_type": "markdown",
   "metadata": {},
   "source": [
    "**Leet code 53 Medium challenges**"
   ]
  },
  {
   "cell_type": "markdown",
   "metadata": {},
   "source": [
    "**Day_1**"
   ]
  },
  {
   "cell_type": "markdown",
   "metadata": {},
   "source": [
    "Problem_1"
   ]
  },
  {
   "cell_type": "markdown",
   "metadata": {
    "vscode": {
     "languageId": "plaintext"
    }
   },
   "source": [
    "**Reverse Words in a String**\n",
    "- *Given an input string s, reverse the order of the words.*\n",
    "- *A word is defined as a sequence of non-space characters.*\n",
    "- *The words in s will be separated by at least one space.*\n",
    "\n",
    "- *Return a string of the words in reverse order concatenated by a single space.*\n",
    "\n",
    "   * *Note that s may contain leading or trailing spaces or multiple spaces between two words.*\n",
    "   * *The returned string should only have a single space separating the words.*\n",
    "   * *Do not include any extra spaces.*"
   ]
  },
  {
   "cell_type": "code",
   "execution_count": 11,
   "metadata": {},
   "outputs": [],
   "source": [
    "class mysolution():\n",
    "    def reverseWord(self,s):\n",
    "        revWord = []\n",
    "        word = s.split()\n",
    "        n = len(word)\n",
    "        for i in range(-1,-n-1,-1):\n",
    "            word_s = word[i]\n",
    "            revWord.append(word_s)\n",
    "        return \" \".join(revWord)\n"
   ]
  },
  {
   "cell_type": "code",
   "execution_count": 13,
   "metadata": {},
   "outputs": [
    {
     "data": {
      "text/plain": [
       "'much! so you Love'"
      ]
     },
     "execution_count": 13,
     "metadata": {},
     "output_type": "execute_result"
    }
   ],
   "source": [
    "mysolution().reverseWord(s='Love you so much!')"
   ]
  },
  {
   "cell_type": "markdown",
   "metadata": {
    "vscode": {
     "languageId": "plaintext"
    }
   },
   "source": [
    "Problem_2"
   ]
  },
  {
   "cell_type": "markdown",
   "metadata": {},
   "source": [
    "**Product of an array except itself**\n",
    "- *Given an integer array nums, return an array answer such that ```answer[i]``` is equal to the product of all the elements of nums except ```nums[i]```.*\n",
    "\n",
    "- *The product of any prefix or suffix of nums is guaranteed to fit in a 32-bit integer.*\n",
    "- *You must write an algorithm that runs in ```O(n)``` time and without using the **division** operation.*\n",
    "- Example 1:```Input: nums = [1,2,3,4] and Output: [24,12,8,6]```\n"
   ]
  },
  {
   "cell_type": "code",
   "execution_count": null,
   "metadata": {},
   "outputs": [],
   "source": [
    "class Solution(object):\n",
    "    def productExceptSelf(self, nums):\n",
    "        \"\"\"\n",
    "        :type nums: List[int]\n",
    "        :rtype: int\n",
    "        \"\"\"\n",
    "        n = len(nums)\n",
    "        answer = [1] * n    # Creates [1, 1, 1, 1, 1] n ones\n",
    "        for i in range(1, n):\n",
    "            answer[i] = answer[i - 1] * nums[i - 1]\n",
    "        right_product = 1\n",
    "        for i in range(n - 1, -1, -1):\n",
    "            answer[i] *= right_product\n",
    "            right_product *= nums[i]\n",
    "        return answer"
   ]
  },
  {
   "cell_type": "code",
   "execution_count": null,
   "metadata": {},
   "outputs": [
    {
     "name": "stdout",
     "output_type": "stream",
     "text": [
      "[1, 1, 1, 1, 1]\n"
     ]
    }
   ],
   "source": [
    "n = 5\n",
    "ans = [1]*n # Creates [1, 1, 1, 1, 1]\n"
   ]
  },
  {
   "cell_type": "code",
   "execution_count": 15,
   "metadata": {},
   "outputs": [
    {
     "data": {
      "text/plain": [
       "[30, 6, 5]"
      ]
     },
     "execution_count": 15,
     "metadata": {},
     "output_type": "execute_result"
    }
   ],
   "source": [
    "Solution().productExceptSelf(nums=[1,5,6])"
   ]
  },
  {
   "cell_type": "markdown",
   "metadata": {
    "vscode": {
     "languageId": "plaintext"
    }
   },
   "source": [
    "Problem_3\n",
    "\n",
    "* *Given an integer array nums, return true if there exists a triple of indices ```(i, j, k)``` such that ```i < j < k``` and ```nums[i] < nums[j] < nums[k]```. If no such indices exists, return false.*\n",
    "* *Example 1:* ```Input: nums = [1,2,3,4,5]``` and Output: true\n",
    "* *Explanation: Any triplet where i < j < k is valid.*"
   ]
  },
  {
   "cell_type": "markdown",
   "metadata": {
    "vscode": {
     "languageId": "plaintext"
    }
   },
   "source": [
    "Problem_4"
   ]
  },
  {
   "cell_type": "markdown",
   "metadata": {},
   "source": [
    "- *Given an array of characters chars, compress it using the following algorithm:*\n",
    "- *Begin with an empty string $s$. For each group of consecutive repeating characters in chars:*\n",
    "\n",
    "- *If the group's length is 1, append the character to s.*\n",
    "- *Otherwise, append the character followed by the group's length.*\n",
    "- *The compressed string $s$ should not be returned separately, but instead, be stored in the input character array chars.*\n",
    "   * *Note that group lengths that are 10 or longer will be split into multiple characters in chars.*\n",
    "\n",
    "- *After you are done modifying the input array, return the new length of the array.*\n",
    "- *You must write an algorithm that uses only constant extra space.*\n",
    "- **Example 1:** *Input: ```chars = [\"a\",\"a\",\"b\",\"b\",\"c\",\"c\",\"c\"]```*\n",
    "   * *Output: Return 6, and the first 6 characters of the input array should be: ```[\"a\",\"2\",\"b\",\"2\",\"c\",\"3\"]```\n",
    "- ```Explanation```: *The groups are \"aa\", \"bb\", and \"ccc\". This compresses to \"a2b2c3\".*"
   ]
  },
  {
   "cell_type": "markdown",
   "metadata": {
    "vscode": {
     "languageId": "plaintext"
    }
   },
   "source": [
    "Problem_5"
   ]
  },
  {
   "cell_type": "markdown",
   "metadata": {},
   "source": [
    "- *You are given an integer array height of length n. There are n vertical lines drawn such that the two endpoints of the ith line are $(i, 0)$ and $(i, height[i])$.*\n",
    "\n",
    "- *Find two lines that together with the x-axis form a container, such that the container contains the most water.*\n",
    "- *Return the maximum amount of water a container can store.*\n",
    "- *Notice that you may not slant the container.*"
   ]
  },
  {
   "cell_type": "markdown",
   "metadata": {},
   "source": [
    "Example 1:\n",
    "\n",
    "\n",
    "Input: height = [1,8,6,2,5,4,8,3,7]\n",
    "Output: 49\n",
    "Explanation: The above vertical lines are represented by array [1,8,6,2,5,4,8,3,7]. In this case, the max area of water (blue section) the container can contain is 49."
   ]
  },
  {
   "cell_type": "markdown",
   "metadata": {},
   "source": [
    "**Real Turing challenge**\n",
    "* *Given a string S, return the ```reverse``` string where all characters that are not a letter stay in the same place, and all letters reverse their positions.*\n",
    "- *Example:*\n",
    "1. Input: \"ab-cd\" Output: \"dc-ba\"\n",
    "2. Input: \"a-bC-dEf=ghIj!!\" Output: \"j-Ih-gfE=dCba!!"
   ]
  },
  {
   "cell_type": "code",
   "execution_count": 31,
   "metadata": {},
   "outputs": [],
   "source": [
    "class mySolution():\n",
    "    def reverseChar(self,S):\n",
    "        n = len(S)\n",
    "        reverse = []\n",
    "        for i in range(-1,-n,-1):\n",
    "            reverse.append(S[i])\n",
    "        return \"\".join(reverse)"
   ]
  },
  {
   "cell_type": "code",
   "execution_count": 32,
   "metadata": {},
   "outputs": [
    {
     "data": {
      "text/plain": [
       "'!hk=kjh-fed-cb'"
      ]
     },
     "execution_count": 32,
     "metadata": {},
     "output_type": "execute_result"
    }
   ],
   "source": [
    "mySolution().reverseChar(S=\"abc-def-hjk=kh!\")"
   ]
  },
  {
   "cell_type": "code",
   "execution_count": 33,
   "metadata": {},
   "outputs": [],
   "source": [
    "import re\n",
    "\n",
    "class mySolution:\n",
    "    def reverseChar(self, S):\n",
    "        # Extract all letters using regex\n",
    "        letters = re.findall('[a-zA-Z]', S)\n",
    "        \n",
    "        # Reverse the list of letters\n",
    "        letters.reverse()\n",
    "        \n",
    "        # Reconstruct the string\n",
    "        result = []\n",
    "        letter_index = 0\n",
    "        for char in S:\n",
    "            if char.isalpha():\n",
    "                result.append(letters[letter_index])\n",
    "                letter_index += 1\n",
    "            else:\n",
    "                result.append(char)\n",
    "        \n",
    "        # Convert the list to a string\n",
    "        return ''.join(result)"
   ]
  },
  {
   "cell_type": "code",
   "execution_count": 34,
   "metadata": {},
   "outputs": [],
   "source": [
    "def reverse_only_letters(S):\n",
    "    # Extract all letters from the string\n",
    "    letters = [char for char in S if char.isalpha()]\n",
    "    \n",
    "    # Reverse the list of letters\n",
    "    letters.reverse()\n",
    "    \n",
    "    # Reconstruct the string\n",
    "    result = []\n",
    "    letter_index = 0\n",
    "    for char in S:\n",
    "        if char.isalpha():\n",
    "            result.append(letters[letter_index])\n",
    "            letter_index += 1\n",
    "        else:\n",
    "            result.append(char)\n",
    "    # Convert the list to a string\n",
    "    return ''.join(result)"
   ]
  },
  {
   "cell_type": "code",
   "execution_count": 36,
   "metadata": {},
   "outputs": [
    {
     "data": {
      "text/plain": [
       "'hk2k-jhf-4edc=ba!'"
      ]
     },
     "execution_count": 36,
     "metadata": {},
     "output_type": "execute_result"
    }
   ],
   "source": [
    "reverse_only_letters(S=\"ab2c-def-4hjk=kh!\")"
   ]
  },
  {
   "cell_type": "markdown",
   "metadata": {},
   "source": [
    "**Real Algorithm code challenge**\n",
    "- *Given a binary tree, find its maximum depth.*\n",
    "- *The maximum depth is the number of nodes along the longest path from the root node down to the farthest leaf node.*\n",
    "- ```Node```: *A leaf node is a node with no children.*\n",
    "- *Example: Given binary tree [3,9,20,null,null,15,7]*\n",
    "```python\n",
    "3\n",
    "/\\ \n",
    "9 20\n",
    " / \\\n",
    "15  7\n",
    "Return its depth = 3\n",
    "```"
   ]
  },
  {
   "cell_type": "code",
   "execution_count": null,
   "metadata": {},
   "outputs": [],
   "source": [
    "class TreeNode:\n",
    "    def __init__(self, val=0, left=None, right=None):\n",
    "        self.val = val\n",
    "        self.left = left\n",
    "        self.right = right\n",
    "\n",
    "def maxDepth(root):\n",
    "    # Base case: if the tree is empty, depth is 0\n",
    "    if not root:\n",
    "        return 0\n",
    "    \n",
    "    # Recursively compute the depth of the left and right subtrees\n",
    "    left_depth = maxDepth(root.left)\n",
    "    right_depth = maxDepth(root.right)\n",
    "    \n",
    "    # The depth of the tree is 1 (for the root) plus the maximum of the left and right depths\n",
    "    return 1 + max(left_depth, right_depth)"
   ]
  },
  {
   "cell_type": "markdown",
   "metadata": {},
   "source": [
    "Given a string S, return the reverse string where all characters that are not a letter stay in the same place, and all letters reverse their positions.\n",
    "Example:\n",
    "1. Input: \"ab-cd\" Output: \"dc-ba\"\n",
    "2. Input: \"a-bC-dEf=ghIj!!\" Output: \"j-Ih-gfE=dCba!!\n"
   ]
  },
  {
   "cell_type": "code",
   "execution_count": null,
   "metadata": {},
   "outputs": [],
   "source": []
  },
  {
   "cell_type": "markdown",
   "metadata": {},
   "source": [
    "Given a binary tree, find its maximum depth.\n",
    "The maximum depth is the number of nodes along the longest path from the root node down to the farthest leaf node.\n",
    "Node: A leaf node is a node with no children.\n",
    "Example: Given binary tree [3,9,20,null,null,15,7]\n",
    "3\n",
    "/\\ \n",
    "9 20\n",
    " / \\\n",
    "15  7\n",
    "Return its depth = 3"
   ]
  },
  {
   "cell_type": "code",
   "execution_count": null,
   "metadata": {},
   "outputs": [],
   "source": [
    "class TreeNode:\n",
    "    def __init__(self, val=0, left=None, right=None):\n",
    "        self.val = val\n",
    "        self.left = left\n",
    "        self.right = right\n",
    "\n",
    "def maxDepth(root):\n",
    "    # Base case: if the tree is empty, depth is 0\n",
    "    if not root:\n",
    "        return 0\n",
    "    \n",
    "    # Recursively compute the depth of the left and right subtrees\n",
    "    left_depth = maxDepth(root.left)\n",
    "    right_depth = maxDepth(root.right)\n",
    "    \n",
    "    # The depth of the tree is 1 (for the root) plus the maximum of the left and right depths\n",
    "    return 1 + max(left_depth, right_depth)"
   ]
  },
  {
   "cell_type": "code",
   "execution_count": 13,
   "metadata": {},
   "outputs": [],
   "source": [
    "# Longest substring without repeating itself\n",
    "def longestSubstring(s):\n",
    "    list1 = []\n",
    "    n = len(s)\n",
    "    for i in range(0,n):\n",
    "        list1.append(s[i])\n",
    "        i += 1\n",
    "    se = set(list1)\n",
    "    return len(se)\n"
   ]
  },
  {
   "cell_type": "code",
   "execution_count": 15,
   "metadata": {},
   "outputs": [
    {
     "data": {
      "text/plain": [
       "4"
      ]
     },
     "execution_count": 15,
     "metadata": {},
     "output_type": "execute_result"
    }
   ],
   "source": [
    "longestSubstring(s='ABCABCBCABdAAC')"
   ]
  },
  {
   "cell_type": "code",
   "execution_count": 17,
   "metadata": {},
   "outputs": [
    {
     "data": {
      "text/plain": [
       "3"
      ]
     },
     "execution_count": 17,
     "metadata": {},
     "output_type": "execute_result"
    }
   ],
   "source": [
    "longestSubstring(s='AAAAAAADSDSDSDSDSD')"
   ]
  },
  {
   "cell_type": "markdown",
   "metadata": {},
   "source": [
    "You are given two strings word1 and word2. Merge the strings by adding letters in alternating order, starting with word1. If a string is longer than the other, append the additional letters onto the end of the merged string.\n",
    "\n",
    "Return the merged string."
   ]
  },
  {
   "cell_type": "code",
   "execution_count": null,
   "metadata": {},
   "outputs": [],
   "source": []
  },
  {
   "cell_type": "markdown",
   "metadata": {},
   "source": [
    "A peak element is an element that is strictly greater than its neighbors.\n",
    "\n",
    "Given a 0-indexed integer array nums, find a peak element, and return its index. If the array contains multiple peaks, return the index to any of the peaks.\n",
    "\n",
    "You may imagine that nums[-1] = nums[n] = -∞. In other words, an element is always considered to be strictly greater than a neighbor that is outside the array.\n",
    "\n",
    "You must write an algorithm that runs in O(log n) time."
   ]
  },
  {
   "cell_type": "code",
   "execution_count": null,
   "metadata": {},
   "outputs": [],
   "source": []
  },
  {
   "cell_type": "markdown",
   "metadata": {},
   "source": [
    "Koko loves to eat bananas. There are n piles of bananas, the ith pile has piles[i] bananas. The guards have gone and will come back in h hours.\n",
    "\n",
    "Koko can decide her bananas-per-hour eating speed of k. Each hour, she chooses some pile of bananas and eats k bananas from that pile. If the pile has less than k bananas, she eats all of them instead and will not eat any more bananas during this hour.\n",
    "\n",
    "Koko likes to eat slowly but still wants to finish eating all the bananas before the guards return.\n",
    "\n",
    "Return the minimum integer k such that she can eat all the bananas within h hours.\n",
    "\n",
    " "
   ]
  },
  {
   "cell_type": "code",
   "execution_count": null,
   "metadata": {},
   "outputs": [],
   "source": []
  },
  {
   "cell_type": "markdown",
   "metadata": {},
   "source": [
    "Given an array of characters chars, compress it using the following algorithm:\n",
    "\n",
    "Begin with an empty string s. For each group of consecutive repeating characters in chars:\n",
    "\n",
    "If the group's length is 1, append the character to s.\n",
    "Otherwise, append the character followed by the group's length.\n",
    "The compressed string s should not be returned separately, but instead, be stored in the input character array chars. Note that group lengths that are 10 or longer will be split into multiple characters in chars.\n",
    "\n",
    "After you are done modifying the input array, return the new length of the array.\n",
    "\n",
    "You must write an algorithm that uses only constant extra space.\n",
    "\n",
    " \n",
    "\n",
    "Example 1:\n",
    "\n",
    "Input: chars = [\"a\",\"a\",\"b\",\"b\",\"c\",\"c\",\"c\"]\n",
    "Output: Return 6, and the first 6 characters of the input array should be: [\"a\",\"2\",\"b\",\"2\",\"c\",\"3\"]\n",
    "Explanation: The groups are \"aa\", \"bb\", and \"ccc\". This compresses to \"a2b2c3\"."
   ]
  },
  {
   "cell_type": "code",
   "execution_count": null,
   "metadata": {},
   "outputs": [],
   "source": []
  },
  {
   "cell_type": "markdown",
   "metadata": {},
   "source": [
    "Given an integer array nums, move all 0's to the end of it while maintaining the relative order of the non-zero elements.\n",
    "\n",
    "Note that you must do this in-place without making a copy of the array."
   ]
  },
  {
   "cell_type": "code",
   "execution_count": 22,
   "metadata": {},
   "outputs": [],
   "source": [
    "def moveAllZero(nums):\n",
    "    n = len(nums)\n",
    "    Num = []\n",
    "    zeroN = []\n",
    "    for i in range(0,n):\n",
    "        if nums[i]!=0:\n",
    "            Num.append(nums[i])\n",
    "        if nums[i]==0:\n",
    "            zeroN.append(nums[i])\n",
    "            i += 1\n",
    "    moNum = Num + zeroN\n",
    "    return moNum\n",
    "        "
   ]
  },
  {
   "cell_type": "code",
   "execution_count": 28,
   "metadata": {},
   "outputs": [
    {
     "data": {
      "text/plain": [
       "[1, 3, 12, 0, 0]"
      ]
     },
     "execution_count": 28,
     "metadata": {},
     "output_type": "execute_result"
    }
   ],
   "source": [
    "moveAllZero(nums = [0,1,0,3,12])"
   ]
  },
  {
   "cell_type": "code",
   "execution_count": 31,
   "metadata": {},
   "outputs": [],
   "source": [
    "class Solution(object):\n",
    "    def moveZeroes(self, nums):\n",
    "        \"\"\"\n",
    "        :type nums: List[int]\n",
    "        :rtype: None Do not return anything, modify nums in-place instead.\n",
    "        \"\"\"\n",
    "        n = len(nums)\n",
    "        NonZero = []\n",
    "        ZeroNum = []\n",
    "        for i in range(0,n):\n",
    "            if nums[i] != 0:\n",
    "                NonZero.append(nums[i])\n",
    "            if nums[i] == 0:\n",
    "                ZeroNum.append(nums[i])\n",
    "                i += 1\n",
    "            moveZero = NonZero + ZeroNum\n",
    "        return moveZero"
   ]
  },
  {
   "cell_type": "code",
   "execution_count": 32,
   "metadata": {},
   "outputs": [
    {
     "data": {
      "text/plain": [
       "[1, 3, 12, 0, 0]"
      ]
     },
     "execution_count": 32,
     "metadata": {},
     "output_type": "execute_result"
    }
   ],
   "source": [
    "Solution().moveZeroes(nums= [0,1,0,3,12])"
   ]
  },
  {
   "cell_type": "code",
   "execution_count": 33,
   "metadata": {},
   "outputs": [
    {
     "name": "stdout",
     "output_type": "stream",
     "text": [
      "[1, 3, 12, 0, 0]\n"
     ]
    }
   ],
   "source": [
    "class Solution(object):\n",
    "    def moveZeroes(self, nums):\n",
    "        \"\"\"\n",
    "        :type nums: List[int]\n",
    "        :rtype: None. Modify nums in-place.\n",
    "        \"\"\"\n",
    "        non_zero_index = 0  # Pointer for non-zero elements\n",
    "\n",
    "        # Move non-zero elements forward\n",
    "        for i in range(len(nums)):\n",
    "            if nums[i] != 0:\n",
    "                nums[non_zero_index], nums[i] = nums[i], nums[non_zero_index]\n",
    "                non_zero_index += 1\n",
    "\n",
    "# Example usage:\n",
    "nums = [0, 1, 0, 3, 12]\n",
    "sol = Solution()\n",
    "sol.moveZeroes(nums)\n",
    "print(nums)  # Output: [1, 3, 12, 0, 0]\n"
   ]
  },
  {
   "cell_type": "code",
   "execution_count": null,
   "metadata": {},
   "outputs": [],
   "source": []
  },
  {
   "cell_type": "code",
   "execution_count": 11,
   "metadata": {},
   "outputs": [],
   "source": [
    "# Put or move all zeros to the right and all non-zero to the left\n",
    "class noahSol():\n",
    "    def moveNonZero(self, nums):\n",
    "        n = len(nums)\n",
    "        nonZeroIndex = 0\n",
    "        for i in range(n):\n",
    "            if nums[i] != 0:\n",
    "                nums[nonZeroIndex],nums[i] = nums[i], nums[nonZeroIndex]\n",
    "                nonZeroIndex += 1\n",
    "        return nums"
   ]
  },
  {
   "cell_type": "code",
   "execution_count": 12,
   "metadata": {},
   "outputs": [
    {
     "data": {
      "text/plain": [
       "[1, 8, 4, 4, 1, 6, 0, 0]"
      ]
     },
     "execution_count": 12,
     "metadata": {},
     "output_type": "execute_result"
    }
   ],
   "source": [
    "nums = [1,8,4,0,4,1,0,6]\n",
    "Sol = noahSol()\n",
    "Sol.moveNonZero(nums=nums)"
   ]
  },
  {
   "cell_type": "code",
   "execution_count": null,
   "metadata": {},
   "outputs": [],
   "source": []
  }
 ],
 "metadata": {
  "kernelspec": {
   "display_name": ".venv",
   "language": "python",
   "name": "python3"
  },
  "language_info": {
   "codemirror_mode": {
    "name": "ipython",
    "version": 3
   },
   "file_extension": ".py",
   "mimetype": "text/x-python",
   "name": "python",
   "nbconvert_exporter": "python",
   "pygments_lexer": "ipython3",
   "version": "3.12.6"
  }
 },
 "nbformat": 4,
 "nbformat_minor": 2
}
