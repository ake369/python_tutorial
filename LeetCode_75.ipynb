{
 "cells": [
  {
   "cell_type": "markdown",
   "metadata": {},
   "source": [
    "**Leet code 53 Medium challenges**"
   ]
  },
  {
   "cell_type": "markdown",
   "metadata": {},
   "source": [
    "**Day_1**"
   ]
  },
  {
   "cell_type": "markdown",
   "metadata": {},
   "source": [
    "Problem_1"
   ]
  },
  {
   "cell_type": "markdown",
   "metadata": {
    "vscode": {
     "languageId": "plaintext"
    }
   },
   "source": [
    "**Reverse Words in a String**\n",
    "- *Given an input string s, reverse the order of the words.*\n",
    "- *A word is defined as a sequence of non-space characters.*\n",
    "- *The words in s will be separated by at least one space.*\n",
    "\n",
    "- *Return a string of the words in reverse order concatenated by a single space.*\n",
    "\n",
    "   * *Note that s may contain leading or trailing spaces or multiple spaces between two words.*\n",
    "   * *The returned string should only have a single space separating the words.*\n",
    "   * *Do not include any extra spaces.*"
   ]
  },
  {
   "cell_type": "code",
   "execution_count": 11,
   "metadata": {},
   "outputs": [],
   "source": [
    "class mysolution():\n",
    "    def reverseWord(self,s):\n",
    "        revWord = []\n",
    "        word = s.split()\n",
    "        n = len(word)\n",
    "        for i in range(-1,-n-1,-1):\n",
    "            word_s = word[i]\n",
    "            revWord.append(word_s)\n",
    "        return \" \".join(revWord)\n"
   ]
  },
  {
   "cell_type": "code",
   "execution_count": 13,
   "metadata": {},
   "outputs": [
    {
     "data": {
      "text/plain": [
       "'much! so you Love'"
      ]
     },
     "execution_count": 13,
     "metadata": {},
     "output_type": "execute_result"
    }
   ],
   "source": [
    "mysolution().reverseWord(s='Love you so much!')"
   ]
  },
  {
   "cell_type": "markdown",
   "metadata": {
    "vscode": {
     "languageId": "plaintext"
    }
   },
   "source": [
    "Problem_2"
   ]
  },
  {
   "cell_type": "markdown",
   "metadata": {},
   "source": [
    "**Product of an array except itself**\n",
    "- *Given an integer array nums, return an array answer such that ```answer[i]``` is equal to the product of all the elements of nums except ```nums[i]```.*\n",
    "\n",
    "- *The product of any prefix or suffix of nums is guaranteed to fit in a 32-bit integer.*\n",
    "- *You must write an algorithm that runs in ```O(n)``` time and without using the **division** operation.*\n",
    "- Example 1:```Input: nums = [1,2,3,4] and Output: [24,12,8,6]```\n"
   ]
  },
  {
   "cell_type": "code",
   "execution_count": null,
   "metadata": {},
   "outputs": [],
   "source": [
    "class Solution(object):\n",
    "    def productExceptSelf(self, nums):\n",
    "        \"\"\"\n",
    "        :type nums: List[int]\n",
    "        :rtype: int\n",
    "        \"\"\"\n",
    "        n = len(nums)\n",
    "        answer = [1] * n    # Creates [1, 1, 1, 1, 1] n ones\n",
    "        for i in range(1, n):\n",
    "            answer[i] = answer[i - 1] * nums[i - 1]\n",
    "        right_product = 1\n",
    "        for i in range(n - 1, -1, -1):\n",
    "            answer[i] *= right_product\n",
    "            right_product *= nums[i]\n",
    "        return answer"
   ]
  },
  {
   "cell_type": "code",
   "execution_count": null,
   "metadata": {},
   "outputs": [
    {
     "name": "stdout",
     "output_type": "stream",
     "text": [
      "[1, 1, 1, 1, 1]\n"
     ]
    }
   ],
   "source": [
    "n = 5\n",
    "ans = [1]*n # Creates [1, 1, 1, 1, 1]\n"
   ]
  },
  {
   "cell_type": "code",
   "execution_count": 15,
   "metadata": {},
   "outputs": [
    {
     "data": {
      "text/plain": [
       "[30, 6, 5]"
      ]
     },
     "execution_count": 15,
     "metadata": {},
     "output_type": "execute_result"
    }
   ],
   "source": [
    "Solution().productExceptSelf(nums=[1,5,6])"
   ]
  },
  {
   "cell_type": "markdown",
   "metadata": {
    "vscode": {
     "languageId": "plaintext"
    }
   },
   "source": [
    "Problem_3\n",
    "\n",
    "* *Given an integer array nums, return true if there exists a triple of indices ```(i, j, k)``` such that ```i < j < k``` and ```nums[i] < nums[j] < nums[k]```. If no such indices exists, return false.*\n",
    "* *Example 1:* ```Input: nums = [1,2,3,4,5]``` and Output: true\n",
    "* *Explanation: Any triplet where i < j < k is valid.*"
   ]
  },
  {
   "cell_type": "markdown",
   "metadata": {
    "vscode": {
     "languageId": "plaintext"
    }
   },
   "source": [
    "Problem_4"
   ]
  },
  {
   "cell_type": "markdown",
   "metadata": {},
   "source": [
    "- *Given an array of characters chars, compress it using the following algorithm:*\n",
    "- *Begin with an empty string $s$. For each group of consecutive repeating characters in chars:*\n",
    "\n",
    "- *If the group's length is 1, append the character to s.*\n",
    "- *Otherwise, append the character followed by the group's length.*\n",
    "- *The compressed string $s$ should not be returned separately, but instead, be stored in the input character array chars.*\n",
    "   * *Note that group lengths that are 10 or longer will be split into multiple characters in chars.*\n",
    "\n",
    "- *After you are done modifying the input array, return the new length of the array.*\n",
    "- *You must write an algorithm that uses only constant extra space.*\n",
    "- **Example 1:** *Input: ```chars = [\"a\",\"a\",\"b\",\"b\",\"c\",\"c\",\"c\"]```*\n",
    "   * *Output: Return 6, and the first 6 characters of the input array should be: ```[\"a\",\"2\",\"b\",\"2\",\"c\",\"3\"]```\n",
    "- ```Explanation```: *The groups are \"aa\", \"bb\", and \"ccc\". This compresses to \"a2b2c3\".*"
   ]
  },
  {
   "cell_type": "markdown",
   "metadata": {
    "vscode": {
     "languageId": "plaintext"
    }
   },
   "source": [
    "Problem_5"
   ]
  },
  {
   "cell_type": "markdown",
   "metadata": {},
   "source": [
    "- *You are given an integer array height of length n. There are n vertical lines drawn such that the two endpoints of the ith line are $(i, 0)$ and $(i, height[i])$.*\n",
    "\n",
    "- *Find two lines that together with the x-axis form a container, such that the container contains the most water.*\n",
    "- *Return the maximum amount of water a container can store.*\n",
    "- *Notice that you may not slant the container.*"
   ]
  },
  {
   "cell_type": "markdown",
   "metadata": {},
   "source": [
    "Example 1:\n",
    "\n",
    "\n",
    "Input: height = [1,8,6,2,5,4,8,3,7]\n",
    "Output: 49\n",
    "Explanation: The above vertical lines are represented by array [1,8,6,2,5,4,8,3,7]. In this case, the max area of water (blue section) the container can contain is 49."
   ]
  },
  {
   "cell_type": "markdown",
   "metadata": {},
   "source": [
    "**Real Turing challenge**\n",
    "* *Given a string S, return the ```reverse``` string where all characters that are not a letter stay in the same place, and all letters reverse their positions.*\n",
    "- *Example:*\n",
    "1. Input: \"ab-cd\" Output: \"dc-ba\"\n",
    "2. Input: \"a-bC-dEf=ghIj!!\" Output: \"j-Ih-gfE=dCba!!"
   ]
  },
  {
   "cell_type": "code",
   "execution_count": null,
   "metadata": {},
   "outputs": [],
   "source": [
    "class mySolution():\n",
    "    def reverseChar(self,S):\n",
    "        n = len(S)\n",
    "        reverse = []\n",
    "        char = S.isalpha()\n",
    "        while char:\n",
    "            for i in range(-1,-n,-1):\n",
    "                reverse.append(S[i])\n",
    "        return \"\".join(reverse)"
   ]
  },
  {
   "cell_type": "code",
   "execution_count": 23,
   "metadata": {},
   "outputs": [],
   "source": [
    "mySolution().reverseChar(S=\"abc-def-hjk=kh!\")"
   ]
  },
  {
   "cell_type": "code",
   "execution_count": 20,
   "metadata": {},
   "outputs": [],
   "source": [
    "def reverse_only_letters(S):\n",
    "    # Extract all letters from the string\n",
    "    letters = [char for char in S if char.isalpha()]\n",
    "    \n",
    "    # Reverse the list of letters\n",
    "    letters.reverse()\n",
    "    \n",
    "    # Reconstruct the string\n",
    "    result = []\n",
    "    letter_index = 0\n",
    "    for char in S:\n",
    "        if char.isalpha():\n",
    "            result.append(letters[letter_index])\n",
    "            letter_index += 1\n",
    "        else:\n",
    "            result.append(char)\n",
    "    \n",
    "    # Convert the list to a string\n",
    "    return ''.join(result)"
   ]
  },
  {
   "cell_type": "code",
   "execution_count": 21,
   "metadata": {},
   "outputs": [
    {
     "data": {
      "text/plain": [
       "'hkk-jhf-edc=ba!'"
      ]
     },
     "execution_count": 21,
     "metadata": {},
     "output_type": "execute_result"
    }
   ],
   "source": [
    "reverse_only_letters(S=\"abc-def-hjk=kh!\")"
   ]
  },
  {
   "cell_type": "code",
   "execution_count": null,
   "metadata": {},
   "outputs": [],
   "source": []
  }
 ],
 "metadata": {
  "kernelspec": {
   "display_name": ".venv",
   "language": "python",
   "name": "python3"
  },
  "language_info": {
   "codemirror_mode": {
    "name": "ipython",
    "version": 3
   },
   "file_extension": ".py",
   "mimetype": "text/x-python",
   "name": "python",
   "nbconvert_exporter": "python",
   "pygments_lexer": "ipython3",
   "version": "3.12.6"
  }
 },
 "nbformat": 4,
 "nbformat_minor": 2
}
