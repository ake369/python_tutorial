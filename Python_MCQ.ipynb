{
 "cells": [
  {
   "cell_type": "markdown",
   "metadata": {},
   "source": [
    "**What will be the output of the following code?**\n",
    "```python\n",
    "def func(a, b=[]):\n",
    "    b.append(a)\n",
    "    return b\n",
    "\n",
    "print(func(1))\n",
    "print(func(2))\n",
    "print(func(3, []))\n",
    "print(func(4))\n",
    "```\n",
    "- A) [1], [2], [3], [4]\n",
    "- B) [1], [1, 2], [3], [1, 2, 4]\n",
    "- C) [1], [2], [3, 4], [4]\n",
    "- D) [1], [2], [3], [1, 2, 3, 4]"
   ]
  },
  {
   "cell_type": "code",
   "execution_count": 3,
   "metadata": {},
   "outputs": [
    {
     "name": "stdout",
     "output_type": "stream",
     "text": [
      "[1]\n",
      "[1, 2]\n",
      "[3]\n",
      "[1, 2, 4]\n",
      "{1, 2, 4}\n"
     ]
    }
   ],
   "source": [
    "def func(a, b=[]):\n",
    "    b.append(a)\n",
    "    return b\n",
    "\n",
    "print(func(1))\n",
    "print(func(2))\n",
    "print(func(3, []))\n",
    "print(func(4))\n",
    "print(set(func(1)))"
   ]
  },
  {
   "cell_type": "markdown",
   "metadata": {},
   "source": [
    "**What will be the output of the following code?**\n",
    "```python\n",
    "class A:\n",
    "    def __init__(self):\n",
    "        self.x = 1\n",
    "\n",
    "class B(A):\n",
    "    def __init__(self):\n",
    "        super().__init__()\n",
    "        self.y = self.x + 1\n",
    "\n",
    "class C(A):\n",
    "    def __init__(self):\n",
    "        super().__init__()\n",
    "        self.y = self.x + 2\n",
    "\n",
    "class D(B, C):\n",
    "    def __init__(self):\n",
    "        super().__init__()\n",
    "\n",
    "obj = D()\n",
    "print(obj.y)\n",
    "```\n",
    "- A) 2\n",
    "- B) 3\n",
    "- C) 4\n",
    "- D) Error"
   ]
  },
  {
   "cell_type": "code",
   "execution_count": 4,
   "metadata": {},
   "outputs": [
    {
     "name": "stdout",
     "output_type": "stream",
     "text": [
      "2\n"
     ]
    }
   ],
   "source": [
    "class A:\n",
    "    def __init__(self):\n",
    "        self.x = 1\n",
    "\n",
    "class B(A):\n",
    "    def __init__(self):\n",
    "        super().__init__()\n",
    "        self.y = self.x + 1\n",
    "\n",
    "class C(A):\n",
    "    def __init__(self):\n",
    "        super().__init__()\n",
    "        self.y = self.x + 2\n",
    "\n",
    "class D(B, C):\n",
    "    def __init__(self):\n",
    "        super().__init__()\n",
    "\n",
    "obj = D()\n",
    "print(obj.y)"
   ]
  },
  {
   "cell_type": "markdown",
   "metadata": {},
   "source": [
    "3. **What will be the output of this code?**\n",
    "```python\n",
    "a = (1, 2, 3)\n",
    "b = a\n",
    "a += (4, 5)\n",
    "print(a)\n",
    "print(b)\n",
    "```\n",
    "- A) (1, 2, 3, 4, 5), (1, 2, 3, 4, 5)\n",
    "- B) (1, 2, 3, 4, 5), (1, 2, 3)\n",
    "- C) (1, 2, 3), (1, 2, 3, 4, 5)\n",
    "- D) (1, 2, 3), (1, 2, 3)"
   ]
  },
  {
   "cell_type": "code",
   "execution_count": 5,
   "metadata": {},
   "outputs": [
    {
     "name": "stdout",
     "output_type": "stream",
     "text": [
      "(1, 2, 3, 4, 5)\n",
      "(1, 2, 3)\n"
     ]
    }
   ],
   "source": [
    "a = (1, 2, 3)\n",
    "b = a\n",
    "a += (4, 5)\n",
    "print(a)\n",
    "print(b)\n"
   ]
  },
  {
   "cell_type": "markdown",
   "metadata": {},
   "source": [
    "4. **What will be the output of the following code?**\n",
    "```python\n",
    "def func():\n",
    "    for i in range(3):\n",
    "        yield i\n",
    "\n",
    "g = func()\n",
    "print(next(g))\n",
    "print(next(g))\n",
    "g.close()\n",
    "print(next(g))\n",
    "```\n",
    "- A) 0 1 2\n",
    "- B) 0 1 StopIteration\n",
    "- C) 0 1 RuntimeError\n",
    "- D) 0 1 0"
   ]
  },
  {
   "cell_type": "code",
   "execution_count": 6,
   "metadata": {},
   "outputs": [
    {
     "name": "stdout",
     "output_type": "stream",
     "text": [
      "0\n",
      "1\n"
     ]
    },
    {
     "ename": "StopIteration",
     "evalue": "",
     "output_type": "error",
     "traceback": [
      "\u001b[1;31m---------------------------------------------------------------------------\u001b[0m",
      "\u001b[1;31mStopIteration\u001b[0m                             Traceback (most recent call last)",
      "Cell \u001b[1;32mIn[6], line 9\u001b[0m\n\u001b[0;32m      7\u001b[0m \u001b[38;5;28mprint\u001b[39m(\u001b[38;5;28mnext\u001b[39m(g))\n\u001b[0;32m      8\u001b[0m g\u001b[38;5;241m.\u001b[39mclose()\n\u001b[1;32m----> 9\u001b[0m \u001b[38;5;28mprint\u001b[39m(\u001b[38;5;28;43mnext\u001b[39;49m\u001b[43m(\u001b[49m\u001b[43mg\u001b[49m\u001b[43m)\u001b[49m)\n",
      "\u001b[1;31mStopIteration\u001b[0m: "
     ]
    }
   ],
   "source": [
    "def func():\n",
    "    for i in range(3):\n",
    "        yield i\n",
    "\n",
    "g = func()\n",
    "print(next(g))\n",
    "print(next(g))\n",
    "g.close()\n",
    "print(next(g))\n"
   ]
  },
  {
   "cell_type": "markdown",
   "metadata": {},
   "source": [
    "5. **What will be the output of this code?**\n",
    "```python\n",
    "def add_to_list(value, lst=[]):\n",
    "    lst.append(value)\n",
    "    return lst\n",
    "\n",
    "print(add_to_list(1))\n",
    "print(add_to_list(2, []))\n",
    "print(add_to_list(3))\n",
    "```\n",
    "- A) [1], [2], [3]\n",
    "- B) [1], [2], [1, 3]\n",
    "- C) [1], [2], [3]\n",
    "- D) [1], [2], [1, 3]\n"
   ]
  },
  {
   "cell_type": "code",
   "execution_count": 7,
   "metadata": {},
   "outputs": [
    {
     "name": "stdout",
     "output_type": "stream",
     "text": [
      "[1]\n",
      "[2]\n",
      "[1, 3]\n"
     ]
    }
   ],
   "source": [
    "def add_to_list(value, lst=[]):\n",
    "    lst.append(value)\n",
    "    return lst\n",
    "\n",
    "print(add_to_list(1))\n",
    "print(add_to_list(2, []))\n",
    "print(add_to_list(3))\n"
   ]
  },
  {
   "cell_type": "code",
   "execution_count": null,
   "metadata": {},
   "outputs": [],
   "source": [
    "class books:\n",
    "    def __init__ (self, author,title):\n",
    "        self.author = author\n",
    "        self.title = title\n",
    "\n",
    "class journas:\n",
    "    def __init__ (self):\n",
    "        super().__init__()\n",
    "        self.info = self.author\n"
   ]
  },
  {
   "cell_type": "code",
   "execution_count": 11,
   "metadata": {},
   "outputs": [
    {
     "data": {
      "text/plain": [
       "<__main__.books at 0x196fa3f2d50>"
      ]
     },
     "execution_count": 11,
     "metadata": {},
     "output_type": "execute_result"
    }
   ],
   "source": [
    "books('mamo','Mathematics')"
   ]
  },
  {
   "cell_type": "code",
   "execution_count": null,
   "metadata": {},
   "outputs": [],
   "source": []
  }
 ],
 "metadata": {
  "kernelspec": {
   "display_name": ".venv",
   "language": "python",
   "name": "python3"
  },
  "language_info": {
   "codemirror_mode": {
    "name": "ipython",
    "version": 3
   },
   "file_extension": ".py",
   "mimetype": "text/x-python",
   "name": "python",
   "nbconvert_exporter": "python",
   "pygments_lexer": "ipython3",
   "version": "3.12.6"
  }
 },
 "nbformat": 4,
 "nbformat_minor": 2
}
