{
 "cells": [
  {
   "cell_type": "markdown",
   "metadata": {},
   "source": [
    "**What will be the output of the following code?**\n",
    "```python\n",
    "def func(a, b=[]):\n",
    "    b.append(a)\n",
    "    return b\n",
    "\n",
    "print(func(1))\n",
    "print(func(2))\n",
    "print(func(3, []))\n",
    "print(func(4))\n",
    "```\n",
    "- A) [1], [2], [3], [4]\n",
    "- B) [1], [1, 2], [3], [1, 2, 4]\n",
    "- C) [1], [2], [3, 4], [4]\n",
    "- D) [1], [2], [3], [1, 2, 3, 4]"
   ]
  },
  {
   "cell_type": "code",
   "execution_count": 3,
   "metadata": {},
   "outputs": [
    {
     "name": "stdout",
     "output_type": "stream",
     "text": [
      "[1]\n",
      "[1, 2]\n",
      "[3]\n",
      "[1, 2, 4]\n",
      "{1, 2, 4}\n"
     ]
    }
   ],
   "source": [
    "def func(a, b=[]):\n",
    "    b.append(a)\n",
    "    return b\n",
    "\n",
    "print(func(1))\n",
    "print(func(2))\n",
    "print(func(3, []))\n",
    "print(func(4))\n",
    "print(set(func(1)))"
   ]
  },
  {
   "cell_type": "markdown",
   "metadata": {},
   "source": [
    "**What will be the output of the following code?**\n",
    "```python\n",
    "class A:\n",
    "    def __init__(self):\n",
    "        self.x = 1\n",
    "\n",
    "class B(A):\n",
    "    def __init__(self):\n",
    "        super().__init__()\n",
    "        self.y = self.x + 1\n",
    "\n",
    "class C(A):\n",
    "    def __init__(self):\n",
    "        super().__init__()\n",
    "        self.y = self.x + 2\n",
    "\n",
    "class D(B, C):\n",
    "    def __init__(self):\n",
    "        super().__init__()\n",
    "\n",
    "obj = D()\n",
    "print(obj.y)\n",
    "```\n",
    "- A) 2\n",
    "- B) 3\n",
    "- C) 4\n",
    "- D) Error"
   ]
  },
  {
   "cell_type": "code",
   "execution_count": 4,
   "metadata": {},
   "outputs": [
    {
     "name": "stdout",
     "output_type": "stream",
     "text": [
      "2\n"
     ]
    }
   ],
   "source": [
    "class A:\n",
    "    def __init__(self):\n",
    "        self.x = 1\n",
    "\n",
    "class B(A):\n",
    "    def __init__(self):\n",
    "        super().__init__()\n",
    "        self.y = self.x + 1\n",
    "\n",
    "class C(A):\n",
    "    def __init__(self):\n",
    "        super().__init__()\n",
    "        self.y = self.x + 2\n",
    "\n",
    "class D(B, C):\n",
    "    def __init__(self):\n",
    "        super().__init__()\n",
    "\n",
    "obj = D()\n",
    "print(obj.y)"
   ]
  },
  {
   "cell_type": "code",
   "execution_count": null,
   "metadata": {},
   "outputs": [],
   "source": []
  }
 ],
 "metadata": {
  "kernelspec": {
   "display_name": ".venv",
   "language": "python",
   "name": "python3"
  },
  "language_info": {
   "codemirror_mode": {
    "name": "ipython",
    "version": 3
   },
   "file_extension": ".py",
   "mimetype": "text/x-python",
   "name": "python",
   "nbconvert_exporter": "python",
   "pygments_lexer": "ipython3",
   "version": "3.12.6"
  }
 },
 "nbformat": 4,
 "nbformat_minor": 2
}
