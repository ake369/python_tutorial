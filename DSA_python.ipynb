{
 "cells": [
  {
   "cell_type": "markdown",
   "metadata": {},
   "source": [
    "**Data Structure and Algorithms**"
   ]
  },
  {
   "cell_type": "markdown",
   "metadata": {},
   "source": [
    "- *In Computer Science there are two different kinds of data structures.*\n",
    "\n",
    "* *```Primitive Data Structures``` are basic data structures provided by programming languages to represent single values, such as:* \n",
    "  * integers, \n",
    "  * floating-point numbers, \n",
    "  * characters, and \n",
    "  * booleans.\n",
    "\n",
    "* *```Abstract Data Structures``` are higher-level data structures that are built using primitive data types and provide more complex and specialized operations. Some common examples of abstract data structures include:* \n",
    "  * arrays, \n",
    "  * linked lists, \n",
    "  * stacks, \n",
    "  * queues, \n",
    "  * trees, and \n",
    "  * graphs."
   ]
  },
  {
   "cell_type": "code",
   "execution_count": 6,
   "metadata": {},
   "outputs": [
    {
     "name": "stdout",
     "output_type": "stream",
     "text": [
      "Lowest value: 2\n"
     ]
    }
   ],
   "source": [
    "my_array = [7, 12, 9, 4,2, 11]\n",
    "minVal = my_array[0]\n",
    "\n",
    "for i in my_array:\n",
    "    if i < minVal:\n",
    "        minVal = i\n",
    "\n",
    "print('Lowest value:',minVal)"
   ]
  },
  {
   "cell_type": "code",
   "execution_count": null,
   "metadata": {},
   "outputs": [],
   "source": [
    "def fibonnaciNum(n):\n",
    "    f0 = 0\n",
    "    f1 = 1\n",
    "    F = [f0, f1]\n",
    "    for i in range(n):\n",
    "        Fn = f0 + f1\n",
    "        F.append(Fn)\n",
    "        f0 = f1\n",
    "        f1 = Fn\n",
    "\n",
    "    return list(F)"
   ]
  },
  {
   "cell_type": "code",
   "execution_count": 25,
   "metadata": {},
   "outputs": [
    {
     "data": {
      "text/plain": [
       "[0,\n",
       " 1,\n",
       " 1,\n",
       " 2,\n",
       " 3,\n",
       " 5,\n",
       " 8,\n",
       " 13,\n",
       " 21,\n",
       " 34,\n",
       " 55,\n",
       " 89,\n",
       " 144,\n",
       " 233,\n",
       " 377,\n",
       " 610,\n",
       " 987,\n",
       " 1597,\n",
       " 2584,\n",
       " 4181,\n",
       " 6765,\n",
       " 10946]"
      ]
     },
     "execution_count": 25,
     "metadata": {},
     "output_type": "execute_result"
    }
   ],
   "source": [
    "fibonnaciNum(n=20)"
   ]
  },
  {
   "cell_type": "code",
   "execution_count": 26,
   "metadata": {},
   "outputs": [
    {
     "name": "stdout",
     "output_type": "stream",
     "text": [
      "0\n",
      "1\n",
      "1\n",
      "2\n",
      "3\n",
      "5\n",
      "8\n",
      "13\n",
      "21\n",
      "34\n",
      "55\n",
      "89\n",
      "144\n",
      "233\n",
      "377\n",
      "610\n",
      "987\n",
      "1597\n",
      "2584\n",
      "4181\n"
     ]
    }
   ],
   "source": [
    "prev2 = 0\n",
    "prev1 = 1\n",
    "\n",
    "print(prev2)\n",
    "print(prev1)\n",
    "for fibo in range(18):\n",
    "    newFibo = prev1 + prev2\n",
    "    print(newFibo)\n",
    "    prev2 = prev1\n",
    "    prev1 = newFibo"
   ]
  },
  {
   "cell_type": "code",
   "execution_count": 27,
   "metadata": {},
   "outputs": [
    {
     "name": "stdout",
     "output_type": "stream",
     "text": [
      "0\n",
      "1\n",
      "1\n",
      "2\n",
      "3\n",
      "5\n",
      "8\n",
      "13\n",
      "21\n",
      "34\n",
      "55\n",
      "89\n",
      "144\n",
      "233\n",
      "377\n",
      "610\n",
      "987\n",
      "1597\n",
      "2584\n",
      "4181\n"
     ]
    }
   ],
   "source": [
    "print(0)\n",
    "print(1)\n",
    "count = 2\n",
    "\n",
    "def fibonacci(prev1, prev2):\n",
    "    global count\n",
    "    if count <= 19:\n",
    "        newFibo = prev1 + prev2\n",
    "        print(newFibo)\n",
    "        prev2 = prev1\n",
    "        prev1 = newFibo\n",
    "        count += 1\n",
    "        fibonacci(prev1, prev2)\n",
    "    else:\n",
    "        return\n",
    "\n",
    "fibonacci(1,0)"
   ]
  },
  {
   "cell_type": "code",
   "execution_count": 34,
   "metadata": {},
   "outputs": [],
   "source": [
    "class myFibo():\n",
    "    def fibonaccifun(self,n):\n",
    "        f0 = 0\n",
    "        f1 = 1\n",
    "        Fn = [f0,f1]\n",
    "        for i in range(n):\n",
    "            F = f0 + f1\n",
    "            Fn.append(F)\n",
    "            f0 = f1\n",
    "            f1 = F\n",
    "        return Fn"
   ]
  },
  {
   "cell_type": "code",
   "execution_count": 35,
   "metadata": {},
   "outputs": [
    {
     "data": {
      "text/plain": [
       "[0, 1, 1, 2, 3, 5, 8, 13]"
      ]
     },
     "execution_count": 35,
     "metadata": {},
     "output_type": "execute_result"
    }
   ],
   "source": [
    "myFibo().fibonaccifun(6)"
   ]
  },
  {
   "cell_type": "markdown",
   "metadata": {},
   "source": [
    "*Assume you have an array A = [7, 12, 9, 4, 11], then write a function to get the smallest of these numbers*"
   ]
  },
  {
   "cell_type": "code",
   "execution_count": 1,
   "metadata": {},
   "outputs": [],
   "source": [
    "class mysol():\n",
    "    def minOfAll(self,nums):\n",
    "        nums_arry = nums[0]\n",
    "        n = len(nums)\n",
    "        for i in range(n):\n",
    "            if nums[i] <= nums_arry:\n",
    "                nums_arry = nums[i]\n",
    "                i += 1\n",
    "            \n",
    "        return nums_arry\n"
   ]
  },
  {
   "cell_type": "code",
   "execution_count": 4,
   "metadata": {},
   "outputs": [
    {
     "data": {
      "text/plain": [
       "-11"
      ]
     },
     "execution_count": 4,
     "metadata": {},
     "output_type": "execute_result"
    }
   ],
   "source": [
    "nums = [7, 12, 9, 4, -11,2]\n",
    "mysol().minOfAll(nums=nums)"
   ]
  },
  {
   "cell_type": "code",
   "execution_count": 6,
   "metadata": {},
   "outputs": [
    {
     "name": "stdout",
     "output_type": "stream",
     "text": [
      "Sorted array: [5, 11, 12, 22, 25, 34, 64, 90]\n"
     ]
    }
   ],
   "source": [
    "my_array = [64, 34, 25, 12, 22, 11, 90, 5]\n",
    "n = len(my_array)\n",
    "for i in range(n-1):\n",
    "    for j in range(n-i-1):\n",
    "        if my_array[j] > my_array[j+1]:\n",
    "            my_array[j], my_array[j+1] = my_array[j+1], my_array[j]\n",
    "\n",
    "print(\"Sorted array:\", my_array)"
   ]
  },
  {
   "cell_type": "code",
   "execution_count": 8,
   "metadata": {},
   "outputs": [
    {
     "name": "stdout",
     "output_type": "stream",
     "text": [
      "Sorted array: [3, 7, 9, 11, 12]\n"
     ]
    }
   ],
   "source": [
    "# Improved\n",
    "my_array = [7, 3, 9, 12, 11]\n",
    "\n",
    "n = len(my_array)\n",
    "for i in range(n-1):\n",
    "    swapped = False\n",
    "    for j in range(n-i-1):\n",
    "        if my_array[j] > my_array[j+1]:\n",
    "            my_array[j], my_array[j+1] = my_array[j+1], my_array[j]\n",
    "            swapped = True\n",
    "    if not swapped:\n",
    "        break\n",
    "\n",
    "print(\"Sorted array:\", my_array)"
   ]
  },
  {
   "cell_type": "markdown",
   "metadata": {},
   "source": [
    "**Selection Sort Implementation**\n",
    "- To implement the Selection Sort algorithm in a programming language, we need:\n",
    "\n",
    "1. *An array with values to sort.*\n",
    "2. *An inner loop that goes through the array, finds the lowest value, and moves it to the front of the array. This loop must loop through one less value each time it runs.*\n",
    "3. *An outer loop that controls how many times the inner loop must run. For an array with n values, this outer loop must run n−1 times.*\n",
    "- *The resulting code looks like this:*"
   ]
  },
  {
   "cell_type": "code",
   "execution_count": null,
   "metadata": {},
   "outputs": [
    {
     "name": "stdout",
     "output_type": "stream",
     "text": [
      "Sorted array: [5, 11, 12, 22, 25, 34, 64, 90]\n"
     ]
    }
   ],
   "source": [
    "my_array = [64, 34, 25, 5, 22, 11, 90, 12]\n",
    "\n",
    "n = len(my_array)\n",
    "for i in range(n-1):\n",
    "    min_index = i\n",
    "    for j in range(i+1, n):\n",
    "        if my_array[j] < my_array[min_index]:\n",
    "            min_index = j\n",
    "    min_value = my_array.pop(min_index)\n",
    "    my_array.insert(i, min_value)\n",
    "print(\"Sorted array:\", my_array)"
   ]
  },
  {
   "cell_type": "markdown",
   "metadata": {},
   "source": [
    "*Insertion sort using while loop*"
   ]
  },
  {
   "cell_type": "code",
   "execution_count": 52,
   "metadata": {},
   "outputs": [
    {
     "name": "stdout",
     "output_type": "stream",
     "text": [
      "[5, 11, 12, 22, 25, 34, 64, 90]\n"
     ]
    }
   ],
   "source": [
    "def insertion_sort(arr):\n",
    "    for i in range(1, len(arr)):\n",
    "        key = arr[i]\n",
    "        j = i - 1\n",
    "        while j >= 0 and key < arr[j]:\n",
    "            arr[j + 1] = arr[j]\n",
    "            j -= 1\n",
    "        arr[j + 1] = key\n",
    "    return arr\n",
    "\n",
    "print(insertion_sort([64, 34, 25, 5, 22, 11, 90, 12]))\n"
   ]
  },
  {
   "cell_type": "markdown",
   "metadata": {},
   "source": [
    "**Bubble Sort**"
   ]
  },
  {
   "cell_type": "code",
   "execution_count": 11,
   "metadata": {},
   "outputs": [],
   "source": [
    "class mysolu():\n",
    "    def sortBubble(self, myarray):\n",
    "        n = len(myarray)\n",
    "        for i in range(n-1):\n",
    "            swapped = False\n",
    "            for j in range(n-i-1):\n",
    "                if myarray[j] > myarray[j+1]:\n",
    "                    myarray[j],myarray[j+1] = myarray[j+1],myarray[j]\n",
    "                    swapped = True\n",
    "        print(f\"sorted myarray: {myarray}\")"
   ]
  },
  {
   "cell_type": "code",
   "execution_count": 12,
   "metadata": {},
   "outputs": [
    {
     "name": "stdout",
     "output_type": "stream",
     "text": [
      "sorted myarray: [2, 6, 7, 12, 15]\n"
     ]
    }
   ],
   "source": [
    "myarray = [ 15,7,6,12,2]\n",
    "mysolu().sortBubble(myarray=myarray)"
   ]
  },
  {
   "cell_type": "markdown",
   "metadata": {},
   "source": [
    "**Selection sort**\n",
    "* Selects the smallest element and swaps it with the current position."
   ]
  },
  {
   "cell_type": "code",
   "execution_count": 23,
   "metadata": {},
   "outputs": [],
   "source": [
    "class mypretty():\n",
    "    def seleSort(self, myArray):\n",
    "        n = len(myArray)\n",
    "        for i in range(n):\n",
    "            min_index = i\n",
    "            for j in range(i+1,n):\n",
    "                if myArray[j] < myArray[min_index]:\n",
    "                    min_index = j\n",
    "\n",
    "                myArray[i],myArray[min_index] = myArray[min_index],myArray[i]\n",
    "\n",
    "        print(f\"My sorted myArray: {myArray}\")"
   ]
  },
  {
   "cell_type": "code",
   "execution_count": 24,
   "metadata": {},
   "outputs": [
    {
     "name": "stdout",
     "output_type": "stream",
     "text": [
      "My sorted myArray: [2, 6, 7, 12, 15]\n"
     ]
    }
   ],
   "source": [
    "myArray =  [ 15,7,6,12,2]\n",
    "mypretty().seleSort(myArray=myArray)"
   ]
  },
  {
   "cell_type": "markdown",
   "metadata": {},
   "source": [
    "Insertion Sort Implementation\n",
    "To implement the Insertion Sort algorithm in a programming language, we need:\n",
    "\n",
    "- *An array with values to sort.*\n",
    "- *An outer loop that picks a value to be sorted. For an array with n values, this outer loop skips the first value, and must run n−1 times.*\n",
    "- *An inner loop that goes through the sorted part of the array, to find where to insert the value. If the value to be sorted is at index i, the sorted part of the array starts at index 0 and ends at index i−1.*\n",
    "- **The resulting code looks like this:**"
   ]
  },
  {
   "cell_type": "code",
   "execution_count": 31,
   "metadata": {},
   "outputs": [
    {
     "name": "stdout",
     "output_type": "stream",
     "text": [
      "My sorted array: [5, 11, 12, 22, 25, 34, 64, 90]\n"
     ]
    }
   ],
   "source": [
    "\n",
    "class mysoll():\n",
    "    def myInsetSort(self, my_array):\n",
    "        n = len(my_array)\n",
    "        for i in range(1,n):\n",
    "            insert_index = i\n",
    "            current_value = my_array.pop(i)\n",
    "            for j in range(i-1, -1, -1):\n",
    "                if my_array[j] > current_value:\n",
    "                    insert_index = j\n",
    "            my_array.insert(insert_index, current_value)\n",
    "        print(f\"My sorted array: {my_array}\")\n",
    "\n",
    "sol = mysoll()\n",
    "my_array = [64, 34, 25, 12, 22, 11, 90, 5]\n",
    "sol.myInsetSort(my_array=my_array)"
   ]
  },
  {
   "cell_type": "markdown",
   "metadata": {},
   "source": [
    "**Improved Insertion sort**"
   ]
  },
  {
   "cell_type": "code",
   "execution_count": 32,
   "metadata": {},
   "outputs": [
    {
     "name": "stdout",
     "output_type": "stream",
     "text": [
      "Sorted array: [5, 11, 12, 22, 25, 34, 64, 90]\n"
     ]
    }
   ],
   "source": [
    "class inserSor():\n",
    "    def myInsertionSort(self, my_array):\n",
    "        n = len(my_array)\n",
    "        for i in range(1,n):\n",
    "            insert_index = i\n",
    "            current_value = my_array[i]\n",
    "            for j in range(i-1, -1, -1):\n",
    "                if my_array[j] > current_value:\n",
    "                    my_array[j+1] = my_array[j]\n",
    "                    insert_index = j\n",
    "                else:\n",
    "                    break\n",
    "            my_array[insert_index] = current_value\n",
    "\n",
    "my_array = [64, 34, 25, 12, 22, 11, 90, 5]\n",
    "S = inserSor()\n",
    "S.myInsertionSort(my_array=my_array)\n",
    "print(\"Sorted array:\", my_array) \n",
    " "
   ]
  },
  {
   "cell_type": "code",
   "execution_count": null,
   "metadata": {},
   "outputs": [],
   "source": [
    "class mycls():\n",
    "    def myfun(self, arr):\n",
    "        n = len(arr)\n",
    "        for i in range(1,n):\n",
    "            min_idx = i\n",
    "            current_value = arr[min_idx]\n",
    "            for j in range(i-1,-1,-1):\n",
    "                if arr[j]> current_value:\n",
    "                    arr[j+1]=arr[j]\n",
    "                    "
   ]
  },
  {
   "cell_type": "code",
   "execution_count": 44,
   "metadata": {},
   "outputs": [
    {
     "name": "stdout",
     "output_type": "stream",
     "text": [
      "1\n"
     ]
    }
   ],
   "source": [
    "A = [ 1,6,7,8,9,11,4]\n",
    "n =  len(A)\n",
    "print(A[n-7])"
   ]
  },
  {
   "cell_type": "code",
   "execution_count": 45,
   "metadata": {},
   "outputs": [
    {
     "data": {
      "text/plain": [
       "1"
      ]
     },
     "execution_count": 45,
     "metadata": {},
     "output_type": "execute_result"
    }
   ],
   "source": [
    "A[-7]"
   ]
  },
  {
   "cell_type": "code",
   "execution_count": 46,
   "metadata": {},
   "outputs": [
    {
     "name": "stdout",
     "output_type": "stream",
     "text": [
      "[11, 12, 22, 25, 64]\n"
     ]
    }
   ],
   "source": [
    "def bubble_sort(arr):\n",
    "    n = len(arr)\n",
    "    for i in range(n):\n",
    "        for j in range(0, n-i-1):\n",
    "            if arr[j] > arr[j+1]:\n",
    "                arr[j], arr[j+1] = arr[j+1], arr[j]\n",
    "    return arr\n",
    "\n",
    "# Example\n",
    "print(bubble_sort([64, 25, 12, 22, 11]))\n"
   ]
  },
  {
   "cell_type": "code",
   "execution_count": null,
   "metadata": {},
   "outputs": [
    {
     "name": "stdout",
     "output_type": "stream",
     "text": [
      "[64, 25, 12, 22, 11]\n"
     ]
    }
   ],
   "source": [
    "def bubble_sort(arr):\n",
    "    n = len(arr)\n",
    "    for i in range(n):\n",
    "        for j in range(0, n-i-1):\n",
    "            if arr[j] > arr[j+1]:\n",
    "                arr[j], arr[j+1] = arr[j+1], arr[j]\n",
    "    return arr\n",
    "\n",
    "# Example\n",
    "print(bubble_sort([64, 25, 12, 22, 11]))\n"
   ]
  },
  {
   "cell_type": "markdown",
   "metadata": {},
   "source": [
    "- **Quicksort Implementation**\n",
    "- *To write a 'quickSort' method that splits the array into shorter and shorter sub-arrays we use recursion. This means that the 'quickSort' method must call itself with the new sub-arrays to the left and right of the pivot element. Read more about recursion here.*\n",
    "\n",
    "- **To implement the Quicksort algorithm in a programming language, we need:**\n",
    "\n",
    "- *An array with values to sort.*\n",
    "    - A quickSort method that calls itself (recursion) if the sub-array has a size larger than 1.\n",
    "    * A partition method that receives a sub-array, moves values around, swaps the pivot element into the sub-array and returns the index where the next split in sub-arrays happens.\n",
    "    * The resulting code looks like this:"
   ]
  },
  {
   "cell_type": "code",
   "execution_count": 54,
   "metadata": {},
   "outputs": [
    {
     "name": "stdout",
     "output_type": "stream",
     "text": [
      "Sorted array: [5, 11, 12, 22, 25, 34, 64, 90]\n"
     ]
    }
   ],
   "source": [
    "def partition(array, low, high):\n",
    "    pivot = array[high]\n",
    "    i = low - 1\n",
    "\n",
    "    for j in range(low, high):\n",
    "        if array[j] <= pivot:\n",
    "            i += 1\n",
    "            array[i], array[j] = array[j], array[i]\n",
    "\n",
    "    array[i+1], array[high] = array[high], array[i+1]\n",
    "    return i+1\n",
    "\n",
    "def quicksort(array, low=0, high=None):\n",
    "    if high is None:\n",
    "        high = len(array) - 1\n",
    "\n",
    "    if low < high:\n",
    "        pivot_index = partition(array, low, high)\n",
    "        quicksort(array, low, pivot_index-1)\n",
    "        quicksort(array, pivot_index+1, high)\n",
    "\n",
    "my_array = [64, 34, 25, 12, 22, 11, 90, 5]\n",
    "quicksort(my_array)\n",
    "print(\"Sorted array:\", my_array)"
   ]
  },
  {
   "cell_type": "markdown",
   "metadata": {},
   "source": [
    "**Improved Quick Sort**"
   ]
  },
  {
   "cell_type": "code",
   "execution_count": 53,
   "metadata": {},
   "outputs": [
    {
     "name": "stdout",
     "output_type": "stream",
     "text": [
      "[11, 12, 22, 25, 64]\n"
     ]
    }
   ],
   "source": [
    "def quick_sort(arr):\n",
    "    if len(arr) <= 1:\n",
    "        return arr\n",
    "    pivot = arr[len(arr) // 2]\n",
    "    left = [x for x in arr if x < pivot]\n",
    "    middle = [x for x in arr if x == pivot]\n",
    "    right = [x for x in arr if x > pivot]\n",
    "    return quick_sort(left) + middle + quick_sort(right)\n",
    "\n",
    "print(quick_sort([64, 25, 12, 22, 11]))\n"
   ]
  },
  {
   "cell_type": "markdown",
   "metadata": {},
   "source": []
  },
  {
   "cell_type": "code",
   "execution_count": 55,
   "metadata": {},
   "outputs": [
    {
     "name": "stdout",
     "output_type": "stream",
     "text": [
      "Sorted array: [-13, -10, 3, 6, 7, 15, 23.5, 55]\n"
     ]
    }
   ],
   "source": [
    "def mergeSort(arr):\n",
    "    if len(arr) <= 1:\n",
    "        return arr\n",
    "\n",
    "    mid = len(arr) // 2\n",
    "    leftHalf = arr[:mid]\n",
    "    rightHalf = arr[mid:]\n",
    "\n",
    "    sortedLeft = mergeSort(leftHalf)\n",
    "    sortedRight = mergeSort(rightHalf)\n",
    "\n",
    "    return merge(sortedLeft, sortedRight)\n",
    "\n",
    "def merge(left, right):\n",
    "    result = []\n",
    "    i = j = 0\n",
    "\n",
    "    while i < len(left) and j < len(right):\n",
    "        if left[i] < right[j]:\n",
    "            result.append(left[i])\n",
    "            i += 1\n",
    "        else:\n",
    "            result.append(right[j])\n",
    "            j += 1\n",
    "\n",
    "    result.extend(left[i:])\n",
    "    result.extend(right[j:])\n",
    "\n",
    "    return result\n",
    "\n",
    "unsortedArr = [3, 7, 6, -10, 15, 23.5, 55, -13]\n",
    "sortedArr = mergeSort(unsortedArr)\n",
    "print(\"Sorted array:\", sortedArr)"
   ]
  },
  {
   "cell_type": "markdown",
   "metadata": {},
   "source": [
    "**Mersge Sort Without recurrsion**"
   ]
  },
  {
   "cell_type": "code",
   "execution_count": 57,
   "metadata": {},
   "outputs": [
    {
     "name": "stdout",
     "output_type": "stream",
     "text": [
      "Sorted array: [-13, -10, 3, 6, 7, 15, 23.5, 55]\n"
     ]
    }
   ],
   "source": [
    "def merge(left, right):\n",
    "    result = []\n",
    "    i = j = 0\n",
    "    \n",
    "    while i < len(left) and j < len(right):\n",
    "        if left[i] < right[j]:\n",
    "            result.append(left[i])\n",
    "            i += 1\n",
    "        else:\n",
    "            result.append(right[j])\n",
    "            j += 1\n",
    "            \n",
    "    result.extend(left[i:])\n",
    "    result.extend(right[j:])\n",
    "    \n",
    "    return result\n",
    "\n",
    "def mergeSort(arr):\n",
    "    step = 1  # Starting with sub-arrays of length 1\n",
    "    length = len(arr)\n",
    "    \n",
    "    while step < length:\n",
    "        for i in range(0, length, 2 * step):\n",
    "            left = arr[i:i + step]\n",
    "            right = arr[i + step:i + 2 * step]\n",
    "            \n",
    "            merged = merge(left, right)\n",
    "            \n",
    "            # Place the merged array back into the original array\n",
    "            for j, val in enumerate(merged):\n",
    "                arr[i + j] = val\n",
    "                \n",
    "        step *= 2  # Double the sub-array length for the next iteration\n",
    "        \n",
    "    return arr\n",
    "\n",
    "unsortedArr = [3, 7, 6, -10, 15, 23.5, 55, -13]\n",
    "sortedArr = mergeSort(unsortedArr)\n",
    "print(\"Sorted array:\", sortedArr)"
   ]
  },
  {
   "cell_type": "markdown",
   "metadata": {},
   "source": [
    "\n",
    "- **Given an integer array nums of size n, return the number with the value closest to 0 in nums. If there are multiple answers, return the number with the largest value.**"
   ]
  },
  {
   "cell_type": "code",
   "execution_count": 62,
   "metadata": {},
   "outputs": [],
   "source": [
    "class mysolution():\n",
    "    def closestZero(self, nums):\n",
    "        n = len(nums)\n",
    "        k = []\n",
    "        for i in range(n):\n",
    "            dis = [abs(x) for x in nums]\n",
    "            k.append(dis)\n",
    "        return min(k)"
   ]
  },
  {
   "cell_type": "code",
   "execution_count": 63,
   "metadata": {},
   "outputs": [
    {
     "data": {
      "text/plain": [
       "[1, 5, 3, 4, 2, 1]"
      ]
     },
     "execution_count": 63,
     "metadata": {},
     "output_type": "execute_result"
    }
   ],
   "source": [
    "nums = [1,5,-3,4,2,-1]\n",
    "mysolution().closestZero(nums=nums)"
   ]
  },
  {
   "cell_type": "markdown",
   "metadata": {},
   "source": [
    "**Heap Sort**\n",
    "- *Uses a binary heap to extract elements in sorted order.*"
   ]
  },
  {
   "cell_type": "markdown",
   "metadata": {},
   "source": []
  },
  {
   "cell_type": "code",
   "execution_count": 64,
   "metadata": {},
   "outputs": [
    {
     "name": "stdout",
     "output_type": "stream",
     "text": [
      "[11, 12, 22, 25, 64]\n"
     ]
    }
   ],
   "source": [
    "import heapq\n",
    "\n",
    "def heap_sort(arr):\n",
    "    heapq.heapify(arr)\n",
    "    return [heapq.heappop(arr) for _ in range(len(arr))]\n",
    "\n",
    "print(heap_sort([64, 25, 12, 22, 11]))\n"
   ]
  },
  {
   "cell_type": "markdown",
   "metadata": {},
   "source": [
    "**Counting Sort (For small, positive integers)**\n",
    "- *Counts occurrences of elements and sorts accordingly.*"
   ]
  },
  {
   "cell_type": "code",
   "execution_count": 65,
   "metadata": {},
   "outputs": [
    {
     "name": "stdout",
     "output_type": "stream",
     "text": [
      "[1, 2, 2, 3, 3, 4, 8]\n"
     ]
    }
   ],
   "source": [
    "def counting_sort(arr):\n",
    "    max_val = max(arr)\n",
    "    count = [0] * (max_val + 1)\n",
    "    \n",
    "    for num in arr:\n",
    "        count[num] += 1\n",
    "\n",
    "    sorted_arr = []\n",
    "    for i, freq in enumerate(count):\n",
    "        sorted_arr.extend([i] * freq)\n",
    "\n",
    "    return sorted_arr\n",
    "\n",
    "print(counting_sort([4, 2, 2, 8, 3, 3, 1]))\n"
   ]
  },
  {
   "cell_type": "markdown",
   "metadata": {},
   "source": [
    "**Radix Sort (For large integers)**\n",
    "- Sorts numbers digit by digit using Counting Sort as a subroutine.\n"
   ]
  },
  {
   "cell_type": "code",
   "execution_count": 66,
   "metadata": {},
   "outputs": [
    {
     "name": "stdout",
     "output_type": "stream",
     "text": [
      "[2, 24, 45, 66, 75, 90, 170, 802]\n"
     ]
    }
   ],
   "source": [
    "def counting_sort_radix(arr, exp):\n",
    "    n = len(arr)\n",
    "    output = [0] * n\n",
    "    count = [0] * 10\n",
    "\n",
    "    for i in arr:\n",
    "        index = (i // exp) % 10\n",
    "        count[index] += 1\n",
    "\n",
    "    for i in range(1, 10):\n",
    "        count[i] += count[i - 1]\n",
    "\n",
    "    for i in range(n - 1, -1, -1):\n",
    "        index = (arr[i] // exp) % 10\n",
    "        output[count[index] - 1] = arr[i]\n",
    "        count[index] -= 1\n",
    "\n",
    "    for i in range(n):\n",
    "        arr[i] = output[i]\n",
    "\n",
    "def radix_sort(arr):\n",
    "    max_val = max(arr)\n",
    "    exp = 1\n",
    "    while max_val // exp > 0:\n",
    "        counting_sort_radix(arr, exp)\n",
    "        exp *= 10\n",
    "    return arr\n",
    "\n",
    "print(radix_sort([170, 45, 75, 90, 802, 24, 2, 66]))\n"
   ]
  },
  {
   "cell_type": "code",
   "execution_count": null,
   "metadata": {},
   "outputs": [],
   "source": []
  }
 ],
 "metadata": {
  "kernelspec": {
   "display_name": ".venv",
   "language": "python",
   "name": "python3"
  },
  "language_info": {
   "codemirror_mode": {
    "name": "ipython",
    "version": 3
   },
   "file_extension": ".py",
   "mimetype": "text/x-python",
   "name": "python",
   "nbconvert_exporter": "python",
   "pygments_lexer": "ipython3",
   "version": "3.12.6"
  }
 },
 "nbformat": 4,
 "nbformat_minor": 2
}
