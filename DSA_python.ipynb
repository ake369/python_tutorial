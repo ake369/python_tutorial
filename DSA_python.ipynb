{
 "cells": [
  {
   "cell_type": "markdown",
   "metadata": {},
   "source": [
    "**Data Structure and Algorithms**"
   ]
  },
  {
   "cell_type": "markdown",
   "metadata": {},
   "source": [
    "- *In Computer Science there are two different kinds of data structures.*\n",
    "\n",
    "* *```Primitive Data Structures``` are basic data structures provided by programming languages to represent single values, such as:* \n",
    "  * integers, \n",
    "  * floating-point numbers, \n",
    "  * characters, and \n",
    "  * booleans.\n",
    "\n",
    "* *```Abstract Data Structures``` are higher-level data structures that are built using primitive data types and provide more complex and specialized operations. Some common examples of abstract data structures include:* \n",
    "  * arrays, \n",
    "  * linked lists, \n",
    "  * stacks, \n",
    "  * queues, \n",
    "  * trees, and \n",
    "  * graphs."
   ]
  },
  {
   "cell_type": "code",
   "execution_count": 6,
   "metadata": {},
   "outputs": [
    {
     "name": "stdout",
     "output_type": "stream",
     "text": [
      "Lowest value: 2\n"
     ]
    }
   ],
   "source": [
    "my_array = [7, 12, 9, 4,2, 11]\n",
    "minVal = my_array[0]\n",
    "\n",
    "for i in my_array:\n",
    "    if i < minVal:\n",
    "        minVal = i\n",
    "\n",
    "print('Lowest value:',minVal)"
   ]
  },
  {
   "cell_type": "code",
   "execution_count": null,
   "metadata": {},
   "outputs": [],
   "source": [
    "def fibonnaciNum(n):\n",
    "    f0 = 0\n",
    "    f1 = 1\n",
    "    F = [f0, f1]\n",
    "    for i in range(n):\n",
    "        Fn = f0 + f1\n",
    "        F.append(Fn)\n",
    "        f0 = f1\n",
    "        f1 = Fn\n",
    "\n",
    "    return list(F)"
   ]
  },
  {
   "cell_type": "code",
   "execution_count": 25,
   "metadata": {},
   "outputs": [
    {
     "data": {
      "text/plain": [
       "[0,\n",
       " 1,\n",
       " 1,\n",
       " 2,\n",
       " 3,\n",
       " 5,\n",
       " 8,\n",
       " 13,\n",
       " 21,\n",
       " 34,\n",
       " 55,\n",
       " 89,\n",
       " 144,\n",
       " 233,\n",
       " 377,\n",
       " 610,\n",
       " 987,\n",
       " 1597,\n",
       " 2584,\n",
       " 4181,\n",
       " 6765,\n",
       " 10946]"
      ]
     },
     "execution_count": 25,
     "metadata": {},
     "output_type": "execute_result"
    }
   ],
   "source": [
    "fibonnaciNum(n=20)"
   ]
  },
  {
   "cell_type": "code",
   "execution_count": 26,
   "metadata": {},
   "outputs": [
    {
     "name": "stdout",
     "output_type": "stream",
     "text": [
      "0\n",
      "1\n",
      "1\n",
      "2\n",
      "3\n",
      "5\n",
      "8\n",
      "13\n",
      "21\n",
      "34\n",
      "55\n",
      "89\n",
      "144\n",
      "233\n",
      "377\n",
      "610\n",
      "987\n",
      "1597\n",
      "2584\n",
      "4181\n"
     ]
    }
   ],
   "source": [
    "prev2 = 0\n",
    "prev1 = 1\n",
    "\n",
    "print(prev2)\n",
    "print(prev1)\n",
    "for fibo in range(18):\n",
    "    newFibo = prev1 + prev2\n",
    "    print(newFibo)\n",
    "    prev2 = prev1\n",
    "    prev1 = newFibo"
   ]
  },
  {
   "cell_type": "code",
   "execution_count": 27,
   "metadata": {},
   "outputs": [
    {
     "name": "stdout",
     "output_type": "stream",
     "text": [
      "0\n",
      "1\n",
      "1\n",
      "2\n",
      "3\n",
      "5\n",
      "8\n",
      "13\n",
      "21\n",
      "34\n",
      "55\n",
      "89\n",
      "144\n",
      "233\n",
      "377\n",
      "610\n",
      "987\n",
      "1597\n",
      "2584\n",
      "4181\n"
     ]
    }
   ],
   "source": [
    "print(0)\n",
    "print(1)\n",
    "count = 2\n",
    "\n",
    "def fibonacci(prev1, prev2):\n",
    "    global count\n",
    "    if count <= 19:\n",
    "        newFibo = prev1 + prev2\n",
    "        print(newFibo)\n",
    "        prev2 = prev1\n",
    "        prev1 = newFibo\n",
    "        count += 1\n",
    "        fibonacci(prev1, prev2)\n",
    "    else:\n",
    "        return\n",
    "\n",
    "fibonacci(1,0)"
   ]
  },
  {
   "cell_type": "code",
   "execution_count": 34,
   "metadata": {},
   "outputs": [],
   "source": [
    "class myFibo():\n",
    "    def fibonaccifun(self,n):\n",
    "        f0 = 0\n",
    "        f1 = 1\n",
    "        Fn = [f0,f1]\n",
    "        for i in range(n):\n",
    "            F = f0 + f1\n",
    "            Fn.append(F)\n",
    "            f0 = f1\n",
    "            f1 = F\n",
    "        return Fn"
   ]
  },
  {
   "cell_type": "code",
   "execution_count": 35,
   "metadata": {},
   "outputs": [
    {
     "data": {
      "text/plain": [
       "[0, 1, 1, 2, 3, 5, 8, 13]"
      ]
     },
     "execution_count": 35,
     "metadata": {},
     "output_type": "execute_result"
    }
   ],
   "source": [
    "myFibo().fibonaccifun(6)"
   ]
  },
  {
   "cell_type": "markdown",
   "metadata": {},
   "source": [
    "*Assume you have an array A = [7, 12, 9, 4, 11], then write a function to get the smallest of these numbers*"
   ]
  },
  {
   "cell_type": "code",
   "execution_count": 1,
   "metadata": {},
   "outputs": [],
   "source": [
    "class mysol():\n",
    "    def minOfAll(self,nums):\n",
    "        nums_arry = nums[0]\n",
    "        n = len(nums)\n",
    "        for i in range(n):\n",
    "            if nums[i] <= nums_arry:\n",
    "                nums_arry = nums[i]\n",
    "                i += 1\n",
    "            \n",
    "        return nums_arry\n"
   ]
  },
  {
   "cell_type": "code",
   "execution_count": 4,
   "metadata": {},
   "outputs": [
    {
     "data": {
      "text/plain": [
       "-11"
      ]
     },
     "execution_count": 4,
     "metadata": {},
     "output_type": "execute_result"
    }
   ],
   "source": [
    "nums = [7, 12, 9, 4, -11,2]\n",
    "mysol().minOfAll(nums=nums)"
   ]
  },
  {
   "cell_type": "code",
   "execution_count": 6,
   "metadata": {},
   "outputs": [
    {
     "name": "stdout",
     "output_type": "stream",
     "text": [
      "Sorted array: [5, 11, 12, 22, 25, 34, 64, 90]\n"
     ]
    }
   ],
   "source": [
    "my_array = [64, 34, 25, 12, 22, 11, 90, 5]\n",
    "n = len(my_array)\n",
    "for i in range(n-1):\n",
    "    for j in range(n-i-1):\n",
    "        if my_array[j] > my_array[j+1]:\n",
    "            my_array[j], my_array[j+1] = my_array[j+1], my_array[j]\n",
    "\n",
    "print(\"Sorted array:\", my_array)"
   ]
  },
  {
   "cell_type": "code",
   "execution_count": 8,
   "metadata": {},
   "outputs": [
    {
     "name": "stdout",
     "output_type": "stream",
     "text": [
      "Sorted array: [3, 7, 9, 11, 12]\n"
     ]
    }
   ],
   "source": [
    "# Improved\n",
    "my_array = [7, 3, 9, 12, 11]\n",
    "\n",
    "n = len(my_array)\n",
    "for i in range(n-1):\n",
    "    swapped = False\n",
    "    for j in range(n-i-1):\n",
    "        if my_array[j] > my_array[j+1]:\n",
    "            my_array[j], my_array[j+1] = my_array[j+1], my_array[j]\n",
    "            swapped = True\n",
    "    if not swapped:\n",
    "        break\n",
    "\n",
    "print(\"Sorted array:\", my_array)"
   ]
  },
  {
   "cell_type": "markdown",
   "metadata": {},
   "source": [
    "**Selection Sort Implementation**\n",
    "- To implement the Selection Sort algorithm in a programming language, we need:\n",
    "\n",
    "1. *An array with values to sort.*\n",
    "2. *An inner loop that goes through the array, finds the lowest value, and moves it to the front of the array. This loop must loop through one less value each time it runs.*\n",
    "3. *An outer loop that controls how many times the inner loop must run. For an array with n values, this outer loop must run n−1 times.*\n",
    "- *The resulting code looks like this:*"
   ]
  },
  {
   "cell_type": "code",
   "execution_count": null,
   "metadata": {},
   "outputs": [
    {
     "name": "stdout",
     "output_type": "stream",
     "text": [
      "Sorted array: [5, 11, 12, 22, 25, 34, 64, 90]\n"
     ]
    }
   ],
   "source": [
    "my_array = [64, 34, 25, 5, 22, 11, 90, 12]\n",
    "\n",
    "n = len(my_array)\n",
    "for i in range(n-1):\n",
    "    min_index = i\n",
    "    for j in range(i+1, n):\n",
    "        if my_array[j] < my_array[min_index]:\n",
    "            min_index = j\n",
    "    min_value = my_array.pop(min_index)\n",
    "    my_array.insert(i, min_value)\n",
    "print(\"Sorted array:\", my_array)"
   ]
  },
  {
   "cell_type": "markdown",
   "metadata": {},
   "source": [
    "**Bubble Sort**"
   ]
  },
  {
   "cell_type": "code",
   "execution_count": 11,
   "metadata": {},
   "outputs": [],
   "source": [
    "class mysolu():\n",
    "    def sortBubble(self, myarray):\n",
    "        n = len(myarray)\n",
    "        for i in range(n-1):\n",
    "            swapped = False\n",
    "            for j in range(n-i-1):\n",
    "                if myarray[j] > myarray[j+1]:\n",
    "                    myarray[j],myarray[j+1] = myarray[j+1],myarray[j]\n",
    "                    swapped = True\n",
    "        print(f\"sorted myarray: {myarray}\")"
   ]
  },
  {
   "cell_type": "code",
   "execution_count": 12,
   "metadata": {},
   "outputs": [
    {
     "name": "stdout",
     "output_type": "stream",
     "text": [
      "sorted myarray: [2, 6, 7, 12, 15]\n"
     ]
    }
   ],
   "source": [
    "myarray = [ 15,7,6,12,2]\n",
    "mysolu().sortBubble(myarray=myarray)"
   ]
  },
  {
   "cell_type": "markdown",
   "metadata": {},
   "source": [
    "**Selection sort**"
   ]
  },
  {
   "cell_type": "code",
   "execution_count": 23,
   "metadata": {},
   "outputs": [],
   "source": [
    "class mypretty():\n",
    "    def seleSort(self, myArray):\n",
    "        n = len(myArray)\n",
    "        for i in range(n):\n",
    "            min_index = i\n",
    "            for j in range(i+1,n):\n",
    "                if myArray[j] < myArray[min_index]:\n",
    "                    min_index = j\n",
    "\n",
    "                myArray[i],myArray[min_index] = myArray[min_index],myArray[i]\n",
    "\n",
    "        print(f\"My sorted myArray: {myArray}\")"
   ]
  },
  {
   "cell_type": "code",
   "execution_count": 24,
   "metadata": {},
   "outputs": [
    {
     "name": "stdout",
     "output_type": "stream",
     "text": [
      "My sorted myArray: [2, 6, 7, 12, 15]\n"
     ]
    }
   ],
   "source": [
    "myArray =  [ 15,7,6,12,2]\n",
    "mypretty().seleSort(myArray=myArray)"
   ]
  },
  {
   "cell_type": "markdown",
   "metadata": {},
   "source": [
    "Insertion Sort Implementation\n",
    "To implement the Insertion Sort algorithm in a programming language, we need:\n",
    "\n",
    "- *An array with values to sort.*\n",
    "- *An outer loop that picks a value to be sorted. For an array with n values, this outer loop skips the first value, and must run n−1 times.*\n",
    "- *An inner loop that goes through the sorted part of the array, to find where to insert the value. If the value to be sorted is at index i, the sorted part of the array starts at index 0 and ends at index i−1.*\n",
    "- **The resulting code looks like this:**"
   ]
  },
  {
   "cell_type": "code",
   "execution_count": 31,
   "metadata": {},
   "outputs": [
    {
     "name": "stdout",
     "output_type": "stream",
     "text": [
      "My sorted array: [5, 11, 12, 22, 25, 34, 64, 90]\n"
     ]
    }
   ],
   "source": [
    "\n",
    "class mysoll():\n",
    "    def myInsetSort(self, my_array):\n",
    "        n = len(my_array)\n",
    "        for i in range(1,n):\n",
    "            insert_index = i\n",
    "            current_value = my_array.pop(i)\n",
    "            for j in range(i-1, -1, -1):\n",
    "                if my_array[j] > current_value:\n",
    "                    insert_index = j\n",
    "            my_array.insert(insert_index, current_value)\n",
    "        print(f\"My sorted array: {my_array}\")\n",
    "\n",
    "sol = mysoll()\n",
    "my_array = [64, 34, 25, 12, 22, 11, 90, 5]\n",
    "sol.myInsetSort(my_array=my_array)"
   ]
  },
  {
   "cell_type": "markdown",
   "metadata": {},
   "source": [
    "**Improved Insertion sort**"
   ]
  },
  {
   "cell_type": "code",
   "execution_count": 32,
   "metadata": {},
   "outputs": [
    {
     "name": "stdout",
     "output_type": "stream",
     "text": [
      "Sorted array: [5, 11, 12, 22, 25, 34, 64, 90]\n"
     ]
    }
   ],
   "source": [
    "class inserSor():\n",
    "    def myInsertionSort(self, my_array):\n",
    "        n = len(my_array)\n",
    "        for i in range(1,n):\n",
    "            insert_index = i\n",
    "            current_value = my_array[i]\n",
    "            for j in range(i-1, -1, -1):\n",
    "                if my_array[j] > current_value:\n",
    "                    my_array[j+1] = my_array[j]\n",
    "                    insert_index = j\n",
    "                else:\n",
    "                    break\n",
    "            my_array[insert_index] = current_value\n",
    "\n",
    "my_array = [64, 34, 25, 12, 22, 11, 90, 5]\n",
    "S = inserSor()\n",
    "S.myInsertionSort(my_array=my_array)\n",
    "print(\"Sorted array:\", my_array) \n",
    " "
   ]
  },
  {
   "cell_type": "code",
   "execution_count": null,
   "metadata": {},
   "outputs": [],
   "source": [
    "class mycls():\n",
    "    def myfun(self, arr):\n",
    "        n = len(arr)\n",
    "        for i in range(1,n):\n",
    "            min_idx = i\n",
    "            current_value = arr[min_idx]\n",
    "            for j in range(i-1,-1,-1):\n",
    "                if arr[j]> current_value:\n",
    "                    arr[j+1]=arr[j]\n",
    "                    "
   ]
  }
 ],
 "metadata": {
  "kernelspec": {
   "display_name": ".venv",
   "language": "python",
   "name": "python3"
  },
  "language_info": {
   "codemirror_mode": {
    "name": "ipython",
    "version": 3
   },
   "file_extension": ".py",
   "mimetype": "text/x-python",
   "name": "python",
   "nbconvert_exporter": "python",
   "pygments_lexer": "ipython3",
   "version": "3.12.6"
  }
 },
 "nbformat": 4,
 "nbformat_minor": 2
}
