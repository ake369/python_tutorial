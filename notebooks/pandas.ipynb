{
 "cells": [
  {
   "cell_type": "markdown",
   "metadata": {},
   "source": [
    "# Pandas Tutorial for Beginners and Advanced Level"
   ]
  },
  {
   "cell_type": "markdown",
   "metadata": {},
   "source": [
    "*Definition*: Pandas is an open-source Python library used for data manipulation, analysis, and cleaning. It provides fast, flexible, and expressive data structures like ```DataFrame``` and ```Series``` to work with structured data efficiently."
   ]
  },
  {
   "cell_type": "markdown",
   "metadata": {},
   "source": [
    "### Key Features:\n",
    "* Handles structured data (CSV, Excel, SQL, JSON, etc.).\n",
    "* Powerful data operations (filtering, grouping, merging, reshaping).\n",
    "* Built-in handling of missing data (NaN values).\n",
    "* Supports time-series analysis and multi-indexing.\n",
    "* Integrates with NumPy, Matplotlib, and Scikit-learn for data science tasks.\n",
    "\n",
    "### Usage:\n",
    "\n",
    "```import pandas as pd```\n",
    "### What kind of data does pandas handle?\n",
    "Pandas can handle a wide variety of structured and semi-structured data types, including\n",
    "- CSV\n",
    "- Excel\n",
    "- SQL\n",
    "- HTML\n",
    "- XML\n",
    "- JSON \n",
    "- Time series data\n",
    "- Textual data\n",
    "\n",
    "\n",
    "\n",
    "\n",
    "\n",
    "\n",
    "\n",
    "\n",
    "\n",
    "\n"
   ]
  },
  {
   "cell_type": "markdown",
   "metadata": {},
   "source": [
    "Pandas primarily uses two data structures:\n",
    "\n",
    "* ```Series```: A one-dimensional array-like object (e.g., a single column of data).\n",
    "\n",
    "* ```DataFrame```: A two-dimensional table with rows and columns (like a spreadsheet).\n",
    "\n"
   ]
  },
  {
   "cell_type": "markdown",
   "metadata": {},
   "source": [
    "### How to Read and Write Tabular Data?\n",
    "* Pandas provides functions to read and write data in various formats.\n",
    "* To read data we use ``` pd.read_*(\"path/to/dataset/data.*\") ```\n",
    "* To write data we use ```pd.to_*(\"path/to/dataset/data.*\") ```\n",
    "  \n",
    "  -- Note: * representes the data types, for example if the data is ```.csv``` we use ``` pd.read_csv(\"path/to/dataset/data.csv\") ``` and if it excel data we replace .xlsx and so"
   ]
  },
  {
   "cell_type": "markdown",
   "metadata": {},
   "source": [
    "#### Read data example"
   ]
  },
  {
   "cell_type": "code",
   "execution_count": null,
   "metadata": {},
   "outputs": [],
   "source": [
    "import pandas as pd\n",
    "\n",
    "# Read CSV file\n",
    "df = pd.read_csv('new_data.csv')\n",
    "\n",
    "# Read Excel file\n",
    "df = pd.read_excel('new_data.xlsx')\n",
    "\n",
    "# Read SQL table\n",
    "from sqlalchemy import create_engine\n",
    "engine = create_engine('sqlite:///database.db')\n",
    "df = pd.read_sql('SELECT * FROM table_name', engine)\n",
    "\n",
    "# Read JSON data\n",
    "df = pd.read_json('data.json')"
   ]
  },
  {
   "cell_type": "markdown",
   "metadata": {},
   "source": [
    "##### To read data from sql table, we should create a connection with the database first. "
   ]
  },
  {
   "cell_type": "code",
   "execution_count": null,
   "metadata": {},
   "outputs": [],
   "source": [
    "import pandas as pd\n",
    "from sqlalchemy import create_engine\n",
    "\n",
    "# Define database connection (Replace with your details)\n",
    "db_user = \"root\"\n",
    "db_password = \"\"\n",
    "db_host = \"localhost\"  # Or your database server\n",
    "db_name = \"my_db\""
   ]
  },
  {
   "cell_type": "code",
   "execution_count": 7,
   "metadata": {},
   "outputs": [],
   "source": [
    "# Create engine\n",
    "engine = create_engine(f\"mysql+mysqlconnector://{db_user}:{db_password}@{db_host}/{db_name}\")"
   ]
  },
  {
   "cell_type": "code",
   "execution_count": 8,
   "metadata": {},
   "outputs": [],
   "source": [
    "# Read data from a table into Pandas DataFrame\n",
    "table_name = \"users\""
   ]
  },
  {
   "cell_type": "code",
   "execution_count": 9,
   "metadata": {},
   "outputs": [],
   "source": [
    "df = pd.read_sql(f\"SELECT * FROM {table_name}\", engine)"
   ]
  },
  {
   "cell_type": "code",
   "execution_count": null,
   "metadata": {},
   "outputs": [],
   "source": [
    "df.head()"
   ]
  },
  {
   "cell_type": "markdown",
   "metadata": {},
   "source": [
    "# Write data examples"
   ]
  },
  {
   "cell_type": "code",
   "execution_count": null,
   "metadata": {},
   "outputs": [],
   "source": [
    "# Write to CSV\n",
    "df.to_csv('output.csv', index=False)\n",
    "# Write to Excel\n",
    "df.to_excel('output.xlsx', index=False)\n",
    "# Write to SQL\n",
    "df.to_sql('table_name', engine, if_exists='replace')\n",
    "# Write to JSON\n",
    "df.to_json('output.json')"
   ]
  },
  {
   "cell_type": "code",
   "execution_count": 12,
   "metadata": {},
   "outputs": [],
   "source": [
    "new_data = pd.read_excel('new_data.xlsx')"
   ]
  },
  {
   "cell_type": "code",
   "execution_count": null,
   "metadata": {},
   "outputs": [],
   "source": [
    "df = new_data.drop(['phone'], axis=1)\n"
   ]
  },
  {
   "cell_type": "code",
   "execution_count": 15,
   "metadata": {},
   "outputs": [],
   "source": [
    "df.to_csv('data.csv', index=False)"
   ]
  },
  {
   "cell_type": "code",
   "execution_count": null,
   "metadata": {},
   "outputs": [],
   "source": []
  }
 ],
 "metadata": {
  "kernelspec": {
   "display_name": ".venv",
   "language": "python",
   "name": "python3"
  },
  "language_info": {
   "codemirror_mode": {
    "name": "ipython",
    "version": 3
   },
   "file_extension": ".py",
   "mimetype": "text/x-python",
   "name": "python",
   "nbconvert_exporter": "python",
   "pygments_lexer": "ipython3",
   "version": "3.12.6"
  }
 },
 "nbformat": 4,
 "nbformat_minor": 2
}
