{
 "cells": [
  {
   "cell_type": "markdown",
   "metadata": {},
   "source": [
    "# Pandas Tutorial for Beginners and Advanced Level"
   ]
  },
  {
   "cell_type": "markdown",
   "metadata": {},
   "source": [
    "*Definition*: Pandas is an open-source Python library used for data manipulation, analysis, and cleaning. It provides fast, flexible, and expressive data structures like ```DataFrame``` and ```Series``` to work with structured data efficiently."
   ]
  },
  {
   "cell_type": "markdown",
   "metadata": {},
   "source": [
    "### Key Features:\n",
    "* Handles structured data (CSV, Excel, SQL, JSON, etc.).\n",
    "* Powerful data operations (filtering, grouping, merging, reshaping).\n",
    "* Built-in handling of missing data (NaN values).\n",
    "* Supports time-series analysis and multi-indexing.\n",
    "* Integrates with NumPy, Matplotlib, and Scikit-learn for data science tasks.\n",
    "\n",
    "### Usage:\n",
    "\n",
    "```import pandas as pd```\n",
    "### What kind of data does pandas handle?\n",
    "Pandas can handle a wide variety of structured and semi-structured data types, including\n",
    "- CSV\n",
    "- Excel\n",
    "- SQL\n",
    "- HTML\n",
    "- XML\n",
    "- JSON \n",
    "- Time series data\n",
    "- Textual data\n",
    "\n",
    "\n",
    "\n",
    "\n",
    "\n",
    "\n",
    "\n",
    "\n",
    "\n",
    "\n"
   ]
  },
  {
   "cell_type": "markdown",
   "metadata": {},
   "source": [
    "Pandas primarily uses two data structures:\n",
    "\n",
    "* ```Series```: A one-dimensional array-like object (e.g., a single column of data).\n",
    "\n",
    "* ```DataFrame```: A two-dimensional table with rows and columns (like a spreadsheet).\n",
    "\n"
   ]
  },
  {
   "cell_type": "markdown",
   "metadata": {},
   "source": [
    "### How to Read and Write Tabular Data?\n",
    "* Pandas provides functions to read and write data in various formats.\n",
    "* To read data we use ``` pd.read_*(\"path/to/dataset/data.*\") ```\n",
    "* To write data we use ```pd.to_*(\"path/to/dataset/data.*\") ```\n",
    "  \n",
    "  -- Note: * representes the data types, for example if the data is ```.csv``` we use ``` pd.read_csv(\"path/to/dataset/data.csv\") ``` and if it excel data we replace .xlsx and so"
   ]
  },
  {
   "cell_type": "markdown",
   "metadata": {},
   "source": [
    "#### Read data example"
   ]
  },
  {
   "cell_type": "code",
   "execution_count": null,
   "metadata": {},
   "outputs": [],
   "source": [
    "import pandas as pd\n",
    "# Read CSV file\n",
    "df = pd.read_csv('new_data.csv')\n",
    "# Read Excel file\n",
    "df = pd.read_excel('new_data.xlsx')\n",
    "# Read JSON data\n",
    "df = pd.read_json('data.json')"
   ]
  },
  {
   "cell_type": "markdown",
   "metadata": {},
   "source": [
    "##### To read data from sql table, we should create a connection with the database first. "
   ]
  },
  {
   "cell_type": "code",
   "execution_count": null,
   "metadata": {},
   "outputs": [],
   "source": [
    "import pandas as pd\n",
    "from sqlalchemy import create_engine\n",
    "\n",
    "# Define database connection (Replace with your details)\n",
    "db_user = \"root\"\n",
    "db_password = \"\"\n",
    "db_host = \"localhost\"  # Or your database server\n",
    "db_name = \"my_db\""
   ]
  },
  {
   "cell_type": "code",
   "execution_count": 7,
   "metadata": {},
   "outputs": [],
   "source": [
    "# Create engine\n",
    "engine = create_engine(f\"mysql+mysqlconnector://{db_user}:{db_password}@{db_host}/{db_name}\")"
   ]
  },
  {
   "cell_type": "code",
   "execution_count": 8,
   "metadata": {},
   "outputs": [],
   "source": [
    "# Read data from a table into Pandas DataFrame\n",
    "table_name = \"users\""
   ]
  },
  {
   "cell_type": "code",
   "execution_count": 9,
   "metadata": {},
   "outputs": [],
   "source": [
    "df = pd.read_sql(f\"SELECT * FROM {table_name}\", engine)"
   ]
  },
  {
   "cell_type": "code",
   "execution_count": null,
   "metadata": {},
   "outputs": [],
   "source": [
    "df.head()"
   ]
  },
  {
   "cell_type": "markdown",
   "metadata": {},
   "source": [
    "# Write data examples"
   ]
  },
  {
   "cell_type": "code",
   "execution_count": null,
   "metadata": {},
   "outputs": [],
   "source": [
    "# Write to CSV\n",
    "df.to_csv('output.csv', index=False)\n",
    "# Write to Excel\n",
    "df.to_excel('output.xlsx', index=False)\n",
    "# Write to SQL\n",
    "df.to_sql('table_name', engine, if_exists='replace')\n",
    "# Write to JSON\n",
    "df.to_json('output.json')"
   ]
  },
  {
   "cell_type": "code",
   "execution_count": 20,
   "metadata": {},
   "outputs": [],
   "source": [
    "new_data = pd.read_excel('../new_data.xlsx')"
   ]
  },
  {
   "cell_type": "code",
   "execution_count": 21,
   "metadata": {},
   "outputs": [],
   "source": [
    "df = new_data.drop(['phone','first_name','middle_name'], axis=1)"
   ]
  },
  {
   "cell_type": "code",
   "execution_count": 24,
   "metadata": {},
   "outputs": [],
   "source": [
    "df.to_csv('data.csv', index=False)"
   ]
  },
  {
   "cell_type": "code",
   "execution_count": 25,
   "metadata": {},
   "outputs": [
    {
     "data": {
      "text/html": [
       "<div>\n",
       "<style scoped>\n",
       "    .dataframe tbody tr th:only-of-type {\n",
       "        vertical-align: middle;\n",
       "    }\n",
       "\n",
       "    .dataframe tbody tr th {\n",
       "        vertical-align: top;\n",
       "    }\n",
       "\n",
       "    .dataframe thead th {\n",
       "        text-align: right;\n",
       "    }\n",
       "</style>\n",
       "<table border=\"1\" class=\"dataframe\">\n",
       "  <thead>\n",
       "    <tr style=\"text-align: right;\">\n",
       "      <th></th>\n",
       "      <th>stu_id</th>\n",
       "      <th>gender</th>\n",
       "      <th>not_d</th>\n",
       "      <th>dept</th>\n",
       "      <th>region</th>\n",
       "      <th>marital_status</th>\n",
       "      <th>age</th>\n",
       "      <th>g_12</th>\n",
       "      <th>college</th>\n",
       "    </tr>\n",
       "  </thead>\n",
       "  <tbody>\n",
       "    <tr>\n",
       "      <th>0</th>\n",
       "      <td>R/2791/06</td>\n",
       "      <td>Male</td>\n",
       "      <td>6</td>\n",
       "      <td>Political Science</td>\n",
       "      <td>Afar</td>\n",
       "      <td>Single</td>\n",
       "      <td>30.0</td>\n",
       "      <td>335</td>\n",
       "      <td>Social Science and Humanities</td>\n",
       "    </tr>\n",
       "    <tr>\n",
       "      <th>1</th>\n",
       "      <td>R/2253/06</td>\n",
       "      <td>Male</td>\n",
       "      <td>4</td>\n",
       "      <td>Anesthesia</td>\n",
       "      <td>Afar</td>\n",
       "      <td>Single</td>\n",
       "      <td>30.0</td>\n",
       "      <td>343</td>\n",
       "      <td>Medicine</td>\n",
       "    </tr>\n",
       "    <tr>\n",
       "      <th>2</th>\n",
       "      <td>R/1737/06</td>\n",
       "      <td>Male</td>\n",
       "      <td>1</td>\n",
       "      <td>Public Administration</td>\n",
       "      <td>Afar</td>\n",
       "      <td>Single</td>\n",
       "      <td>29.0</td>\n",
       "      <td>435</td>\n",
       "      <td>Business and Economics</td>\n",
       "    </tr>\n",
       "    <tr>\n",
       "      <th>3</th>\n",
       "      <td>R/0268/06</td>\n",
       "      <td>Male</td>\n",
       "      <td>2</td>\n",
       "      <td>Construction Engineering</td>\n",
       "      <td>Afar</td>\n",
       "      <td>Single</td>\n",
       "      <td>28.0</td>\n",
       "      <td>385</td>\n",
       "      <td>Institute of Technology</td>\n",
       "    </tr>\n",
       "    <tr>\n",
       "      <th>4</th>\n",
       "      <td>R/0400/06</td>\n",
       "      <td>Male</td>\n",
       "      <td>2</td>\n",
       "      <td>Construction Engineering</td>\n",
       "      <td>Afar</td>\n",
       "      <td>Single</td>\n",
       "      <td>28.0</td>\n",
       "      <td>371</td>\n",
       "      <td>Institute of Technology</td>\n",
       "    </tr>\n",
       "  </tbody>\n",
       "</table>\n",
       "</div>"
      ],
      "text/plain": [
       "      stu_id gender  not_d                      dept region marital_status  \\\n",
       "0  R/2791/06   Male      6         Political Science   Afar         Single   \n",
       "1  R/2253/06   Male      4                Anesthesia   Afar         Single   \n",
       "2  R/1737/06   Male      1     Public Administration   Afar         Single   \n",
       "3  R/0268/06   Male      2  Construction Engineering   Afar         Single   \n",
       "4  R/0400/06   Male      2  Construction Engineering   Afar         Single   \n",
       "\n",
       "    age g_12                        college  \n",
       "0  30.0  335  Social Science and Humanities  \n",
       "1  30.0  343                       Medicine  \n",
       "2  29.0  435         Business and Economics  \n",
       "3  28.0  385        Institute of Technology  \n",
       "4  28.0  371        Institute of Technology  "
      ]
     },
     "execution_count": 25,
     "metadata": {},
     "output_type": "execute_result"
    }
   ],
   "source": [
    "df.head()"
   ]
  },
  {
   "cell_type": "markdown",
   "metadata": {},
   "source": [
    "How to Select a Subset of a DataFrame?"
   ]
  },
  {
   "cell_type": "code",
   "execution_count": 28,
   "metadata": {},
   "outputs": [],
   "source": [
    "import pandas as pd\n",
    "data = pd.read_csv('../data/data.csv')"
   ]
  },
  {
   "cell_type": "code",
   "execution_count": 29,
   "metadata": {},
   "outputs": [
    {
     "data": {
      "text/html": [
       "<div>\n",
       "<style scoped>\n",
       "    .dataframe tbody tr th:only-of-type {\n",
       "        vertical-align: middle;\n",
       "    }\n",
       "\n",
       "    .dataframe tbody tr th {\n",
       "        vertical-align: top;\n",
       "    }\n",
       "\n",
       "    .dataframe thead th {\n",
       "        text-align: right;\n",
       "    }\n",
       "</style>\n",
       "<table border=\"1\" class=\"dataframe\">\n",
       "  <thead>\n",
       "    <tr style=\"text-align: right;\">\n",
       "      <th></th>\n",
       "      <th>stu_id</th>\n",
       "      <th>gender</th>\n",
       "      <th>not_d</th>\n",
       "      <th>dept</th>\n",
       "      <th>region</th>\n",
       "      <th>marital_status</th>\n",
       "      <th>age</th>\n",
       "      <th>g_12</th>\n",
       "      <th>college</th>\n",
       "    </tr>\n",
       "  </thead>\n",
       "  <tbody>\n",
       "    <tr>\n",
       "      <th>0</th>\n",
       "      <td>R/2791/06</td>\n",
       "      <td>Male</td>\n",
       "      <td>6</td>\n",
       "      <td>Political Science</td>\n",
       "      <td>Afar</td>\n",
       "      <td>Single</td>\n",
       "      <td>30.0</td>\n",
       "      <td>335</td>\n",
       "      <td>Social Science and Humanities</td>\n",
       "    </tr>\n",
       "    <tr>\n",
       "      <th>1</th>\n",
       "      <td>R/2253/06</td>\n",
       "      <td>Male</td>\n",
       "      <td>4</td>\n",
       "      <td>Anesthesia</td>\n",
       "      <td>Afar</td>\n",
       "      <td>Single</td>\n",
       "      <td>30.0</td>\n",
       "      <td>343</td>\n",
       "      <td>Medicine</td>\n",
       "    </tr>\n",
       "    <tr>\n",
       "      <th>2</th>\n",
       "      <td>R/1737/06</td>\n",
       "      <td>Male</td>\n",
       "      <td>1</td>\n",
       "      <td>Public Administration</td>\n",
       "      <td>Afar</td>\n",
       "      <td>Single</td>\n",
       "      <td>29.0</td>\n",
       "      <td>435</td>\n",
       "      <td>Business and Economics</td>\n",
       "    </tr>\n",
       "    <tr>\n",
       "      <th>3</th>\n",
       "      <td>R/0268/06</td>\n",
       "      <td>Male</td>\n",
       "      <td>2</td>\n",
       "      <td>Construction Engineering</td>\n",
       "      <td>Afar</td>\n",
       "      <td>Single</td>\n",
       "      <td>28.0</td>\n",
       "      <td>385</td>\n",
       "      <td>Institute of Technology</td>\n",
       "    </tr>\n",
       "    <tr>\n",
       "      <th>4</th>\n",
       "      <td>R/0400/06</td>\n",
       "      <td>Male</td>\n",
       "      <td>2</td>\n",
       "      <td>Construction Engineering</td>\n",
       "      <td>Afar</td>\n",
       "      <td>Single</td>\n",
       "      <td>28.0</td>\n",
       "      <td>371</td>\n",
       "      <td>Institute of Technology</td>\n",
       "    </tr>\n",
       "  </tbody>\n",
       "</table>\n",
       "</div>"
      ],
      "text/plain": [
       "      stu_id gender  not_d                      dept region marital_status  \\\n",
       "0  R/2791/06   Male      6         Political Science   Afar         Single   \n",
       "1  R/2253/06   Male      4                Anesthesia   Afar         Single   \n",
       "2  R/1737/06   Male      1     Public Administration   Afar         Single   \n",
       "3  R/0268/06   Male      2  Construction Engineering   Afar         Single   \n",
       "4  R/0400/06   Male      2  Construction Engineering   Afar         Single   \n",
       "\n",
       "    age g_12                        college  \n",
       "0  30.0  335  Social Science and Humanities  \n",
       "1  30.0  343                       Medicine  \n",
       "2  29.0  435         Business and Economics  \n",
       "3  28.0  385        Institute of Technology  \n",
       "4  28.0  371        Institute of Technology  "
      ]
     },
     "execution_count": 29,
     "metadata": {},
     "output_type": "execute_result"
    }
   ],
   "source": [
    "data.head()"
   ]
  },
  {
   "cell_type": "markdown",
   "metadata": {},
   "source": [
    "Selecting a column"
   ]
  },
  {
   "cell_type": "code",
   "execution_count": null,
   "metadata": {},
   "outputs": [],
   "source": [
    "# Single column\n",
    "df['column_name']\n",
    "\n",
    "# Multiple columns\n",
    "df[['column1', 'column2']]"
   ]
  },
  {
   "cell_type": "markdown",
   "metadata": {},
   "source": [
    "Selecting a row"
   ]
  },
  {
   "cell_type": "code",
   "execution_count": null,
   "metadata": {},
   "outputs": [],
   "source": [
    "# By index\n",
    "df.iloc[0]  # First row\n",
    "df.loc[0]   # Row with index label 0\n",
    "# To select specific rows satisfying the condition given, with all the columns.\n",
    "df[df['column_name'] > 10] \n",
    "# To select a specific rows that are greater than 10 and less than 20 with the whole columns\n",
    "df[(df['column_name'] > 10) & (df['column_name'] < 20)] "
   ]
  },
  {
   "cell_type": "markdown",
   "metadata": {},
   "source": [
    "Selecting specific cells"
   ]
  },
  {
   "cell_type": "code",
   "execution_count": null,
   "metadata": {},
   "outputs": [],
   "source": [
    "# By row and column index\n",
    "df.iloc[0, 1]  # First row, second column\n",
    "\n",
    "# By row index and column label\n",
    "df.loc[0, 'column_name'] # First row, column named 'column_name'\n",
    "\n",
    "# By row label and column label\n",
    "df.loc['row_label', 'column_name']  # Row named 'row_label', column named 'column_name'"
   ]
  },
  {
   "cell_type": "markdown",
   "metadata": {},
   "source": [
    "Assume that I'm interseted in \"first_name\", \"dept\" with \"gender\"=male\n",
    "- To extract this subset of the \"data\" DataFrame, we use location function, .loc\n",
    "- The first condition before comma within the selection brace, [] stands for row condition\n",
    "- The list of columns follow after the comma to pick columns of our best interst"
   ]
  },
  {
   "cell_type": "code",
   "execution_count": 30,
   "metadata": {},
   "outputs": [],
   "source": [
    "new_data = data.loc[data['gender']=='Male', ['g_12','age','dept','gender']]"
   ]
  },
  {
   "cell_type": "code",
   "execution_count": 31,
   "metadata": {},
   "outputs": [
    {
     "data": {
      "text/html": [
       "<div>\n",
       "<style scoped>\n",
       "    .dataframe tbody tr th:only-of-type {\n",
       "        vertical-align: middle;\n",
       "    }\n",
       "\n",
       "    .dataframe tbody tr th {\n",
       "        vertical-align: top;\n",
       "    }\n",
       "\n",
       "    .dataframe thead th {\n",
       "        text-align: right;\n",
       "    }\n",
       "</style>\n",
       "<table border=\"1\" class=\"dataframe\">\n",
       "  <thead>\n",
       "    <tr style=\"text-align: right;\">\n",
       "      <th></th>\n",
       "      <th>g_12</th>\n",
       "      <th>age</th>\n",
       "      <th>dept</th>\n",
       "      <th>gender</th>\n",
       "    </tr>\n",
       "  </thead>\n",
       "  <tbody>\n",
       "    <tr>\n",
       "      <th>0</th>\n",
       "      <td>335</td>\n",
       "      <td>30.0</td>\n",
       "      <td>Political Science</td>\n",
       "      <td>Male</td>\n",
       "    </tr>\n",
       "    <tr>\n",
       "      <th>1</th>\n",
       "      <td>343</td>\n",
       "      <td>30.0</td>\n",
       "      <td>Anesthesia</td>\n",
       "      <td>Male</td>\n",
       "    </tr>\n",
       "    <tr>\n",
       "      <th>2</th>\n",
       "      <td>435</td>\n",
       "      <td>29.0</td>\n",
       "      <td>Public Administration</td>\n",
       "      <td>Male</td>\n",
       "    </tr>\n",
       "    <tr>\n",
       "      <th>3</th>\n",
       "      <td>385</td>\n",
       "      <td>28.0</td>\n",
       "      <td>Construction Engineering</td>\n",
       "      <td>Male</td>\n",
       "    </tr>\n",
       "    <tr>\n",
       "      <th>4</th>\n",
       "      <td>371</td>\n",
       "      <td>28.0</td>\n",
       "      <td>Construction Engineering</td>\n",
       "      <td>Male</td>\n",
       "    </tr>\n",
       "  </tbody>\n",
       "</table>\n",
       "</div>"
      ],
      "text/plain": [
       "  g_12   age                      dept gender\n",
       "0  335  30.0         Political Science   Male\n",
       "1  343  30.0                Anesthesia   Male\n",
       "2  435  29.0     Public Administration   Male\n",
       "3  385  28.0  Construction Engineering   Male\n",
       "4  371  28.0  Construction Engineering   Male"
      ]
     },
     "execution_count": 31,
     "metadata": {},
     "output_type": "execute_result"
    }
   ],
   "source": [
    "new_data.head()"
   ]
  },
  {
   "cell_type": "markdown",
   "metadata": {},
   "source": [
    "We aslo use index location to extract specific rows and columns from a given DataFrame"
   ]
  },
  {
   "cell_type": "code",
   "execution_count": 39,
   "metadata": {},
   "outputs": [],
   "source": [
    "specific_row_column = new_data.iloc[10:50,1:5] # The first range for rows and the second range for columns"
   ]
  },
  {
   "cell_type": "code",
   "execution_count": 38,
   "metadata": {},
   "outputs": [
    {
     "data": {
      "text/html": [
       "<div>\n",
       "<style scoped>\n",
       "    .dataframe tbody tr th:only-of-type {\n",
       "        vertical-align: middle;\n",
       "    }\n",
       "\n",
       "    .dataframe tbody tr th {\n",
       "        vertical-align: top;\n",
       "    }\n",
       "\n",
       "    .dataframe thead th {\n",
       "        text-align: right;\n",
       "    }\n",
       "</style>\n",
       "<table border=\"1\" class=\"dataframe\">\n",
       "  <thead>\n",
       "    <tr style=\"text-align: right;\">\n",
       "      <th></th>\n",
       "      <th>age</th>\n",
       "      <th>dept</th>\n",
       "      <th>gender</th>\n",
       "    </tr>\n",
       "  </thead>\n",
       "  <tbody>\n",
       "    <tr>\n",
       "      <th>11</th>\n",
       "      <td>27.0</td>\n",
       "      <td>Industrial Engineering</td>\n",
       "      <td>Male</td>\n",
       "    </tr>\n",
       "    <tr>\n",
       "      <th>12</th>\n",
       "      <td>27.0</td>\n",
       "      <td>Textile Engineering</td>\n",
       "      <td>Male</td>\n",
       "    </tr>\n",
       "    <tr>\n",
       "      <th>13</th>\n",
       "      <td>27.0</td>\n",
       "      <td>Industrial Engineering</td>\n",
       "      <td>Male</td>\n",
       "    </tr>\n",
       "    <tr>\n",
       "      <th>16</th>\n",
       "      <td>27.0</td>\n",
       "      <td>Construction Engineering</td>\n",
       "      <td>Male</td>\n",
       "    </tr>\n",
       "    <tr>\n",
       "      <th>17</th>\n",
       "      <td>27.0</td>\n",
       "      <td>Surveying Engineering</td>\n",
       "      <td>Male</td>\n",
       "    </tr>\n",
       "  </tbody>\n",
       "</table>\n",
       "</div>"
      ],
      "text/plain": [
       "     age                      dept gender\n",
       "11  27.0    Industrial Engineering   Male\n",
       "12  27.0       Textile Engineering   Male\n",
       "13  27.0    Industrial Engineering   Male\n",
       "16  27.0  Construction Engineering   Male\n",
       "17  27.0     Surveying Engineering   Male"
      ]
     },
     "execution_count": 38,
     "metadata": {},
     "output_type": "execute_result"
    }
   ],
   "source": [
    "specific_row_column.head()"
   ]
  },
  {
   "cell_type": "code",
   "execution_count": null,
   "metadata": {},
   "outputs": [],
   "source": []
  }
 ],
 "metadata": {
  "kernelspec": {
   "display_name": ".venv",
   "language": "python",
   "name": "python3"
  },
  "language_info": {
   "codemirror_mode": {
    "name": "ipython",
    "version": 3
   },
   "file_extension": ".py",
   "mimetype": "text/x-python",
   "name": "python",
   "nbconvert_exporter": "python",
   "pygments_lexer": "ipython3",
   "version": "3.12.6"
  }
 },
 "nbformat": 4,
 "nbformat_minor": 2
}
