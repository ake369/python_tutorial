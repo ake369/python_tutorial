{
 "cells": [
  {
   "cell_type": "code",
   "execution_count": null,
   "metadata": {},
   "outputs": [],
   "source": [
    "import pandas as pd"
   ]
  },
  {
   "cell_type": "code",
   "execution_count": null,
   "metadata": {},
   "outputs": [],
   "source": [
    "# Creating Employee DataFrame\n",
    "employee = pd.DataFrame({\n",
    "    \"id\": [1, 2, 3, 4, 5],\n",
    "    \"name\": [\"Joe\", \"Jim\", \"Henry\", \"Sam\", \"Max\"],\n",
    "    \"salary\": [70000, 90000, 80000, 60000, 90000],\n",
    "    \"departmentId\": [1, 1, 2, 2, 1]\n",
    "})\n",
    "\n",
    "# Creating Department DataFrame\n",
    "department = pd.DataFrame({\n",
    "    \"id\": [1, 2],\n",
    "    \"name\": [\"IT\", \"Sales\"]\n",
    "})"
   ]
  },
  {
   "cell_type": "code",
   "execution_count": null,
   "metadata": {},
   "outputs": [],
   "source": [
    "print(employee)\n",
    "print(department)"
   ]
  },
  {
   "cell_type": "code",
   "execution_count": null,
   "metadata": {},
   "outputs": [],
   "source": [
    "merge_df = employee.merge(department, left_on = 'departmentId', right_on='id', suffixes=('_emp','_dept'))\n",
    "merge_df"
   ]
  },
  {
   "cell_type": "code",
   "execution_count": null,
   "metadata": {},
   "outputs": [],
   "source": [
    "max_salaries = merge_df.groupby('name_dept')['salary'].max().reset_index()\n",
    "max_salaries"
   ]
  },
  {
   "cell_type": "code",
   "execution_count": null,
   "metadata": {},
   "outputs": [],
   "source": [
    "results_df = merge_df.merge(max_salaries,on=['name_dept','salary'])\n",
    "results_df\n"
   ]
  },
  {
   "cell_type": "code",
   "execution_count": null,
   "metadata": {},
   "outputs": [],
   "source": [
    "results_df = results_df.rename(columns={'name_emp':'Employee', 'name_dept':'Department', 'salary':'Salary'})"
   ]
  },
  {
   "cell_type": "code",
   "execution_count": null,
   "metadata": {},
   "outputs": [],
   "source": [
    "print(results_df[['Employee','Department','Salary']])"
   ]
  },
  {
   "cell_type": "markdown",
   "metadata": {},
   "source": [
    "***We can handle ranking scores*** in a *Pandas DataFrame* using the ```.rank()``` method. \n",
    "- It allows you to assign ranks based on values in a column, \n",
    "- It handles ties in different ways.\n",
    "  - *Examples in Ranking Scores*"
   ]
  },
  {
   "cell_type": "code",
   "execution_count": null,
   "metadata": {},
   "outputs": [],
   "source": [
    "import pandas as pd\n",
    "\n",
    "df = pd.DataFrame({\"name\": [\"Alice\", \"Bob\", \"Charlie\", \"David\", \"Eve\"],\n",
    "        \"score\": [90, 85, 90, 80, 75]})\n",
    "# Rank scores (default: average rank for ties)\n",
    "df[\"rank\"] = df[\"score\"].rank(ascending=False)\n",
    "print(df)\n"
   ]
  },
  {
   "cell_type": "markdown",
   "metadata": {},
   "source": [
    "**Ranking Methods in ```.rank()```**\n",
    "*You can control how ties are handled using the method parameter:*\n",
    "* ```average``` (default) → Assigns the average rank to tied values.\n",
    "* ```min``` → Tied values get the lowest rank.\n",
    "* ```max``` → Tied values get the highest rank.\n",
    "* ```first``` → Ranks in the order they appear.\n",
    "* ```dense``` → Like min, but without gaps in ranking.\n"
   ]
  },
  {
   "cell_type": "code",
   "execution_count": null,
   "metadata": {},
   "outputs": [],
   "source": [
    "# Examples\n",
    "df[\"rank_min\"] = df[\"score\"].rank(ascending=False, method=\"min\")\n",
    "print(df)\n"
   ]
  },
  {
   "cell_type": "code",
   "execution_count": null,
   "metadata": {},
   "outputs": [],
   "source": [
    "df[\"rank_max\"] = df[\"score\"].rank(ascending=False, method=\"max\")\n",
    "print(df)"
   ]
  },
  {
   "cell_type": "code",
   "execution_count": null,
   "metadata": {},
   "outputs": [],
   "source": [
    "df[\"rank_dense\"] = df[\"score\"].rank(ascending=False, method=\"dense\")\n",
    "print(df)"
   ]
  },
  {
   "cell_type": "code",
   "execution_count": null,
   "metadata": {},
   "outputs": [],
   "source": [
    "scores_df = pd.DataFrame({\n",
    "    'id':[1,2,3,4,5,6],\n",
    "    'score':[3.50,3.65,4.00,3.85,4.00,3.65]\n",
    "})"
   ]
  },
  {
   "cell_type": "code",
   "execution_count": null,
   "metadata": {},
   "outputs": [],
   "source": [
    "def order_scores(scores:pd.DataFrame) -> pd.DataFrame:\n",
    "    scores = scores.sort_values(by='score', ascending=False)\n",
    "    scores['rank'] = scores['score'].rank(ascending=False, method='dense')\n",
    "    return scores[['score','rank']]\n"
   ]
  },
  {
   "cell_type": "code",
   "execution_count": null,
   "metadata": {},
   "outputs": [],
   "source": [
    "order_scores(scores=scores_df)"
   ]
  },
  {
   "cell_type": "markdown",
   "metadata": {},
   "source": [
    "Table: Person\n",
    "\n",
    "+-------------+---------+\n",
    "| Column Name | Type    |\n",
    "+-------------+---------+\n",
    "| id          | int     |\n",
    "| email       | varchar |\n",
    "+-------------+---------+\n",
    "id is the primary key (column with unique values) for this table.\n",
    "Each row of this table contains an email. The emails will not contain uppercase letters.\n",
    " \n",
    "\n",
    "Write a solution to delete all duplicate emails, keeping only one unique email with the smallest id.\n",
    "\n",
    "For SQL users, please note that you are supposed to write a DELETE statement and not a SELECT one.\n",
    "\n",
    "For Pandas users, please note that you are supposed to modify Person in place.\n",
    "\n",
    "After running your script, the answer shown is the Person table. The driver will first compile and run your piece of code and then show the Person table. The final order of the Person table does not matter.\n",
    "\n",
    "The result format is in the following example.\n",
    "\n",
    " \n",
    "\n",
    "Example 1:\n",
    "\n",
    "Input: \n",
    "Person table:\n",
    "+----+------------------+\n",
    "| id | email            |\n",
    "+----+------------------+\n",
    "| 1  | john@example.com |\n",
    "| 2  | bob@example.com  |\n",
    "| 3  | john@example.com |\n",
    "+----+------------------+\n",
    "Output: \n",
    "+----+------------------+\n",
    "| id | email            |\n",
    "+----+------------------+\n",
    "| 1  | john@example.com |\n",
    "| 2  | bob@example.com  |\n",
    "+----+------------------+\n",
    "Explanation: john@example.com is repeated two times. We keep the row with the smallest Id = 1."
   ]
  },
  {
   "cell_type": "code",
   "execution_count": null,
   "metadata": {},
   "outputs": [],
   "source": [
    "import pandas as pd\n",
    "\n",
    "def delete_duplicate_emails(Person: pd.DataFrame) -> None:\n",
    "    Person.sort_values(by='id',inplace=True)\n",
    "    Person.drop_duplicates(subset=\"email\", keep=\"first\", inplace=True)\n"
   ]
  },
  {
   "cell_type": "code",
   "execution_count": null,
   "metadata": {},
   "outputs": [],
   "source": [
    "import pandas as pd\n",
    "\n",
    "# Example wide-format DataFrame\n",
    "df = pd.DataFrame({\n",
    "    \"id\": [1, 2, 3],\n",
    "    \"name\": [\"Alice\", \"Bob\", \"Charlie\"],\n",
    "    \"math_score\": [90, 85, 88],\n",
    "    \"science_score\": [92, 80, 87]\n",
    "})\n",
    "\n",
    "# Convert wide to long format\n",
    "long_df = df.melt(id_vars=[\"id\", \"name\"], var_name=\"subject\", value_name=\"score\")\n",
    "\n",
    "print(long_df)\n",
    "print(df)\n"
   ]
  },
  {
   "cell_type": "code",
   "execution_count": null,
   "metadata": {},
   "outputs": [],
   "source": [
    "product = pd.DataFrame({\n",
    "    'product_id':[0,1],\n",
    "    'store1':[95,70],\n",
    "    'store2':[100,None],\n",
    "    'store3':[105,80]\n",
    "})"
   ]
  },
  {
   "cell_type": "code",
   "execution_count": null,
   "metadata": {},
   "outputs": [],
   "source": [
    "df_long = product.melt(id_vars=['product_id'], var_name='store', value_name='price')"
   ]
  },
  {
   "cell_type": "code",
   "execution_count": null,
   "metadata": {},
   "outputs": [],
   "source": [
    "print(df_long)"
   ]
  },
  {
   "cell_type": "code",
   "execution_count": null,
   "metadata": {},
   "outputs": [],
   "source": [
    "df_long.dropna().sort_values(by='product_id',inplace=False)"
   ]
  },
  {
   "cell_type": "code",
   "execution_count": null,
   "metadata": {},
   "outputs": [],
   "source": [
    "import pandas as pd\n",
    "\n",
    "def rearrange_products_table(products: pd.DataFrame) -> pd.DataFrame:\n",
    "    long_df = products.melt(id_vars=['product_id'], var_name = 'store',value_name='price')\n",
    "    long_df = long_df.dropna().sort_values(by='product_id',inplace=False)\n",
    "    return long_df\n",
    "\n",
    "------------+--------+\n",
    "| account_id | income |\n",
    "+------------+--------+\n",
    "| 3          | 108939 |\n",
    "| 2          | 12747  |\n",
    "| 8          | 87709  |\n",
    "| 6          | 91796  |"
   ]
  },
  {
   "cell_type": "code",
   "execution_count": null,
   "metadata": {},
   "outputs": [],
   "source": [
    "accounts = pd.DataFrame({\n",
    "    'account_id': [3,2,8,6],\n",
    "    'income': [108939, 12747,87709,91796] \n",
    "})"
   ]
  },
  {
   "cell_type": "code",
   "execution_count": null,
   "metadata": {},
   "outputs": [],
   "source": [
    "print(accounts)"
   ]
  },
  {
   "cell_type": "markdown",
   "metadata": {},
   "source": [
    "able: Accounts\n",
    "\n",
    "+-------------+------+\n",
    "| Column Name | Type |\n",
    "+-------------+------+\n",
    "| account_id  | int  |\n",
    "| income      | int  |\n",
    "+-------------+------+\n",
    "account_id is the primary key (column with unique values) for this table.\n",
    "Each row contains information about the monthly income for one bank account.\n",
    " \n",
    "\n",
    "Write a solution to calculate the number of bank accounts for each salary category. The salary categories are:\n",
    "\n",
    "\"Low Salary\": All the salaries strictly less than $20000.\n",
    "\"Average Salary\": All the salaries in the inclusive range [$20000, $50000].\n",
    "\"High Salary\": All the salaries strictly greater than $50000.\n",
    "The result table must contain all three categories. If there are no accounts in a category, return 0.\n",
    "\n",
    "Return the result table in any order.\n",
    "\n",
    "The result format is in the following example.\n",
    "\n",
    " \n",
    "\n",
    "Example 1:\n",
    "\n",
    "Input: \n",
    "Accounts table:\n",
    "+------------+--------+\n",
    "| account_id | income |\n",
    "+------------+--------+\n",
    "| 3          | 108939 |\n",
    "| 2          | 12747  |\n",
    "| 8          | 87709  |\n",
    "| 6          | 91796  |\n",
    "+------------+--------+\n",
    "Output: \n",
    "+----------------+----------------+\n",
    "| category       | accounts_count |\n",
    "+----------------+----------------+\n",
    "| Low Salary     | 1              |\n",
    "| Average Salary | 0              |\n",
    "| High Salary    | 3              |\n",
    "+----------------+----------------+\n",
    "Explanation: \n",
    "Low Salary: Account 2.\n",
    "Average Salary: No accounts.\n",
    "High Salary: Accounts 3, 6, and 8."
   ]
  },
  {
   "cell_type": "code",
   "execution_count": null,
   "metadata": {},
   "outputs": [],
   "source": [
    "\n",
    "def count_salary_categories(accounts: pd.DataFrame) -> pd.DataFrame:\n",
    "    categories = {\n",
    "        \"Low Salary\": (accounts[\"income\"] < 20000).sum(),\n",
    "        \"Average Salary\": ((accounts[\"income\"] >= 20000) & (accounts[\"income\"] <= 50000)).sum(),\n",
    "        \"High Salary\": (accounts[\"income\"] > 50000).sum(),\n",
    "    }\n",
    "    return pd.DataFrame(categories.items(), columns=[\"category\", \"accounts_count\"])"
   ]
  },
  {
   "cell_type": "markdown",
   "metadata": {},
   "source": [
    "**How to convert dictionary items into pandas DataFrame**"
   ]
  },
  {
   "cell_type": "code",
   "execution_count": null,
   "metadata": {},
   "outputs": [],
   "source": [
    "# Let's create a dictionary item called 'customers'\n",
    "customers ={\n",
    "    'customer_id':[1,2,3,4],\n",
    "    'name':['Sami','Dave','Dagi','Beti'],\n",
    "    'city':['AA','DD','HW','BD']\n",
    "}"
   ]
  },
  {
   "cell_type": "code",
   "execution_count": null,
   "metadata": {},
   "outputs": [],
   "source": [
    "print(customers)"
   ]
  },
  {
   "cell_type": "code",
   "execution_count": null,
   "metadata": {},
   "outputs": [],
   "source": [
    "customers_df = pd.DataFrame(customers)\n",
    "print(customers_df)"
   ]
  },
  {
   "cell_type": "code",
   "execution_count": null,
   "metadata": {},
   "outputs": [],
   "source": [
    "from collections import Counter\n",
    "data =  ['pc','phone','mac','pc','mac','mac','pc']\n",
    "Counter(data)"
   ]
  },
  {
   "cell_type": "code",
   "execution_count": null,
   "metadata": {},
   "outputs": [],
   "source": [
    "# Create dic with name and score\n",
    "grades = {\n",
    "    'Alice':85,\n",
    "    'Bob':92,\n",
    "    'Charlie':78\n",
    "}"
   ]
  },
  {
   "cell_type": "code",
   "execution_count": null,
   "metadata": {},
   "outputs": [],
   "source": [
    "grades['David'] = 98"
   ]
  },
  {
   "cell_type": "code",
   "execution_count": null,
   "metadata": {},
   "outputs": [],
   "source": [
    "print(grades)\n",
    "grades['Alice']=89"
   ]
  },
  {
   "cell_type": "code",
   "execution_count": null,
   "metadata": {},
   "outputs": [],
   "source": [
    "grades['Bob']=90 # Modifying the values for Bob\n",
    "grades.pop('David')"
   ]
  },
  {
   "cell_type": "code",
   "execution_count": null,
   "metadata": {},
   "outputs": [],
   "source": [
    "print(grades)"
   ]
  },
  {
   "cell_type": "code",
   "execution_count": null,
   "metadata": {},
   "outputs": [],
   "source": [
    "grades_df = pd.DataFrame(grades.items(), columns=['name','score'])"
   ]
  },
  {
   "cell_type": "code",
   "execution_count": null,
   "metadata": {},
   "outputs": [],
   "source": [
    "print(grades_df)"
   ]
  },
  {
   "cell_type": "code",
   "execution_count": null,
   "metadata": {},
   "outputs": [],
   "source": [
    "from collections import Counter\n",
    "words = [\"apple\", \"banana\", \"apple\", \"orange\", \"banana\", \"apple\", \"grape\"]\n",
    "words_count = Counter(words)\n",
    "print(words_count)"
   ]
  },
  {
   "cell_type": "code",
   "execution_count": null,
   "metadata": {},
   "outputs": [],
   "source": [
    "words_count.items()"
   ]
  },
  {
   "cell_type": "code",
   "execution_count": null,
   "metadata": {},
   "outputs": [],
   "source": [
    "pd.DataFrame(words_count.items(),columns=['firut_item','count'])"
   ]
  },
  {
   "cell_type": "code",
   "execution_count": null,
   "metadata": {},
   "outputs": [],
   "source": [
    "from collections import defaultdict\n",
    "count = defaultdict(int)\n",
    "count['banana']+=1\n",
    "print(count[\"apple\"])"
   ]
  },
  {
   "cell_type": "code",
   "execution_count": null,
   "metadata": {},
   "outputs": [],
   "source": [
    "department = {\n",
    "    'Math':15,\n",
    "    'Phy': 12,\n",
    "    'Chemy':10,\n",
    "    'Bio':6\n",
    "}"
   ]
  },
  {
   "cell_type": "code",
   "execution_count": null,
   "metadata": {},
   "outputs": [],
   "source": [
    "print(department.items())"
   ]
  },
  {
   "cell_type": "code",
   "execution_count": null,
   "metadata": {},
   "outputs": [],
   "source": [
    "import pandas as pd\n",
    "dept_items = department.items()\n",
    "dept_df = pd.DataFrame(dept_items, columns=['Department','Number_of_students'])\n",
    "print(dept_df)"
   ]
  },
  {
   "cell_type": "markdown",
   "metadata": {},
   "source": [
    "- pivot, melt, groupby, merge, join, dict, str manipulation, str.contains(),\n",
    "- rename table colunm name\n",
    "- convert  dict to pd.Dataframe\n",
    "dict.items()\n",
    "drop_duplicates(subset='column_name', keep = first, inplace=True)\n",
    "dropna()\n",
    "sort_values()\n",
    ".max().reset_index()\n",
    "\n"
   ]
  },
  {
   "cell_type": "code",
   "execution_count": 1,
   "metadata": {},
   "outputs": [],
   "source": [
    "import pandas as pd"
   ]
  },
  {
   "cell_type": "markdown",
   "metadata": {},
   "source": [
    "Assume we have a employee and department tables:\n",
    "where departmentId is forign key in employee table."
   ]
  },
  {
   "cell_type": "code",
   "execution_count": 49,
   "metadata": {},
   "outputs": [],
   "source": [
    "employee = pd.DataFrame({\n",
    "    'id':[1,2,3,4,5],\n",
    "    'name':['dani','josi','babe','sol','mar'],\n",
    "    'departmentId': [1,3,2,3,1],\n",
    "    'salary':[2500,7000,4000,7000,5200]\n",
    "})"
   ]
  },
  {
   "cell_type": "code",
   "execution_count": 14,
   "metadata": {},
   "outputs": [],
   "source": [
    "department = pd.DataFrame({\n",
    "    'id':[1,2,3],\n",
    "    'name':['sales','marketing','IT']\n",
    "})"
   ]
  },
  {
   "cell_type": "markdown",
   "metadata": {},
   "source": [
    "Now using this tables, display a table:\n",
    "-  containing a maximum salary \n",
    "-  and corresponding department."
   ]
  },
  {
   "cell_type": "markdown",
   "metadata": {},
   "source": [
    "Your display should contain a table with three columns:\n",
    "column_1 = 'Employee', column_2 = 'Department' and column_3 = 'Salary'"
   ]
  },
  {
   "cell_type": "code",
   "execution_count": 24,
   "metadata": {},
   "outputs": [],
   "source": [
    "def max_salaries(employee:pd.DataFrame, department:pd.DataFrame) -> pd.DataFrame:\n",
    "    merge_ = employee.merge(department, left_on='departmentId', right_on='id', suffixes=('_emp','_dept'))\n",
    "    max_salary = merge_.groupby('name_dept')['salary'].max().reset_index()\n",
    "    max_result = merge_.merge(max_salary,on=['name_dept','salary'])\n",
    "    max_result = max_result.rename(columns={'name_dept':'Department', 'name_emp':'Employee','salary':'Salary'})\n",
    "    return max_result[['Employee','Department','Salary']].sort_values(by='Salary', ascending=False)\n"
   ]
  },
  {
   "cell_type": "code",
   "execution_count": 25,
   "metadata": {},
   "outputs": [
    {
     "data": {
      "text/html": [
       "<div>\n",
       "<style scoped>\n",
       "    .dataframe tbody tr th:only-of-type {\n",
       "        vertical-align: middle;\n",
       "    }\n",
       "\n",
       "    .dataframe tbody tr th {\n",
       "        vertical-align: top;\n",
       "    }\n",
       "\n",
       "    .dataframe thead th {\n",
       "        text-align: right;\n",
       "    }\n",
       "</style>\n",
       "<table border=\"1\" class=\"dataframe\">\n",
       "  <thead>\n",
       "    <tr style=\"text-align: right;\">\n",
       "      <th></th>\n",
       "      <th>Employee</th>\n",
       "      <th>Department</th>\n",
       "      <th>Salary</th>\n",
       "    </tr>\n",
       "  </thead>\n",
       "  <tbody>\n",
       "    <tr>\n",
       "      <th>0</th>\n",
       "      <td>josi</td>\n",
       "      <td>IT</td>\n",
       "      <td>7000</td>\n",
       "    </tr>\n",
       "    <tr>\n",
       "      <th>2</th>\n",
       "      <td>sol</td>\n",
       "      <td>IT</td>\n",
       "      <td>7000</td>\n",
       "    </tr>\n",
       "    <tr>\n",
       "      <th>3</th>\n",
       "      <td>mar</td>\n",
       "      <td>sales</td>\n",
       "      <td>5200</td>\n",
       "    </tr>\n",
       "    <tr>\n",
       "      <th>1</th>\n",
       "      <td>babe</td>\n",
       "      <td>marketing</td>\n",
       "      <td>4000</td>\n",
       "    </tr>\n",
       "  </tbody>\n",
       "</table>\n",
       "</div>"
      ],
      "text/plain": [
       "  Employee Department  Salary\n",
       "0     josi         IT    7000\n",
       "2      sol         IT    7000\n",
       "3      mar      sales    5200\n",
       "1     babe  marketing    4000"
      ]
     },
     "execution_count": 25,
     "metadata": {},
     "output_type": "execute_result"
    }
   ],
   "source": [
    "max_salaries(employee=employee,department=department)"
   ]
  },
  {
   "cell_type": "markdown",
   "metadata": {},
   "source": [
    "Find the number of *rows* and *columns* of a pandas DataFrame. \n",
    "- Use employee table."
   ]
  },
  {
   "cell_type": "code",
   "execution_count": 60,
   "metadata": {},
   "outputs": [],
   "source": [
    "from typing import List"
   ]
  },
  {
   "cell_type": "code",
   "execution_count": 64,
   "metadata": {},
   "outputs": [
    {
     "name": "stdout",
     "output_type": "stream",
     "text": [
      "   no_of_rows  no_of_columns\n",
      "0           5              4\n"
     ]
    }
   ],
   "source": [
    "print(df_shape)"
   ]
  },
  {
   "cell_type": "code",
   "execution_count": 56,
   "metadata": {},
   "outputs": [
    {
     "name": "stdout",
     "output_type": "stream",
     "text": [
      "[0    5\n",
      "Name: no_of_rows, dtype: int64, 0    4\n",
      "Name: no_of_columns, dtype: int64]\n"
     ]
    }
   ],
   "source": [
    "print(f\"{[df_shape.no_of_rows,df_shape.no_of_columns]}\")"
   ]
  },
  {
   "cell_type": "code",
   "execution_count": 51,
   "metadata": {},
   "outputs": [
    {
     "name": "stdout",
     "output_type": "stream",
     "text": [
      "   no_of_rows  no_of_columns\n",
      "0           5              4\n"
     ]
    }
   ],
   "source": [
    "print(df_shape)"
   ]
  },
  {
   "cell_type": "code",
   "execution_count": 72,
   "metadata": {},
   "outputs": [],
   "source": [
    "def no_rows_columns(employee:pd.DataFrame) -> List[int]:\n",
    "    df_shape = pd.DataFrame({\n",
    "        'no_of_rows':[employee.shape[0]],\n",
    "        'no_of_columns':[employee.shape[1]]\n",
    "    })\n",
    "    return [int(df_shape.iloc[0,0]), int(df_shape.iloc[0,1])]"
   ]
  },
  {
   "cell_type": "code",
   "execution_count": 73,
   "metadata": {},
   "outputs": [
    {
     "data": {
      "text/plain": [
       "[5, 4]"
      ]
     },
     "execution_count": 73,
     "metadata": {},
     "output_type": "execute_result"
    }
   ],
   "source": [
    "no_rows_columns(employee=employee)"
   ]
  },
  {
   "cell_type": "code",
   "execution_count": 66,
   "metadata": {},
   "outputs": [],
   "source": [
    "employee = pd.DataFrame({\n",
    "    'id':[1,2,3,4,5],\n",
    "    'name':['dani','josi','babe','sol','mar'],\n",
    "    'departmentId': [1,3,2,3,1],\n",
    "    'salary':[2500,7000,4000,7000,5200]\n",
    "})"
   ]
  },
  {
   "cell_type": "code",
   "execution_count": 31,
   "metadata": {},
   "outputs": [
    {
     "data": {
      "text/html": [
       "<div>\n",
       "<style scoped>\n",
       "    .dataframe tbody tr th:only-of-type {\n",
       "        vertical-align: middle;\n",
       "    }\n",
       "\n",
       "    .dataframe tbody tr th {\n",
       "        vertical-align: top;\n",
       "    }\n",
       "\n",
       "    .dataframe thead th {\n",
       "        text-align: right;\n",
       "    }\n",
       "</style>\n",
       "<table border=\"1\" class=\"dataframe\">\n",
       "  <thead>\n",
       "    <tr style=\"text-align: right;\">\n",
       "      <th></th>\n",
       "      <th>id</th>\n",
       "      <th>name</th>\n",
       "      <th>departmentId</th>\n",
       "      <th>salary</th>\n",
       "    </tr>\n",
       "  </thead>\n",
       "  <tbody>\n",
       "    <tr>\n",
       "      <th>0</th>\n",
       "      <td>1</td>\n",
       "      <td>dani</td>\n",
       "      <td>1</td>\n",
       "      <td>2500</td>\n",
       "    </tr>\n",
       "    <tr>\n",
       "      <th>1</th>\n",
       "      <td>2</td>\n",
       "      <td>josi</td>\n",
       "      <td>3</td>\n",
       "      <td>7000</td>\n",
       "    </tr>\n",
       "    <tr>\n",
       "      <th>2</th>\n",
       "      <td>3</td>\n",
       "      <td>babe</td>\n",
       "      <td>2</td>\n",
       "      <td>4000</td>\n",
       "    </tr>\n",
       "    <tr>\n",
       "      <th>3</th>\n",
       "      <td>4</td>\n",
       "      <td>sol</td>\n",
       "      <td>3</td>\n",
       "      <td>7000</td>\n",
       "    </tr>\n",
       "    <tr>\n",
       "      <th>4</th>\n",
       "      <td>5</td>\n",
       "      <td>mar</td>\n",
       "      <td>1</td>\n",
       "      <td>5200</td>\n",
       "    </tr>\n",
       "  </tbody>\n",
       "</table>\n",
       "</div>"
      ],
      "text/plain": [
       "   id  name  departmentId  salary\n",
       "0   1  dani             1    2500\n",
       "1   2  josi             3    7000\n",
       "2   3  babe             2    4000\n",
       "3   4   sol             3    7000\n",
       "4   5   mar             1    5200"
      ]
     },
     "execution_count": 31,
     "metadata": {},
     "output_type": "execute_result"
    }
   ],
   "source": [
    "employee"
   ]
  },
  {
   "cell_type": "code",
   "execution_count": 78,
   "metadata": {},
   "outputs": [
    {
     "name": "stdout",
     "output_type": "stream",
     "text": [
      "[5, 4]\n"
     ]
    }
   ],
   "source": [
    "\n",
    "df_shape1 = pd.DataFrame({\n",
    "    'no_of_rows':[employee.index.value_counts().sum()],\n",
    "    'no_of_columns':[employee.columns.value_counts().sum()]\n",
    "})\n",
    "print([int(df_shape1.iloc[0,0]), int(df_shape1.iloc[0,1])])"
   ]
  },
  {
   "cell_type": "markdown",
   "metadata": {},
   "source": [
    "* You are given a 0-indexed 2D integer matrix grid of size n * n with values in the range [1, n2]. \n",
    "* Each integer appears exactly once except a which appears twice and b which is missing. \n",
    "* The task is to find the repeating and missing numbers a and b.\n",
    "\n",
    "*Return a 0-indexed integer array ans of size 2 where ans[0] equals to a and ans[1] equals to b.*\n",
    "\n",
    " \n",
    "**Example 1:**\n",
    "\n",
    "- Input: grid = [[1,3],[2,2]]\n",
    "- Output: [2,4]\n",
    "- Explanation: Number 2 is repeated and number 4 is missing so the answer is [2,4]."
   ]
  },
  {
   "cell_type": "code",
   "execution_count": 81,
   "metadata": {},
   "outputs": [
    {
     "name": "stdout",
     "output_type": "stream",
     "text": [
      "[2, 4]\n",
      "[9, 5]\n"
     ]
    }
   ],
   "source": [
    "from collections import Counter\n",
    "\n",
    "def findErrorNums(grid):\n",
    "    n = len(grid)\n",
    "    flattened = [num for row in grid for num in row]  # Flatten the 2D grid into a 1D list\n",
    "    count = Counter(flattened)  # Count occurrences of each number\n",
    "    \n",
    "    repeated =[]\n",
    "    missing = []\n",
    "    for num in range(1, n * n + 1):\n",
    "        if count[num] == 2:\n",
    "            repeated = num\n",
    "        elif num not in count:\n",
    "            missing = num\n",
    "            \n",
    "    return [repeated, missing]\n",
    "\n",
    "# Example cases\n",
    "print(findErrorNums([[1,3],[2,2]]))  # Output: [2, 4]\n",
    "print(findErrorNums([[9,1,7],[8,9,2],[3,4,6]]))  # Output: [9, 5]\n"
   ]
  },
  {
   "cell_type": "code",
   "execution_count": 84,
   "metadata": {},
   "outputs": [
    {
     "name": "stdout",
     "output_type": "stream",
     "text": [
      "[2, 4]\n",
      "[9, 5]\n"
     ]
    }
   ],
   "source": [
    "def findErrorNums(grid):\n",
    "    n = len(grid)\n",
    "    flattened = [num for row in grid for num in row] \n",
    "    freq = {} \n",
    "    repeated = missing = None\n",
    "    for num in flattened:\n",
    "        if num in freq:\n",
    "            repeated = num\n",
    "        else:\n",
    "            freq[num] = 1\n",
    "    for num in range(1, n * n + 1):\n",
    "        if num not in freq:\n",
    "            missing = num\n",
    "            break\n",
    "    \n",
    "    return [repeated, missing]\n",
    "\n",
    "\n",
    "print(findErrorNums([[1,3],[2,2]]))  # Output: [2, 4]\n",
    "print(findErrorNums([[9,1,7],[8,9,2],[3,4,6]]))  # Output: [9, 5]\n"
   ]
  },
  {
   "cell_type": "code",
   "execution_count": 88,
   "metadata": {},
   "outputs": [],
   "source": [
    "students = pd.DataFrame({\n",
    "    'student_id':[101,2,3,4],\n",
    "    'name':['Ade','Selam','Debra','Song'],\n",
    "    'age':[20,23,26,30]\n",
    "})"
   ]
  },
  {
   "cell_type": "code",
   "execution_count": 96,
   "metadata": {},
   "outputs": [],
   "source": [
    "def select_id(students:pd.DataFrame) -> pd.DataFrame:\n",
    "    df = students.loc[students['student_id']==101,['name','age']]\n",
    "    return df"
   ]
  },
  {
   "cell_type": "code",
   "execution_count": 97,
   "metadata": {},
   "outputs": [
    {
     "data": {
      "text/html": [
       "<div>\n",
       "<style scoped>\n",
       "    .dataframe tbody tr th:only-of-type {\n",
       "        vertical-align: middle;\n",
       "    }\n",
       "\n",
       "    .dataframe tbody tr th {\n",
       "        vertical-align: top;\n",
       "    }\n",
       "\n",
       "    .dataframe thead th {\n",
       "        text-align: right;\n",
       "    }\n",
       "</style>\n",
       "<table border=\"1\" class=\"dataframe\">\n",
       "  <thead>\n",
       "    <tr style=\"text-align: right;\">\n",
       "      <th></th>\n",
       "      <th>name</th>\n",
       "      <th>age</th>\n",
       "    </tr>\n",
       "  </thead>\n",
       "  <tbody>\n",
       "    <tr>\n",
       "      <th>0</th>\n",
       "      <td>Ade</td>\n",
       "      <td>20</td>\n",
       "    </tr>\n",
       "  </tbody>\n",
       "</table>\n",
       "</div>"
      ],
      "text/plain": [
       "  name  age\n",
       "0  Ade   20"
      ]
     },
     "execution_count": 97,
     "metadata": {},
     "output_type": "execute_result"
    }
   ],
   "source": [
    "select_id(students=students)"
   ]
  },
  {
   "cell_type": "code",
   "execution_count": 98,
   "metadata": {},
   "outputs": [],
   "source": [
    "def dropMissingData(students: pd.DataFrame) -> pd.DataFrame:\n",
    "    df = students.dropna()\n",
    "    return df"
   ]
  }
 ],
 "metadata": {
  "kernelspec": {
   "display_name": ".venv",
   "language": "python",
   "name": "python3"
  },
  "language_info": {
   "codemirror_mode": {
    "name": "ipython",
    "version": 3
   },
   "file_extension": ".py",
   "mimetype": "text/x-python",
   "name": "python",
   "nbconvert_exporter": "python",
   "pygments_lexer": "ipython3",
   "version": "3.12.6"
  }
 },
 "nbformat": 4,
 "nbformat_minor": 2
}
