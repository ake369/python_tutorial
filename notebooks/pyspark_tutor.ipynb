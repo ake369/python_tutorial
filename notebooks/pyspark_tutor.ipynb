{
 "cells": [
  {
   "cell_type": "code",
   "execution_count": 2,
   "id": "76809f12",
   "metadata": {},
   "outputs": [],
   "source": [
    "import pyspark"
   ]
  },
  {
   "cell_type": "code",
   "execution_count": 3,
   "id": "ca4c22f7-a2b0-4f54-99aa-5d1a4e822d46",
   "metadata": {},
   "outputs": [],
   "source": [
    "from pyspark.sql import SparkSession"
   ]
  },
  {
   "cell_type": "code",
   "execution_count": 4,
   "id": "25497595-46ca-4918-a710-7143bde869d6",
   "metadata": {},
   "outputs": [],
   "source": [
    "# Initialize Spark session\n",
    "spark = SparkSession.builder.appName(\"Sample CSV Data\").getOrCreate()"
   ]
  },
  {
   "cell_type": "code",
   "execution_count": 6,
   "id": "7cd13f77-943d-40c4-a7b3-cc4555425acf",
   "metadata": {},
   "outputs": [],
   "source": [
    "# Load the CSV file\n",
    "df = spark.read.csv(\"../data/data.csv\", header=True, inferSchema=True)"
   ]
  },
  {
   "cell_type": "code",
   "execution_count": 7,
   "id": "81a60d11-59cd-427e-9f59-5dede7c43158",
   "metadata": {},
   "outputs": [
    {
     "name": "stdout",
     "output_type": "stream",
     "text": [
      "+---------+------+-----+--------------------+-----------+--------------+-----+----+--------------------+\n",
      "|   stu_id|gender|not_d|                dept|     region|marital_status|  age|g_12|             college|\n",
      "+---------+------+-----+--------------------+-----------+--------------+-----+----+--------------------+\n",
      "|R/2791/06|  Male|    6|   Political Science|       Afar|        Single| 30.0| 335|Social Science an...|\n",
      "|R/2253/06|  Male|    4|          Anesthesia|       Afar|        Single| 30.0| 343|            Medicine|\n",
      "|R/1737/06|  Male|    1|Public Administra...|       Afar|        Single| 29.0| 435|Business and Econ...|\n",
      "|R/0268/06|  Male|    2|Construction Engi...|       Afar|        Single| 28.0| 385|Institute of Tech...|\n",
      "|R/0400/06|  Male|    2|Construction Engi...|       Afar|        Single| 28.0| 371|Institute of Tech...|\n",
      "|R/3300/08|  Male|    2|Mechanical Engine...|     Tigray|             1|153.0| 472|Institute of Tech...|\n",
      "|R/0293/06|  Male|    2|Chemical Engineering|       SNNP|        Single| 93.0| 380|Institute of Tech...|\n",
      "|R/0337/06|  Male|    2| Textile Engineering|Addis Ababa|        Single| 27.0| 440|Institute of Tech...|\n",
      "|R/0797/06|  Male|    2|Construction Engi...|Addis Ababa|             1| 27.0| 367|Institute of Tech...|\n",
      "|R/0862/06|Female|    2|   Civil Engineering|Addis Ababa|             1| 27.0| 349|Institute of Tech...|\n",
      "|R/0885/06|  Male|    2|Construction Engi...|Addis Ababa|        Single| 27.0| 372|Institute of Tech...|\n",
      "|R/0920/06|  Male|    2|Industrial Engine...|Addis Ababa|        Single| 27.0| 378|Institute of Tech...|\n",
      "|R/1469/06|  Male|    2| Textile Engineering|Addis Ababa|        Single| 27.0| 382|Institute of Tech...|\n",
      "|R/0991/06|  Male|    2|Industrial Engine...|Addis Ababa|        Single| 27.0| 409|Institute of Tech...|\n",
      "|R/1119/06|Female|    2|Electrical Engine...|Addis Ababa|             1| 27.0| 344|Institute of Tech...|\n",
      "|R/1378/06|Female|    2|   Civil Engineering|Addis Ababa|        Single| 27.0| 352|Institute of Tech...|\n",
      "|R/0539/06|  Male|    2|Construction Engi...|     Amhara|        Single| 27.0| 372|Institute of Tech...|\n",
      "|R/1566/06|  Male|    2|Surveying Enginee...|Addis Ababa|        Single| 27.0| 382|Institute of Tech...|\n",
      "|R/1127/06|Female|    2|   Civil Engineering|Addis Ababa|        Single| 27.0| 358|Institute of Tech...|\n",
      "|R/2765/06|Female|    5|             Biology|     Amhara|        Single| 27.0| 318|Natural and Compu...|\n",
      "+---------+------+-----+--------------------+-----------+--------------+-----+----+--------------------+\n",
      "only showing top 20 rows\n",
      "\n"
     ]
    }
   ],
   "source": [
    "# Show the data\n",
    "df.show()"
   ]
  },
  {
   "cell_type": "code",
   "execution_count": 8,
   "id": "75a6a137-60e0-4a84-94b8-941a0d0d5f27",
   "metadata": {},
   "outputs": [
    {
     "name": "stdout",
     "output_type": "stream",
     "text": [
      "root\n",
      " |-- stu_id: string (nullable = true)\n",
      " |-- gender: string (nullable = true)\n",
      " |-- not_d: integer (nullable = true)\n",
      " |-- dept: string (nullable = true)\n",
      " |-- region: string (nullable = true)\n",
      " |-- marital_status: string (nullable = true)\n",
      " |-- age: double (nullable = true)\n",
      " |-- g_12: string (nullable = true)\n",
      " |-- college: string (nullable = true)\n",
      "\n"
     ]
    }
   ],
   "source": [
    "df.printSchema()"
   ]
  },
  {
   "cell_type": "code",
   "execution_count": 11,
   "id": "5539ecf6-986b-4dcb-9e1a-d2418f7fbdfc",
   "metadata": {},
   "outputs": [
    {
     "name": "stdout",
     "output_type": "stream",
     "text": [
      "+---------+------+--------------------+--------------------+\n",
      "|   stu_id|gender|                dept|             college|\n",
      "+---------+------+--------------------+--------------------+\n",
      "|R/2791/06|  Male|   Political Science|Social Science an...|\n",
      "|R/2253/06|  Male|          Anesthesia|            Medicine|\n",
      "|R/1737/06|  Male|Public Administra...|Business and Econ...|\n",
      "|R/0268/06|  Male|Construction Engi...|Institute of Tech...|\n",
      "|R/0400/06|  Male|Construction Engi...|Institute of Tech...|\n",
      "|R/3300/08|  Male|Mechanical Engine...|Institute of Tech...|\n",
      "|R/0293/06|  Male|Chemical Engineering|Institute of Tech...|\n",
      "|R/0337/06|  Male| Textile Engineering|Institute of Tech...|\n",
      "|R/0797/06|  Male|Construction Engi...|Institute of Tech...|\n",
      "|R/0862/06|Female|   Civil Engineering|Institute of Tech...|\n",
      "|R/0885/06|  Male|Construction Engi...|Institute of Tech...|\n",
      "|R/0920/06|  Male|Industrial Engine...|Institute of Tech...|\n",
      "|R/1469/06|  Male| Textile Engineering|Institute of Tech...|\n",
      "|R/0991/06|  Male|Industrial Engine...|Institute of Tech...|\n",
      "|R/1119/06|Female|Electrical Engine...|Institute of Tech...|\n",
      "|R/1378/06|Female|   Civil Engineering|Institute of Tech...|\n",
      "|R/0539/06|  Male|Construction Engi...|Institute of Tech...|\n",
      "|R/1566/06|  Male|Surveying Enginee...|Institute of Tech...|\n",
      "|R/1127/06|Female|   Civil Engineering|Institute of Tech...|\n",
      "|R/2765/06|Female|             Biology|Natural and Compu...|\n",
      "+---------+------+--------------------+--------------------+\n",
      "only showing top 20 rows\n",
      "\n"
     ]
    }
   ],
   "source": [
    "df.select('stu_id','gender','dept','college').show()"
   ]
  },
  {
   "cell_type": "code",
   "execution_count": 12,
   "id": "38202457-80b5-47d6-ac19-5bceb31cb221",
   "metadata": {},
   "outputs": [
    {
     "name": "stdout",
     "output_type": "stream",
     "text": [
      "+---------+------+-----+--------------------+--------+--------------+-----+----+--------------------+\n",
      "|   stu_id|gender|not_d|                dept|  region|marital_status|  age|g_12|             college|\n",
      "+---------+------+-----+--------------------+--------+--------------+-----+----+--------------------+\n",
      "|R/3300/08|  Male|    2|Mechanical Engine...|  Tigray|             1|153.0| 472|Institute of Tech...|\n",
      "|R/0293/06|  Male|    2|Chemical Engineering|    SNNP|        Single| 93.0| 380|Institute of Tech...|\n",
      "|R/3274/08|Female|    2|     Pre Engineering|  Oromia|             1|148.0| 353|Institute of Tech...|\n",
      "|R/3263/08|Female|    6|          Psychology|Diredawa|             1|144.0| 311|Social Science an...|\n",
      "|R/0802/06|  Male|    2|Mechanical Engine...|  Tigray|             1| 89.0| 379|Institute of Tech...|\n",
      "|R/1126/06|  Male|    4|          Anesthesia|  Tigray|             1| 89.0| 374|            Medicine|\n",
      "|R/1438/06|  Male|    4|          Anesthesia|  Amhara|             1| 89.0| 379|            Medicine|\n",
      "|R/2463/06|  Male|    4|          Anesthesia|  Oromia|             1| 73.0| 386|            Medicine|\n",
      "|R/2436/06|Female|    5|             Biology|  Oromia|        Single| 73.0| 312|Natural and Compu...|\n",
      "|R/1602/06|  Male|    2|   Civil Engineering|  Oromia|             1| 73.0| 362|Institute of Tech...|\n",
      "|R/1007/06|  Male|    2|Construction Engi...|  Oromia|             1| 73.0| 362|Institute of Tech...|\n",
      "|R/2484/06|Female|    5|         Mathematics|  Oromia|        Single| 73.0| 311|Natural and Compu...|\n",
      "|R/0574/06|  Male|    2|Industrial Engine...|  Oromia|        Single| 73.0| 373|Institute of Tech...|\n",
      "|R/0543/06|  Male|    2|Industrial Engine...|  Oromia|             1| 73.0| 384|Institute of Tech...|\n",
      "|R/0074/06|  Male|    2|    Computer Science|  Oromia|             1| 73.0| 398|Institute of Tech...|\n",
      "|R/0809/06|  Male|    2|Industrial Engine...|  Oromia|        Single| 73.0| 377|Institute of Tech...|\n",
      "|R/1532/06|  Male|    4|           Midwifery|  Oromia|        Single| 73.0| 370|            Medicine|\n",
      "|R/0913/06|  Male|    2|Industrial Engine...|  Oromia|        Single| 73.0| 368|Institute of Tech...|\n",
      "|R/0796/06|  Male|    2|Surveying Enginee...|  Oromia|        Single| 73.0| 374|Institute of Tech...|\n",
      "|R/0385/06|  Male|    2|Industrial Engine...|  Oromia|             1| 73.0| 408|Institute of Tech...|\n",
      "+---------+------+-----+--------------------+--------+--------------+-----+----+--------------------+\n",
      "only showing top 20 rows\n",
      "\n"
     ]
    }
   ],
   "source": [
    "df.filter(df.age>30).show()"
   ]
  },
  {
   "cell_type": "code",
   "execution_count": 9,
   "id": "9f2b40bb-7e36-4abc-98dd-57bdff522eaa",
   "metadata": {},
   "outputs": [
    {
     "name": "stdout",
     "output_type": "stream",
     "text": [
      "+---+---------------+---+-----------+------+\n",
      "| id|           name|age|       city|salary|\n",
      "+---+---------------+---+-----------+------+\n",
      "|  4|      Bob Brown| 45|    Houston| 90000|\n",
      "|  7| Michael Miller| 40|San Antonio| 85000|\n",
      "| 10|Olivia Anderson| 31|   San Jose| 82000|\n",
      "+---+---------------+---+-----------+------+\n",
      "\n"
     ]
    }
   ],
   "source": [
    "df.filter(df.salary>80000).show()"
   ]
  },
  {
   "cell_type": "code",
   "execution_count": 10,
   "id": "660a19d1-ada1-4832-9822-354eb5e34a9e",
   "metadata": {},
   "outputs": [],
   "source": [
    "from pyspark.sql.functions import col"
   ]
  },
  {
   "cell_type": "code",
   "execution_count": 11,
   "id": "aea39ca7-5dfd-4371-8917-0a888009b36c",
   "metadata": {},
   "outputs": [
    {
     "name": "stdout",
     "output_type": "stream",
     "text": [
      "+---+---------------+---+------------+------+------+\n",
      "| id|           name|age|        city|salary| bonus|\n",
      "+---+---------------+---+------------+------+------+\n",
      "|  1|       John Doe| 28|    New York| 70000|7000.0|\n",
      "|  2|     Jane Smith| 34| Los Angeles| 80000|8000.0|\n",
      "|  3|  Alice Johnson| 22|     Chicago| 60000|6000.0|\n",
      "|  4|      Bob Brown| 45|     Houston| 90000|9000.0|\n",
      "|  5|  Charlie Davis| 30|     Phoenix| 75000|7500.0|\n",
      "|  6|     Eva Wilson| 29|Philadelphia| 72000|7200.0|\n",
      "|  7| Michael Miller| 40| San Antonio| 85000|8500.0|\n",
      "|  8|   Sophia Moore| 26|   San Diego| 68000|6800.0|\n",
      "|  9| William Taylor| 33|      Dallas| 77000|7700.0|\n",
      "| 10|Olivia Anderson| 31|    San Jose| 82000|8200.0|\n",
      "+---+---------------+---+------------+------+------+\n",
      "\n"
     ]
    }
   ],
   "source": [
    " # Add a new column \"bonus\" as 10% of salary\n",
    "df_with_bonus = df.withColumn(\"bonus\", col(\"salary\") * 0.1)\n",
    "df_with_bonus.show()"
   ]
  },
  {
   "cell_type": "code",
   "execution_count": 12,
   "id": "fbea149a-bd69-4593-9659-58e72b700a81",
   "metadata": {},
   "outputs": [
    {
     "name": "stdout",
     "output_type": "stream",
     "text": [
      "+---+---------------+---+------------+------+\n",
      "| id|           name|age|    location|salary|\n",
      "+---+---------------+---+------------+------+\n",
      "|  1|       John Doe| 28|    New York| 70000|\n",
      "|  2|     Jane Smith| 34| Los Angeles| 80000|\n",
      "|  3|  Alice Johnson| 22|     Chicago| 60000|\n",
      "|  4|      Bob Brown| 45|     Houston| 90000|\n",
      "|  5|  Charlie Davis| 30|     Phoenix| 75000|\n",
      "|  6|     Eva Wilson| 29|Philadelphia| 72000|\n",
      "|  7| Michael Miller| 40| San Antonio| 85000|\n",
      "|  8|   Sophia Moore| 26|   San Diego| 68000|\n",
      "|  9| William Taylor| 33|      Dallas| 77000|\n",
      "| 10|Olivia Anderson| 31|    San Jose| 82000|\n",
      "+---+---------------+---+------------+------+\n",
      "\n"
     ]
    }
   ],
   "source": [
    "df_renamed = df.withColumnRenamed(\"city\", \"location\")\n",
    "df_renamed.show()"
   ]
  },
  {
   "cell_type": "code",
   "execution_count": 13,
   "id": "c60463fa-de54-48c2-bfaf-3bcf156b7ef4",
   "metadata": {},
   "outputs": [],
   "source": [
    "from pyspark.sql.functions import sum, avg"
   ]
  },
  {
   "cell_type": "code",
   "execution_count": 14,
   "id": "7be7055c-5158-4d95-87ec-45d742070414",
   "metadata": {},
   "outputs": [
    {
     "name": "stdout",
     "output_type": "stream",
     "text": [
      "+------------+----------+\n",
      "|        city|avg_salary|\n",
      "+------------+----------+\n",
      "|     Phoenix|   75000.0|\n",
      "|      Dallas|   77000.0|\n",
      "| San Antonio|   85000.0|\n",
      "|Philadelphia|   72000.0|\n",
      "| Los Angeles|   80000.0|\n",
      "|   San Diego|   68000.0|\n",
      "|     Chicago|   60000.0|\n",
      "|    San Jose|   82000.0|\n",
      "|     Houston|   90000.0|\n",
      "|    New York|   70000.0|\n",
      "+------------+----------+\n",
      "\n"
     ]
    }
   ],
   "source": [
    "# Average salary by city\n",
    "df.groupBy(\"city\").agg(avg(\"salary\").alias(\"avg_salary\")).show()\n"
   ]
  },
  {
   "cell_type": "code",
   "execution_count": 15,
   "id": "e4e06fcd-ca13-4a17-b050-ca01ff39de06",
   "metadata": {},
   "outputs": [
    {
     "name": "stdout",
     "output_type": "stream",
     "text": [
      "+------------+------------+\n",
      "|        city|total_salary|\n",
      "+------------+------------+\n",
      "|     Phoenix|       75000|\n",
      "|      Dallas|       77000|\n",
      "| San Antonio|       85000|\n",
      "|Philadelphia|       72000|\n",
      "| Los Angeles|       80000|\n",
      "|   San Diego|       68000|\n",
      "|     Chicago|       60000|\n",
      "|    San Jose|       82000|\n",
      "|     Houston|       90000|\n",
      "|    New York|       70000|\n",
      "+------------+------------+\n",
      "\n"
     ]
    }
   ],
   "source": [
    "# Total salary by city\n",
    "df.groupBy(\"city\").agg(sum(\"salary\").alias(\"total_salary\")).show()"
   ]
  },
  {
   "cell_type": "code",
   "execution_count": 16,
   "id": "69784d15-9ffa-4d3a-a1ab-4b91a52b17d6",
   "metadata": {},
   "outputs": [
    {
     "data": {
      "text/plain": [
       "10"
      ]
     },
     "execution_count": 16,
     "metadata": {},
     "output_type": "execute_result"
    }
   ],
   "source": [
    "df.count()  # Total number of rows"
   ]
  },
  {
   "cell_type": "code",
   "execution_count": 17,
   "id": "8d61d0e5-1d76-419c-9346-d5ae743bfdc1",
   "metadata": {},
   "outputs": [
    {
     "name": "stdout",
     "output_type": "stream",
     "text": [
      "+---+---------------+---+------------+------+\n",
      "| id|           name|age|        city|salary|\n",
      "+---+---------------+---+------------+------+\n",
      "|  3|  Alice Johnson| 22|     Chicago| 60000|\n",
      "|  8|   Sophia Moore| 26|   San Diego| 68000|\n",
      "|  1|       John Doe| 28|    New York| 70000|\n",
      "|  6|     Eva Wilson| 29|Philadelphia| 72000|\n",
      "|  5|  Charlie Davis| 30|     Phoenix| 75000|\n",
      "| 10|Olivia Anderson| 31|    San Jose| 82000|\n",
      "|  9| William Taylor| 33|      Dallas| 77000|\n",
      "|  2|     Jane Smith| 34| Los Angeles| 80000|\n",
      "|  7| Michael Miller| 40| San Antonio| 85000|\n",
      "|  4|      Bob Brown| 45|     Houston| 90000|\n",
      "+---+---------------+---+------------+------+\n",
      "\n"
     ]
    }
   ],
   "source": [
    "# Sort by age in ascending order\n",
    "df.sort(\"age\").show()"
   ]
  },
  {
   "cell_type": "code",
   "execution_count": 19,
   "id": "9c14927f-aec6-4746-a58b-cb0aa142493e",
   "metadata": {},
   "outputs": [
    {
     "name": "stdout",
     "output_type": "stream",
     "text": [
      "+---+---------------+---+------------+------+\n",
      "| id|           name|age|        city|salary|\n",
      "+---+---------------+---+------------+------+\n",
      "|  4|      Bob Brown| 45|     Houston| 90000|\n",
      "|  7| Michael Miller| 40| San Antonio| 85000|\n",
      "| 10|Olivia Anderson| 31|    San Jose| 82000|\n",
      "|  2|     Jane Smith| 34| Los Angeles| 80000|\n",
      "|  9| William Taylor| 33|      Dallas| 77000|\n",
      "|  5|  Charlie Davis| 30|     Phoenix| 75000|\n",
      "|  6|     Eva Wilson| 29|Philadelphia| 72000|\n",
      "|  1|       John Doe| 28|    New York| 70000|\n",
      "|  8|   Sophia Moore| 26|   San Diego| 68000|\n",
      "|  3|  Alice Johnson| 22|     Chicago| 60000|\n",
      "+---+---------------+---+------------+------+\n",
      "\n"
     ]
    }
   ],
   "source": [
    "# Sort by salary in descending order\n",
    "df.sort(df.salary.desc()).show()\n"
   ]
  },
  {
   "cell_type": "code",
   "execution_count": 20,
   "id": "9424f465-e295-44fd-b6e6-fac9d41331e5",
   "metadata": {},
   "outputs": [],
   "source": [
    "data = [\n",
    "    (1, \"Engineering\"),\n",
    "    (2, \"HR\"),\n",
    "    (3, \"Finance\"),\n",
    "    (4, \"Engineering\"),\n",
    "    (5, \"Finance\")\n",
    "]"
   ]
  },
  {
   "cell_type": "code",
   "execution_count": 21,
   "id": "2fcaa0fd-2018-4aef-974e-9aba9be7ea6a",
   "metadata": {},
   "outputs": [],
   "source": [
    "columns = [\"id\", \"department\"]"
   ]
  },
  {
   "cell_type": "code",
   "execution_count": 22,
   "id": "8e0dc17a-7a76-4d1f-90b1-bba67ad98bc1",
   "metadata": {},
   "outputs": [],
   "source": [
    "dept_df = spark.createDataFrame(data, columns)"
   ]
  },
  {
   "cell_type": "code",
   "execution_count": null,
   "id": "16aa0da4-069d-40c4-863f-e2be54b7165a",
   "metadata": {},
   "outputs": [],
   "source": []
  }
 ],
 "metadata": {
  "kernelspec": {
   "display_name": ".venv",
   "language": "python",
   "name": "python3"
  },
  "language_info": {
   "codemirror_mode": {
    "name": "ipython",
    "version": 3
   },
   "file_extension": ".py",
   "mimetype": "text/x-python",
   "name": "python",
   "nbconvert_exporter": "python",
   "pygments_lexer": "ipython3",
   "version": "3.12.6"
  }
 },
 "nbformat": 4,
 "nbformat_minor": 5
}
