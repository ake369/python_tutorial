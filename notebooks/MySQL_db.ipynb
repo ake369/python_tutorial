{
 "cells": [
  {
   "cell_type": "markdown",
   "metadata": {},
   "source": [
    "Working with databases (mysql) to get data from tables"
   ]
  },
  {
   "cell_type": "code",
   "execution_count": 1,
   "metadata": {},
   "outputs": [],
   "source": [
    "import pandas as pd\n",
    "from sqlalchemy import create_engine\n",
    "\n",
    "# Define database connection (Replace with your details)\n",
    "db_user = \"root\"\n",
    "db_password = \"magano%40aba\"\n",
    "db_host = \"localhost\"  # Or your database server\n",
    "db_name = \"empa_db\""
   ]
  },
  {
   "cell_type": "code",
   "execution_count": 2,
   "metadata": {},
   "outputs": [],
   "source": [
    "# Create engine\n",
    "engine = create_engine(f\"mysql+mysqlconnector://{db_user}:{db_password}@{db_host}/{db_name}\")"
   ]
  },
  {
   "cell_type": "code",
   "execution_count": 4,
   "metadata": {},
   "outputs": [],
   "source": [
    "table_name = 'users'"
   ]
  },
  {
   "cell_type": "code",
   "execution_count": 5,
   "metadata": {},
   "outputs": [],
   "source": [
    "df = pd.read_sql(f\"SELECT * FROM {table_name}\", engine)"
   ]
  },
  {
   "cell_type": "code",
   "execution_count": 6,
   "metadata": {},
   "outputs": [
    {
     "data": {
      "text/html": [
       "<div>\n",
       "<style scoped>\n",
       "    .dataframe tbody tr th:only-of-type {\n",
       "        vertical-align: middle;\n",
       "    }\n",
       "\n",
       "    .dataframe tbody tr th {\n",
       "        vertical-align: top;\n",
       "    }\n",
       "\n",
       "    .dataframe thead th {\n",
       "        text-align: right;\n",
       "    }\n",
       "</style>\n",
       "<table border=\"1\" class=\"dataframe\">\n",
       "  <thead>\n",
       "    <tr style=\"text-align: right;\">\n",
       "      <th></th>\n",
       "      <th>id</th>\n",
       "      <th>title</th>\n",
       "      <th>first_name</th>\n",
       "      <th>middle_name</th>\n",
       "      <th>last_name</th>\n",
       "      <th>affiliation</th>\n",
       "      <th>email</th>\n",
       "      <th>password</th>\n",
       "      <th>role_id</th>\n",
       "      <th>createdAt</th>\n",
       "      <th>updatedAt</th>\n",
       "    </tr>\n",
       "  </thead>\n",
       "  <tbody>\n",
       "    <tr>\n",
       "      <th>0</th>\n",
       "      <td>1</td>\n",
       "      <td>Dr</td>\n",
       "      <td>Assefa</td>\n",
       "      <td>Gebremichael</td>\n",
       "      <td>Tadesse</td>\n",
       "      <td>Addis Ababa University, Mathematics Department</td>\n",
       "      <td>assefa12.tadesse@aau.edu.et</td>\n",
       "      <td>$2b$10$w0WOto7A3llq4v.o3d7c0OaoXeeN9edPJn37Yyq...</td>\n",
       "      <td>1</td>\n",
       "      <td>2025-02-12 13:27:14</td>\n",
       "      <td>2025-02-12 13:30:50</td>\n",
       "    </tr>\n",
       "    <tr>\n",
       "      <th>1</th>\n",
       "      <td>2</td>\n",
       "      <td>Prof</td>\n",
       "      <td>Yemane</td>\n",
       "      <td>Kassahun</td>\n",
       "      <td>Belay</td>\n",
       "      <td>Hawassa University, Applied Mathematics</td>\n",
       "      <td>yemane.belay@hu.edu.et</td>\n",
       "      <td>$2b$10$w0WOto7A3llq4v.o3d7c0OaoXeeN9edPJn37Yyq...</td>\n",
       "      <td>2</td>\n",
       "      <td>2025-02-12 13:27:14</td>\n",
       "      <td>2025-02-12 13:30:50</td>\n",
       "    </tr>\n",
       "    <tr>\n",
       "      <th>2</th>\n",
       "      <td>3</td>\n",
       "      <td>Prof</td>\n",
       "      <td>Solomon</td>\n",
       "      <td>Tsegaye</td>\n",
       "      <td>Abera</td>\n",
       "      <td>Bahir Dar University, Pure Mathematics</td>\n",
       "      <td>helen@gmail.com</td>\n",
       "      <td>$2b$10$C/spYxwBYXNlFNrEY3Nd4uFP0xTN/nGGirvb5S4...</td>\n",
       "      <td>3</td>\n",
       "      <td>2025-02-12 13:27:14</td>\n",
       "      <td>2025-02-12 13:30:50</td>\n",
       "    </tr>\n",
       "    <tr>\n",
       "      <th>3</th>\n",
       "      <td>4</td>\n",
       "      <td>Mr</td>\n",
       "      <td>Ake</td>\n",
       "      <td>A</td>\n",
       "      <td>Anulo</td>\n",
       "      <td>DDU</td>\n",
       "      <td>abrish@gmail.com</td>\n",
       "      <td>$2a$10$9HSU5FfHhnZNxi3ytgoeZuqd1c1nK0JSoPwPDCv...</td>\n",
       "      <td>1</td>\n",
       "      <td>2025-02-12 21:36:30</td>\n",
       "      <td>2025-02-12 21:36:30</td>\n",
       "    </tr>\n",
       "    <tr>\n",
       "      <th>4</th>\n",
       "      <td>5</td>\n",
       "      <td>Dr</td>\n",
       "      <td>Solomon</td>\n",
       "      <td>M</td>\n",
       "      <td>Abera</td>\n",
       "      <td>AAU</td>\n",
       "      <td>sol@gmail.com</td>\n",
       "      <td>$2a$10$HW7ZV3C52LMXxND1OtILLOgKbzQ3kHthjVSA/Nn...</td>\n",
       "      <td>2</td>\n",
       "      <td>2025-02-12 22:23:10</td>\n",
       "      <td>2025-02-12 22:23:10</td>\n",
       "    </tr>\n",
       "  </tbody>\n",
       "</table>\n",
       "</div>"
      ],
      "text/plain": [
       "   id title first_name   middle_name last_name  \\\n",
       "0   1    Dr     Assefa  Gebremichael   Tadesse   \n",
       "1   2  Prof     Yemane      Kassahun     Belay   \n",
       "2   3  Prof    Solomon       Tsegaye     Abera   \n",
       "3   4    Mr        Ake             A     Anulo   \n",
       "4   5    Dr    Solomon             M     Abera   \n",
       "\n",
       "                                      affiliation  \\\n",
       "0  Addis Ababa University, Mathematics Department   \n",
       "1         Hawassa University, Applied Mathematics   \n",
       "2          Bahir Dar University, Pure Mathematics   \n",
       "3                                             DDU   \n",
       "4                                             AAU   \n",
       "\n",
       "                         email  \\\n",
       "0  assefa12.tadesse@aau.edu.et   \n",
       "1       yemane.belay@hu.edu.et   \n",
       "2              helen@gmail.com   \n",
       "3             abrish@gmail.com   \n",
       "4                sol@gmail.com   \n",
       "\n",
       "                                            password  role_id  \\\n",
       "0  $2b$10$w0WOto7A3llq4v.o3d7c0OaoXeeN9edPJn37Yyq...        1   \n",
       "1  $2b$10$w0WOto7A3llq4v.o3d7c0OaoXeeN9edPJn37Yyq...        2   \n",
       "2  $2b$10$C/spYxwBYXNlFNrEY3Nd4uFP0xTN/nGGirvb5S4...        3   \n",
       "3  $2a$10$9HSU5FfHhnZNxi3ytgoeZuqd1c1nK0JSoPwPDCv...        1   \n",
       "4  $2a$10$HW7ZV3C52LMXxND1OtILLOgKbzQ3kHthjVSA/Nn...        2   \n",
       "\n",
       "            createdAt           updatedAt  \n",
       "0 2025-02-12 13:27:14 2025-02-12 13:30:50  \n",
       "1 2025-02-12 13:27:14 2025-02-12 13:30:50  \n",
       "2 2025-02-12 13:27:14 2025-02-12 13:30:50  \n",
       "3 2025-02-12 21:36:30 2025-02-12 21:36:30  \n",
       "4 2025-02-12 22:23:10 2025-02-12 22:23:10  "
      ]
     },
     "execution_count": 6,
     "metadata": {},
     "output_type": "execute_result"
    }
   ],
   "source": [
    "df.head()"
   ]
  },
  {
   "cell_type": "code",
   "execution_count": 7,
   "metadata": {},
   "outputs": [],
   "source": [
    "df.to_csv('empa_users.csv')"
   ]
  },
  {
   "cell_type": "code",
   "execution_count": null,
   "metadata": {},
   "outputs": [],
   "source": []
  }
 ],
 "metadata": {
  "kernelspec": {
   "display_name": ".venv",
   "language": "python",
   "name": "python3"
  },
  "language_info": {
   "codemirror_mode": {
    "name": "ipython",
    "version": 3
   },
   "file_extension": ".py",
   "mimetype": "text/x-python",
   "name": "python",
   "nbconvert_exporter": "python",
   "pygments_lexer": "ipython3",
   "version": "3.12.6"
  }
 },
 "nbformat": 4,
 "nbformat_minor": 2
}
