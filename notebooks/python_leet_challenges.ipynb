{
 "cells": [
  {
   "cell_type": "markdown",
   "metadata": {},
   "source": []
  },
  {
   "cell_type": "code",
   "execution_count": 4,
   "metadata": {},
   "outputs": [
    {
     "name": "stdout",
     "output_type": "stream",
     "text": [
      "10\n",
      "3\n",
      "1\n"
     ]
    }
   ],
   "source": [
    "def numberOfSubstrings(s: str) -> int:\n",
    "    # Initialize the last occurrence indices of 'a', 'b', and 'c'\n",
    "    last_occurrence = {'a': -1, 'b': -1, 'c': -1}\n",
    "    count = 0  # To store the result\n",
    "\n",
    "    for i, char in enumerate(s):\n",
    "        # Update the last occurrence of the current character\n",
    "        last_occurrence[char] = i\n",
    "\n",
    "        # Find the smallest index among the last occurrences of 'a', 'b', and 'c'\n",
    "        min_last = min(last_occurrence['a'], last_occurrence['b'], last_occurrence['c'])\n",
    "\n",
    "        # If all three characters have occurred at least once, add to the count\n",
    "        if min_last != -1:\n",
    "            count += min_last + 1\n",
    "\n",
    "    return count\n",
    "# Example usage:\n",
    "s1 = \"abcabc\"\n",
    "print(numberOfSubstrings(s1))  # Output: 10\n",
    "\n",
    "s2 = \"aaacb\"\n",
    "print(numberOfSubstrings(s2))  # Output: 3\n",
    "\n",
    "s3 = \"abc\"\n",
    "print(numberOfSubstrings(s3))  # Output: 1"
   ]
  },
  {
   "cell_type": "code",
   "execution_count": 5,
   "metadata": {},
   "outputs": [],
   "source": [
    "class Solution(object):\n",
    "    def numberOfSubstrings(self, s):\n",
    "        \"\"\"\n",
    "        :type s: str\n",
    "        :rtype: int\n",
    "        \"\"\"\n",
    "        last_occurrence = {'a': -1, 'b': -1, 'c': -1}\n",
    "        count = 0\n",
    "        for i, char in enumerate(s):\n",
    "            last_occurrence[char] = i\n",
    "            min_last = min(last_occurrence['a'], last_occurrence['b'], last_occurrence['c'])\n",
    "            if min_last != -1:\n",
    "                count += min_last + 1\n",
    "        return count\n",
    "\n",
    "        "
   ]
  },
  {
   "cell_type": "code",
   "execution_count": null,
   "metadata": {},
   "outputs": [],
   "source": []
  }
 ],
 "metadata": {
  "kernelspec": {
   "display_name": ".venv",
   "language": "python",
   "name": "python3"
  },
  "language_info": {
   "codemirror_mode": {
    "name": "ipython",
    "version": 3
   },
   "file_extension": ".py",
   "mimetype": "text/x-python",
   "name": "python",
   "nbconvert_exporter": "python",
   "pygments_lexer": "ipython3",
   "version": "3.12.6"
  }
 },
 "nbformat": 4,
 "nbformat_minor": 2
}
