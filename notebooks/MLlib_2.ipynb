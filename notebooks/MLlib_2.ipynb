{
 "cells": [
  {
   "cell_type": "code",
   "execution_count": null,
   "metadata": {},
   "outputs": [],
   "source": [
    "from pyspark.sql import SparkSession\n",
    "from pyspark.sql.functions import col, when\n",
    "from pyspark.ml.feature import StringIndexer, VectorAssembler\n",
    "from pyspark.ml.classification import LogisticRegression\n",
    "from pyspark.ml.evaluation import BinaryClassificationEvaluator\n",
    "\n",
    "# Initialize Spark Session\n",
    "spark = SparkSession.builder.appName(\"Titanic_MLlib\").getOrCreate()\n",
    "\n",
    "# Load the dataset\n",
    "data = spark.read.csv(\"titanic.csv\", header=True, inferSchema=True)\n",
    "\n",
    "# Data preprocessing\n",
    "data = data.select(\"Survived\", \"Pclass\", \"Sex\", \"Age\", \"SibSp\", \"Parch\", \"Fare\")\n",
    "data = data.dropna()\n",
    "\n",
    "# Convert categorical column \"Sex\" to numeric\n",
    "indexer = StringIndexer(inputCol=\"Sex\", outputCol=\"SexIndex\")\n",
    "data = indexer.fit(data).transform(data)\n",
    "data = data.drop(\"Sex\")\n",
    "\n",
    "# Assemble features\n",
    "assembler = VectorAssembler(inputCols=[\"Pclass\", \"SexIndex\", \"Age\", \"SibSp\", \"Parch\", \"Fare\"], \n",
    "                            outputCol=\"features\")\n",
    "data = assembler.transform(data).select(\"Survived\", \"features\")\n",
    "\n",
    "# Split dataset into training and testing\n",
    "train_data, test_data = data.randomSplit([0.8, 0.2], seed=42)\n",
    "\n",
    "# Train logistic regression model\n",
    "lr = LogisticRegression(labelCol=\"Survived\", featuresCol=\"features\")\n",
    "model = lr.fit(train_data)\n",
    "\n",
    "# Make predictions\n",
    "predictions = model.transform(test_data)\n",
    "\n",
    "# Evaluate model\n",
    "evaluator = BinaryClassificationEvaluator(labelCol=\"Survived\")\n",
    "auc = evaluator.evaluate(predictions)\n",
    "print(f\"AUC: {auc}\")\n",
    "\n",
    "# Stop Spark session\n",
    "spark.stop()\n"
   ]
  }
 ],
 "metadata": {
  "language_info": {
   "name": "python"
  }
 },
 "nbformat": 4,
 "nbformat_minor": 2
}
