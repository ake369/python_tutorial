{
 "cells": [
  {
   "cell_type": "code",
   "execution_count": 12,
   "metadata": {},
   "outputs": [],
   "source": [
    "class solution(object):\n",
    "    def IsOdd(self,k:int) -> bool:\n",
    "        if (k%2==0):\n",
    "            return False\n",
    "        else:\n",
    "            True\n",
    "        return True\n"
   ]
  },
  {
   "cell_type": "code",
   "execution_count": 42,
   "metadata": {},
   "outputs": [],
   "source": [
    "li = [\"USA\",\"Mexico\",\"Canada\"]"
   ]
  },
  {
   "cell_type": "code",
   "execution_count": 43,
   "metadata": {},
   "outputs": [],
   "source": [
    "li.append(\"Greenland\")"
   ]
  },
  {
   "cell_type": "code",
   "execution_count": 44,
   "metadata": {},
   "outputs": [
    {
     "data": {
      "text/plain": [
       "['USA', 'Mexico', 'Canada', 'Greenland']"
      ]
     },
     "execution_count": 44,
     "metadata": {},
     "output_type": "execute_result"
    }
   ],
   "source": [
    "li"
   ]
  },
  {
   "cell_type": "code",
   "execution_count": 45,
   "metadata": {},
   "outputs": [],
   "source": [
    "li.remove('Greenland')"
   ]
  },
  {
   "cell_type": "code",
   "execution_count": 46,
   "metadata": {},
   "outputs": [
    {
     "data": {
      "text/plain": [
       "['USA', 'Mexico', 'Canada']"
      ]
     },
     "execution_count": 46,
     "metadata": {},
     "output_type": "execute_result"
    }
   ],
   "source": [
    "li"
   ]
  },
  {
   "cell_type": "code",
   "execution_count": 47,
   "metadata": {},
   "outputs": [],
   "source": [
    "li.insert(0,\"Greenland\")"
   ]
  },
  {
   "cell_type": "code",
   "execution_count": 48,
   "metadata": {},
   "outputs": [
    {
     "data": {
      "text/plain": [
       "['Greenland', 'USA', 'Mexico', 'Canada']"
      ]
     },
     "execution_count": 48,
     "metadata": {},
     "output_type": "execute_result"
    }
   ],
   "source": [
    "li"
   ]
  },
  {
   "cell_type": "code",
   "execution_count": 51,
   "metadata": {},
   "outputs": [
    {
     "data": {
      "text/plain": [
       "['Greenland', 'USA']"
      ]
     },
     "execution_count": 51,
     "metadata": {},
     "output_type": "execute_result"
    }
   ],
   "source": [
    "li[:2]"
   ]
  },
  {
   "cell_type": "code",
   "execution_count": 52,
   "metadata": {},
   "outputs": [
    {
     "data": {
      "text/plain": [
       "['Mexico', 'Canada']"
      ]
     },
     "execution_count": 52,
     "metadata": {},
     "output_type": "execute_result"
    }
   ],
   "source": [
    "li[2:]"
   ]
  },
  {
   "cell_type": "code",
   "execution_count": 53,
   "metadata": {},
   "outputs": [
    {
     "data": {
      "text/plain": [
       "['USA', 'Mexico']"
      ]
     },
     "execution_count": 53,
     "metadata": {},
     "output_type": "execute_result"
    }
   ],
   "source": [
    "li[1:3]"
   ]
  },
  {
   "cell_type": "code",
   "execution_count": 54,
   "metadata": {},
   "outputs": [],
   "source": [
    "li = ['USA', 'Mexico', 'Canada', 'Greenland']"
   ]
  },
  {
   "cell_type": "code",
   "execution_count": 63,
   "metadata": {},
   "outputs": [
    {
     "data": {
      "text/plain": [
       "'Green'"
      ]
     },
     "execution_count": 63,
     "metadata": {},
     "output_type": "execute_result"
    }
   ],
   "source": [
    "li[-1][:-4]"
   ]
  },
  {
   "cell_type": "code",
   "execution_count": 64,
   "metadata": {},
   "outputs": [],
   "source": [
    "dic = {\n",
    "    1:'A',\n",
    "    2:'B'\n",
    "}"
   ]
  },
  {
   "cell_type": "code",
   "execution_count": 67,
   "metadata": {},
   "outputs": [
    {
     "data": {
      "text/plain": [
       "'B'"
      ]
     },
     "execution_count": 67,
     "metadata": {},
     "output_type": "execute_result"
    }
   ],
   "source": [
    "dic[2]"
   ]
  },
  {
   "cell_type": "code",
   "execution_count": 68,
   "metadata": {},
   "outputs": [],
   "source": [
    "del dic[1]"
   ]
  },
  {
   "cell_type": "code",
   "execution_count": 69,
   "metadata": {},
   "outputs": [
    {
     "data": {
      "text/plain": [
       "{2: 'B'}"
      ]
     },
     "execution_count": 69,
     "metadata": {},
     "output_type": "execute_result"
    }
   ],
   "source": [
    "dic"
   ]
  },
  {
   "cell_type": "code",
   "execution_count": 70,
   "metadata": {},
   "outputs": [],
   "source": [
    "dic[3]='D'"
   ]
  },
  {
   "cell_type": "code",
   "execution_count": 71,
   "metadata": {},
   "outputs": [
    {
     "data": {
      "text/plain": [
       "{2: 'B', 3: 'D'}"
      ]
     },
     "execution_count": 71,
     "metadata": {},
     "output_type": "execute_result"
    }
   ],
   "source": [
    "dic"
   ]
  },
  {
   "cell_type": "code",
   "execution_count": 72,
   "metadata": {},
   "outputs": [],
   "source": [
    "dic['g']=5"
   ]
  },
  {
   "cell_type": "code",
   "execution_count": 73,
   "metadata": {},
   "outputs": [
    {
     "data": {
      "text/plain": [
       "{2: 'B', 3: 'D', 'g': 5}"
      ]
     },
     "execution_count": 73,
     "metadata": {},
     "output_type": "execute_result"
    }
   ],
   "source": [
    "dic"
   ]
  },
  {
   "cell_type": "code",
   "execution_count": 74,
   "metadata": {},
   "outputs": [],
   "source": [
    "company = departments = {\"Human Resources\":3, \"Sales\":5, \"R&D\":4}"
   ]
  },
  {
   "cell_type": "code",
   "execution_count": 78,
   "metadata": {},
   "outputs": [
    {
     "data": {
      "text/plain": [
       "['Human Resources', 'Sales', 'R&D']"
      ]
     },
     "execution_count": 78,
     "metadata": {},
     "output_type": "execute_result"
    }
   ],
   "source": [
    "list(company.keys())"
   ]
  },
  {
   "cell_type": "code",
   "execution_count": 77,
   "metadata": {},
   "outputs": [
    {
     "data": {
      "text/plain": [
       "[3, 5, 4]"
      ]
     },
     "execution_count": 77,
     "metadata": {},
     "output_type": "execute_result"
    }
   ],
   "source": [
    "list(company.values())"
   ]
  },
  {
   "cell_type": "code",
   "execution_count": 81,
   "metadata": {},
   "outputs": [
    {
     "name": "stdout",
     "output_type": "stream",
     "text": [
      "That is true\n"
     ]
    }
   ],
   "source": [
    "if 2>1:\n",
    "    print('That is true')"
   ]
  },
  {
   "cell_type": "code",
   "execution_count": 92,
   "metadata": {},
   "outputs": [
    {
     "name": "stdout",
     "output_type": "stream",
     "text": [
      "Invalid input, please try again!\n"
     ]
    }
   ],
   "source": [
    "try:\n",
    "    age = int(input(\"Enter your age:\"))\n",
    "    if (age >= 21):\n",
    "        print('You are allowed to drink!')\n",
    "    else:\n",
    "        print('You are NOT allowed to drink!')\n",
    "except ValueError:\n",
    "    print('Invalid input, please try again!')"
   ]
  },
  {
   "cell_type": "code",
   "execution_count": 94,
   "metadata": {},
   "outputs": [
    {
     "name": "stdout",
     "output_type": "stream",
     "text": [
      "Invalid input! Please enter a valid integer.\n",
      "Invalid input! Please enter a valid integer.\n",
      "You are allowed to drink!\n"
     ]
    }
   ],
   "source": [
    "while True:\n",
    "    try:\n",
    "        age = int(input(\"Enter your age: \"))\n",
    "        if age < 0:\n",
    "            print(\"Age cannot be negative!\")\n",
    "        elif age > 120:\n",
    "            print(\"Please enter a realistic age!\")\n",
    "        elif age >= 21:\n",
    "            print('You are allowed to drink!')\n",
    "        else:\n",
    "            print('You are NOT allowed to drink!')\n",
    "        break  # Exit the loop if input is valid\n",
    "    except ValueError:\n",
    "        print(\"Invalid input! Please enter a valid integer.\")"
   ]
  },
  {
   "cell_type": "code",
   "execution_count": 96,
   "metadata": {},
   "outputs": [
    {
     "name": "stdout",
     "output_type": "stream",
     "text": [
      "Other user\n"
     ]
    }
   ],
   "source": [
    "user_email = input(\"Enter your email id:\")\n",
    "if 'gmail' in user_email:\n",
    "    print('This is gmail user')\n",
    "elif 'hotmail' in user_email:\n",
    "    print('This is hotmail user')\n",
    "elif 'yahoo' in user_email:\n",
    "    print('Thsi is yahoo user')\n",
    "else:\n",
    "    print('Other user')\n"
   ]
  },
  {
   "cell_type": "code",
   "execution_count": 97,
   "metadata": {},
   "outputs": [
    {
     "data": {
      "text/plain": [
       "7"
      ]
     },
     "execution_count": 97,
     "metadata": {},
     "output_type": "execute_result"
    }
   ],
   "source": [
    "A = [1,4, 5,8,9,6,12]\n",
    "len(A)"
   ]
  },
  {
   "cell_type": "code",
   "execution_count": 3,
   "metadata": {},
   "outputs": [],
   "source": [
    "from typing import List"
   ]
  },
  {
   "cell_type": "code",
   "execution_count": 14,
   "metadata": {},
   "outputs": [],
   "source": [
    "def longest_consecutive(nums: List[int]) -> int:\n",
    "    if not nums:\n",
    "        return 0\n",
    "    nums_set = set(nums)\n",
    "    longest = 0\n",
    "    for num in nums_set:\n",
    "        if num - 1 not in nums_set:\n",
    "            current_num = num\n",
    "            current_s = 1\n",
    "            while current_num + 1 in nums_set:\n",
    "                current_num+=1\n",
    "                current_s+=1\n",
    "            longest = max(longest, current_s)\n",
    "\n",
    "    return longest\n"
   ]
  },
  {
   "cell_type": "code",
   "execution_count": 15,
   "metadata": {},
   "outputs": [
    {
     "data": {
      "text/plain": [
       "6"
      ]
     },
     "execution_count": 15,
     "metadata": {},
     "output_type": "execute_result"
    }
   ],
   "source": [
    "nums = [5,6,3,4,9,13,2,16,1]\n",
    "longest_consecutive(nums=nums)"
   ]
  },
  {
   "cell_type": "code",
   "execution_count": 12,
   "metadata": {},
   "outputs": [],
   "source": [
    "def longest_consecutive(nums):\n",
    "    if not nums:\n",
    "        return 0\n",
    "\n",
    "    num_set = set(nums)\n",
    "    longest_streak = 0\n",
    "\n",
    "    for num in num_set:\n",
    "        # Start a sequence only if it's the beginning (num - 1 not in set)\n",
    "        if num - 1 not in num_set:\n",
    "            current_num = num\n",
    "            current_streak = 1\n",
    "\n",
    "            while current_num + 1 in num_set:\n",
    "                current_num += 1\n",
    "                current_streak += 1\n",
    "\n",
    "            longest_streak = max(longest_streak, current_streak)\n",
    "\n",
    "    return longest_streak"
   ]
  },
  {
   "cell_type": "code",
   "execution_count": 13,
   "metadata": {},
   "outputs": [
    {
     "name": "stdout",
     "output_type": "stream",
     "text": [
      "4\n",
      "9\n"
     ]
    }
   ],
   "source": [
    "# Example usage:\n",
    "print(longest_consecutive([100, 4, 200, 1, 3, 2]))  # Output: 4\n",
    "print(longest_consecutive([9, 1, 8, 2, 7, 3, 6, 4, 5]))  # Output: 9"
   ]
  },
  {
   "cell_type": "markdown",
   "metadata": {},
   "source": [
    "- *Create a Phone class designed to create mobile phone objects. Define two attributes for the class, price, and brand.*\n",
    "- *In addition to the ```__init__``` method, define two other methods, a getprice, and a getbrand method.*\n",
    "- *The getprice and the getbrand method will display information about the phone price and brand respectively.*"
   ]
  },
  {
   "cell_type": "code",
   "execution_count": null,
   "metadata": {},
   "outputs": [],
   "source": [
    "class Phone():\n",
    "    def __init__(self, price, brand):\n",
    "        self.price = price\n",
    "        self.brand = brand\n",
    "        print('Information about the price and brand')\n",
    "    def getbrand(self):\n",
    "        print('Brand of the phone is:{self.brand}')\n",
    "    def getprice(self):\n",
    "        print('The price of the phone {self.price}')"
   ]
  },
  {
   "cell_type": "code",
   "execution_count": null,
   "metadata": {},
   "outputs": [],
   "source": [
    "class Smartphone(Phone):\n",
    "    def __init__(self,price,screensize, ):\n",
    "         super().__init__(price, \"Beta\") \n",
    "         self.screensize = screensize \n",
    "         def getscreensize(self):\n",
    "             print(\"Mobile screen size: %s\" % self.screensize)"
   ]
  },
  {
   "cell_type": "code",
   "execution_count": 19,
   "metadata": {},
   "outputs": [
    {
     "data": {
      "text/plain": [
       "datetime.datetime(2025, 3, 14, 18, 14, 3, 193123)"
      ]
     },
     "execution_count": 19,
     "metadata": {},
     "output_type": "execute_result"
    }
   ],
   "source": [
    "import datetime\n",
    "datetime.datetime.now()"
   ]
  },
  {
   "cell_type": "code",
   "execution_count": 20,
   "metadata": {},
   "outputs": [
    {
     "data": {
      "text/plain": [
       "<module 'datetime' from 'C:\\\\Python312\\\\Lib\\\\datetime.py'>"
      ]
     },
     "execution_count": 20,
     "metadata": {},
     "output_type": "execute_result"
    }
   ],
   "source": [
    "datetime"
   ]
  },
  {
   "cell_type": "code",
   "execution_count": null,
   "metadata": {},
   "outputs": [],
   "source": [
    "# Open a file and read the text inside it\n",
    "file = open('path','r')\n",
    "file.read()\n",
    "file.close()\n",
    "# To read text line by line:\n",
    "file = open(\"path\",'r')\n",
    "file.readlines()\n",
    "#To open and write inside a text file\n",
    "file = open(\"path\",'a')\n",
    "file.write('The text to write into file')\n",
    "file.close()\n",
    "# open and write file into a text file\n",
    "file = open(\"path\",'w')\n",
    "file.write('This a text to put into the file')\n",
    "file.close()\n",
    "# Use with to loop over\n",
    "with open(\"path\",\"r\") as file:\n",
    "    file.read()"
   ]
  },
  {
   "cell_type": "code",
   "execution_count": 7,
   "metadata": {},
   "outputs": [],
   "source": [
    "# This removed all the existing text file and puts new text 'tensorflow' and 'pandas'\n",
    "file = open(\"requirements.txt\", 'w')\n",
    "file.write('tensorflow\\npandas\\nnumpy\\nmatplotlib.pyplot\\nseaborn')\n",
    "file.close()\n"
   ]
  },
  {
   "cell_type": "code",
   "execution_count": 8,
   "metadata": {},
   "outputs": [],
   "source": [
    "import os"
   ]
  },
  {
   "cell_type": "code",
   "execution_count": 9,
   "metadata": {},
   "outputs": [],
   "source": [
    "os.makedirs('file_handling')"
   ]
  },
  {
   "cell_type": "code",
   "execution_count": 10,
   "metadata": {},
   "outputs": [],
   "source": [
    "os.chdir(\"file_handling\")"
   ]
  },
  {
   "cell_type": "code",
   "execution_count": 14,
   "metadata": {},
   "outputs": [
    {
     "data": {
      "text/plain": [
       "'e:\\\\python_tutorial\\\\file_handling'"
      ]
     },
     "execution_count": 14,
     "metadata": {},
     "output_type": "execute_result"
    }
   ],
   "source": [
    "os.getcwd()"
   ]
  },
  {
   "cell_type": "code",
   "execution_count": 15,
   "metadata": {},
   "outputs": [
    {
     "data": {
      "text/plain": [
       "['.git',\n",
       " '.gitignore',\n",
       " '.ipynb_checkpoints',\n",
       " 'data',\n",
       " 'file_handling',\n",
       " 'hello.py',\n",
       " 'LICENSE',\n",
       " 'Master_python.ipynb',\n",
       " 'models',\n",
       " 'new_data.xlsx',\n",
       " 'notebooks',\n",
       " 'pandas_steps.ipynb',\n",
       " 'python_ds.ipynb',\n",
       " 'README.md',\n",
       " 'requirements.txt']"
      ]
     },
     "execution_count": 15,
     "metadata": {},
     "output_type": "execute_result"
    }
   ],
   "source": [
    "os.listdir('e:\\\\python_tutorial')"
   ]
  },
  {
   "cell_type": "code",
   "execution_count": null,
   "metadata": {},
   "outputs": [],
   "source": [
    "os.chdir('../')"
   ]
  },
  {
   "cell_type": "code",
   "execution_count": 18,
   "metadata": {},
   "outputs": [],
   "source": [
    "os.rmdir(\"file_handling\")"
   ]
  },
  {
   "cell_type": "code",
   "execution_count": 20,
   "metadata": {},
   "outputs": [],
   "source": [
    "import shutil as st"
   ]
  },
  {
   "cell_type": "code",
   "execution_count": null,
   "metadata": {},
   "outputs": [],
   "source": [
    "# To delete a directory with files inside\n",
    "st.rmtree('directory_with_files')"
   ]
  },
  {
   "cell_type": "markdown",
   "metadata": {},
   "source": [
    "- *Write a Python script that will create a new text file in your computer.* \n",
    "- *Then, using looping, write the following lines of text inside the text file:*\n",
    "- ```1145, 1139, 1132, No data, 1141```"
   ]
  },
  {
   "cell_type": "code",
   "execution_count": 22,
   "metadata": {},
   "outputs": [],
   "source": [
    "with open(\"new_file.txt\",'w') as file:\n",
    "    for item in ['1145','1139','1132','No Data','1141']:\n",
    "        file.write(item+'\\n')"
   ]
  },
  {
   "cell_type": "markdown",
   "metadata": {},
   "source": [
    "- *In this exercise, you have to do the reverse of exercise 1 that is reading the existing text file you created in exercise 1, and store the lines of text in a list.*"
   ]
  },
  {
   "cell_type": "code",
   "execution_count": 24,
   "metadata": {},
   "outputs": [],
   "source": [
    "data = []\n",
    "with open('new_file.txt','r') as file:\n",
    "    for i in ['1145','1139','1132','No Data','1141']:\n",
    "        file.readlines()\n",
    "        #print(file.readlines)\n",
    "        data.append(i.strip(\"\\n\"))"
   ]
  },
  {
   "cell_type": "code",
   "execution_count": 25,
   "metadata": {},
   "outputs": [
    {
     "data": {
      "text/plain": [
       "['1145', '1139', '1132', 'No Data', '1141']"
      ]
     },
     "execution_count": 25,
     "metadata": {},
     "output_type": "execute_result"
    }
   ],
   "source": [
    "data"
   ]
  },
  {
   "cell_type": "markdown",
   "metadata": {},
   "source": [
    "**Database handling**"
   ]
  },
  {
   "cell_type": "code",
   "execution_count": 26,
   "metadata": {},
   "outputs": [],
   "source": [
    "import sqlite3\n",
    "\n",
    "db = sqlite3.connect('mydb.db')"
   ]
  },
  {
   "cell_type": "code",
   "execution_count": 27,
   "metadata": {},
   "outputs": [
    {
     "data": {
      "text/plain": [
       "<sqlite3.Cursor at 0x204f312d940>"
      ]
     },
     "execution_count": 27,
     "metadata": {},
     "output_type": "execute_result"
    }
   ],
   "source": [
    "db.execute('create table song ( title text, author text, rating int)')"
   ]
  },
  {
   "cell_type": "code",
   "execution_count": 28,
   "metadata": {},
   "outputs": [],
   "source": [
    "db.commit()"
   ]
  },
  {
   "cell_type": "markdown",
   "metadata": {},
   "source": [
    "*To avoid that, you can add another line before creating the table as follows: ```db.execute('drop table if exists song')```*"
   ]
  },
  {
   "cell_type": "code",
   "execution_count": 29,
   "metadata": {},
   "outputs": [
    {
     "data": {
      "text/plain": [
       "<sqlite3.Cursor at 0x204f312d040>"
      ]
     },
     "execution_count": 29,
     "metadata": {},
     "output_type": "execute_result"
    }
   ],
   "source": [
    "db.execute('insert into song (title, author, rating) values (\"The map of reality\", \"The New Smiths\",9)')"
   ]
  },
  {
   "cell_type": "code",
   "execution_count": 30,
   "metadata": {},
   "outputs": [],
   "source": [
    "db.commit()"
   ]
  },
  {
   "cell_type": "markdown",
   "metadata": {},
   "source": [
    "*If you change your mind about the values you inserted, you can always updtate them using the SQL update keyword as follows:* "
   ]
  },
  {
   "cell_type": "code",
   "execution_count": 31,
   "metadata": {},
   "outputs": [],
   "source": [
    "db.execute('update song set rating = 10 where title = \"The map of reality\"') \n",
    "db.commit()"
   ]
  },
  {
   "cell_type": "code",
   "execution_count": 32,
   "metadata": {},
   "outputs": [],
   "source": [
    "data = db.execute('select * from song')"
   ]
  },
  {
   "cell_type": "code",
   "execution_count": 33,
   "metadata": {},
   "outputs": [
    {
     "name": "stdout",
     "output_type": "stream",
     "text": [
      "('The map of reality', 'The New Smiths', 10)\n"
     ]
    }
   ],
   "source": [
    "for row in data:\n",
    "    print(row)"
   ]
  },
  {
   "cell_type": "markdown",
   "metadata": {},
   "source": [
    "- *Lastly, we will see how we can delete rows from a table using Python.* \n",
    "- *As you might expect, this also employs very few code:\n",
    "```db.execute('delete from song where rating = 10')``` \n",
    "```db.commit()```\n",
    "\n",
    " "
   ]
  },
  {
   "cell_type": "markdown",
   "metadata": {},
   "source": [
    "**Regular expressions**"
   ]
  },
  {
   "cell_type": "code",
   "execution_count": 34,
   "metadata": {},
   "outputs": [
    {
     "data": {
      "text/plain": [
       "<re.Match object; span=(18, 22), match='that'>"
      ]
     },
     "execution_count": 34,
     "metadata": {},
     "output_type": "execute_result"
    }
   ],
   "source": [
    "import re\n",
    "text = \"Here is some text that contains something.\"\n",
    "pattern= \"that\"\n",
    "re.search(pattern, text)\n",
    "\n",
    " "
   ]
  },
  {
   "cell_type": "code",
   "execution_count": 35,
   "metadata": {},
   "outputs": [
    {
     "data": {
      "text/plain": [
       "(18, 22)"
      ]
     },
     "execution_count": 35,
     "metadata": {},
     "output_type": "execute_result"
    }
   ],
   "source": [
    "#If you need, you can extract the span of the pattern,\n",
    "#by applying the span method to the match object as follows: \n",
    "re.search(pattern,text).span()"
   ]
  },
  {
   "cell_type": "code",
   "execution_count": 38,
   "metadata": {},
   "outputs": [
    {
     "data": {
      "text/plain": [
       "18"
      ]
     },
     "execution_count": 38,
     "metadata": {},
     "output_type": "execute_result"
    }
   ],
   "source": [
    "#You can also extract the start index only: \n",
    "re.search(pattern,text).start()"
   ]
  },
  {
   "cell_type": "code",
   "execution_count": 37,
   "metadata": {},
   "outputs": [
    {
     "data": {
      "text/plain": [
       "22"
      ]
     },
     "execution_count": 37,
     "metadata": {},
     "output_type": "execute_result"
    }
   ],
   "source": [
    "#Similarly, you can also get the end index: \n",
    "re.search(pattern,text).end()"
   ]
  },
  {
   "cell_type": "code",
   "execution_count": 39,
   "metadata": {},
   "outputs": [
    {
     "name": "stdout",
     "output_type": "stream",
     "text": [
      "Yes, that was found in the text\n"
     ]
    }
   ],
   "source": [
    "text = \"Here is some text that contains something.\"\n",
    "\n",
    "pattern = \"that\"\n",
    "\n",
    "if re.search(pattern, text):\n",
    "    print(\"Yes, %s was found in the text\" % pattern) \n",
    "else:\n",
    "    print(\"No, %s was not found in the text\" % pattern)"
   ]
  },
  {
   "cell_type": "code",
   "execution_count": 54,
   "metadata": {},
   "outputs": [],
   "source": [
    "def checkPat(pattern:str) -> str:\n",
    "    pattern = input(\"Enter the pattern to be searched:\")\n",
    "    text = \"Here is some text that contains something.\"\n",
    "    if re.search(pattern, text):\n",
    "        print('Yes \"{}\" found in the text'.format(pattern))\n",
    "        print(re.search(pattern, text).span())\n",
    "    else:\n",
    "        print('No! \"{}\" not found in text'.format(pattern))\n",
    "        "
   ]
  },
  {
   "cell_type": "code",
   "execution_count": 55,
   "metadata": {},
   "outputs": [
    {
     "name": "stdout",
     "output_type": "stream",
     "text": [
      "No! \"love\" not found in text\n"
     ]
    }
   ],
   "source": [
    "checkPat(pattern=pattern)"
   ]
  },
  {
   "cell_type": "markdown",
   "metadata": {},
   "source": [
    "**Matching more than one pattern**"
   ]
  },
  {
   "cell_type": "markdown",
   "metadata": {},
   "source": [
    "- *In our previous example, we had only one pattern occurring in the text. If we had two same patterns, the search method would fail to find them both:*\n",
    "```python\n",
    " text = \"Here is some text that contains something that occurs twice.\"\n",
    "```\n",
    "```python\n",
    "pattern= \"that\"\n",
    "```\n",
    "```python\n",
    "re.search(pattern, text)\n",
    "```\n",
    "*This would return this:*\n",
    "```python\n",
    "<_sre.SRE_Match object; span=(18, 22), match='that'>\n",
    "```\n",
    "- As you see, that would capture only the pattern that occurs first.\n",
    "- To capture all patterns, we need to use the findall method as follows: \n",
    "```python\n",
    "text = \"Here is some text that contains something that occurs twice.\"\n",
    "pattern= \"that\"\n",
    "re.findall(pattern, text)\n",
    "```"
   ]
  },
  {
   "cell_type": "code",
   "execution_count": 57,
   "metadata": {},
   "outputs": [
    {
     "data": {
      "text/plain": [
       "2"
      ]
     },
     "execution_count": 57,
     "metadata": {},
     "output_type": "execute_result"
    }
   ],
   "source": [
    "text = \"Here is some text that contains something that occurs twice.\"\n",
    "pattern= \"that\"\n",
    "all_pat = re.findall(pattern, text)\n",
    "len(all_pat)"
   ]
  },
  {
   "cell_type": "markdown",
   "metadata": {},
   "source": [
    "* *If you still want to get match object as return, instead of a list, you would have to use the finditer method.finditer will return an iterator object which contains the set of match objects found during the search. Here is how we would implement it:*\n",
    "```python\n",
    "import re\n",
    "text = \"Here is some text that contains something that occurs twice.\"\n",
    "pattern= \"that\"\n",
    "matches = re.finditer(pattern, text) for i in matches:\n",
    "print(i.span())\n",
    "```"
   ]
  },
  {
   "cell_type": "code",
   "execution_count": 59,
   "metadata": {},
   "outputs": [
    {
     "name": "stdout",
     "output_type": "stream",
     "text": [
      "<callable_iterator object at 0x00000204F2E80370>\n",
      "(18, 22)\n",
      "(42, 46)\n"
     ]
    }
   ],
   "source": [
    "text = \"Here is some text that contains something that occurs twice.\"\n",
    "pattern = 'that'\n",
    "matches = re.finditer(pattern,text) \n",
    "print(matches)\n",
    "for i in matches:\n",
    "    print(i.span())"
   ]
  },
  {
   "cell_type": "code",
   "execution_count": null,
   "metadata": {},
   "outputs": [],
   "source": []
  }
 ],
 "metadata": {
  "kernelspec": {
   "display_name": ".venv",
   "language": "python",
   "name": "python3"
  },
  "language_info": {
   "codemirror_mode": {
    "name": "ipython",
    "version": 3
   },
   "file_extension": ".py",
   "mimetype": "text/x-python",
   "name": "python",
   "nbconvert_exporter": "python",
   "pygments_lexer": "ipython3",
   "version": "3.12.6"
  }
 },
 "nbformat": 4,
 "nbformat_minor": 2
}
